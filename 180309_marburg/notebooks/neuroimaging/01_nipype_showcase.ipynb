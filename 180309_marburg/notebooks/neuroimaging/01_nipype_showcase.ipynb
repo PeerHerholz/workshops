{
 "cells": [
  {
   "cell_type": "markdown",
   "metadata": {},
   "source": [
    "# Why is Nipype so cool?\n",
    "\n",
    "Let's consider a very simple fMRI preprocessing workflow that performs:\n",
    " 1. slice time correction\n",
    " 2. motion correction\n",
    " 3. smoothing"
   ]
  },
  {
   "cell_type": "markdown",
   "metadata": {},
   "source": [
    "# Preparing the preprocessing workflow"
   ]
  },
  {
   "cell_type": "code",
   "execution_count": null,
   "metadata": {},
   "outputs": [],
   "source": [
    "# Import Nodes and Workflows\n",
    "from nipype import Node, Workflow"
   ]
  },
  {
   "cell_type": "code",
   "execution_count": null,
   "metadata": {},
   "outputs": [],
   "source": [
    "# Import interfaces to perform preprocessing\n",
    "from nipype.interfaces.fsl import SliceTimer, MCFLIRT, Smooth"
   ]
  },
  {
   "cell_type": "code",
   "execution_count": null,
   "metadata": {},
   "outputs": [],
   "source": [
    "# Initiate a node to correct for slice wise acquisition\n",
    "slicetimer = Node(SliceTimer(index_dir=False,\n",
    "                             interleaved=True,\n",
    "                             time_repetition=2.5),\n",
    "                  name=\"slicetimer\")"
   ]
  },
  {
   "cell_type": "code",
   "execution_count": null,
   "metadata": {},
   "outputs": [],
   "source": [
    "# Initiate a node to correct for motion\n",
    "mcflirt = Node(MCFLIRT(mean_vol=True,\n",
    "                       save_plots=True),\n",
    "               name=\"mcflirt\")"
   ]
  },
  {
   "cell_type": "code",
   "execution_count": null,
   "metadata": {},
   "outputs": [],
   "source": [
    "# Initiate a node to smooth functional images\n",
    "smooth = Node(Smooth(fwhm=4), name=\"smooth\")"
   ]
  },
  {
   "cell_type": "code",
   "execution_count": null,
   "metadata": {},
   "outputs": [],
   "source": [
    "# Create workflow - a place where to put the preprocessing nodes\n",
    "preproc01 = Workflow(name='preproc01', base_dir='.')"
   ]
  },
  {
   "cell_type": "code",
   "execution_count": null,
   "metadata": {},
   "outputs": [],
   "source": [
    "# Connect the preprocessing nodes in a workflow\n",
    "preproc01.connect([(slicetimer, mcflirt, [('slice_time_corrected_file', 'in_file')]),\n",
    "                   (mcflirt, smooth, [('out_file', 'in_file')])])"
   ]
  },
  {
   "cell_type": "code",
   "execution_count": null,
   "metadata": {},
   "outputs": [],
   "source": [
    "# Write the graph of the workflow to a file\n",
    "preproc01.write_graph(graph2use='flat')"
   ]
  },
  {
   "cell_type": "code",
   "execution_count": null,
   "metadata": {},
   "outputs": [],
   "source": [
    "# Visualize graph\n",
    "from IPython.display import Image\n",
    "Image(filename=\"preproc01/graph_detailed.dot.png\")"
   ]
  },
  {
   "cell_type": "markdown",
   "metadata": {},
   "source": [
    "# Run the workflow on one functional image\n",
    "\n",
    "Now, that we create our workflow, let's run it on a functional image. For this we first need to specify the input file of the very first node, i.e. the `slicetimer` node."
   ]
  },
  {
   "cell_type": "code",
   "execution_count": null,
   "metadata": {},
   "outputs": [],
   "source": [
    "slicetimer.inputs.in_file = '/data/ds000114/sub-01/ses-test/func/sub-01_ses-test_task-fingerfootlips_bold.nii.gz'"
   ]
  },
  {
   "cell_type": "markdown",
   "metadata": {},
   "source": [
    "To show off Nipype's parallelization power, let's run the workflow in parallel, on 5 processors and let's stop the execution time:"
   ]
  },
  {
   "cell_type": "code",
   "execution_count": null,
   "metadata": {},
   "outputs": [],
   "source": [
    "%time preproc01.run('MultiProc', plugin_args={'n_procs': 5})"
   ]
  },
  {
   "cell_type": "markdown",
   "metadata": {},
   "source": [
    "Nice, the whole execution took ~2min. But wait... The parallelization didn't really help.\n",
    "\n",
    "That's true, but because there was no possibility to run the workflow in parallel. Each node depends on the output of the previous node."
   ]
  },
  {
   "cell_type": "markdown",
   "metadata": {},
   "source": [
    "# Results of `preproc01`\n",
    "\n",
    "So, what did we get? Let's look at the output folder `preproc01`:"
   ]
  },
  {
   "cell_type": "code",
   "execution_count": null,
   "metadata": {},
   "outputs": [],
   "source": [
    "!tree preproc01 -I '*js|*json|*pklz|_report|*.dot|*html'"
   ]
  },
  {
   "cell_type": "markdown",
   "metadata": {},
   "source": [
    "# Rerunning of a workflow"
   ]
  },
  {
   "cell_type": "markdown",
   "metadata": {},
   "source": [
    "Now, for fun. Let's run the workflow again, but let's change the `fwhm` value of the Gaussian smoothing kernel to `2`."
   ]
  },
  {
   "cell_type": "code",
   "execution_count": null,
   "metadata": {},
   "outputs": [],
   "source": [
    "smooth.inputs.fwhm = 2"
   ]
  },
  {
   "cell_type": "markdown",
   "metadata": {},
   "source": [
    "And let's run the workflow again."
   ]
  },
  {
   "cell_type": "code",
   "execution_count": null,
   "metadata": {},
   "outputs": [],
   "source": [
    "%time preproc01.run('MultiProc', plugin_args={'n_procs': 5})"
   ]
  },
  {
   "cell_type": "markdown",
   "metadata": {},
   "source": [
    "Interesting, now it only took ~15s to execute the whole workflow again. **What happened?**\n",
    "\n",
    "As you can see from the log above is that Nipype didn't execute the two nodes `slicetimer` and `mclfirt`, because their input values didn't change from the last execution. The `preproc01` workflow therefore only had to rerun the node `smooth`."
   ]
  },
  {
   "cell_type": "markdown",
   "metadata": {},
   "source": [
    "# Running a workflow in parallel"
   ]
  },
  {
   "cell_type": "markdown",
   "metadata": {},
   "source": [
    "Ok, ok... Rerunning a workflow again is faster. That's nice and all, but I want more. You spoke of parallel execution.\n",
    "\n",
    "We saw that the `preproc01` workflow takes about ~2min to execute completely. So, if we would run the workflow on five functional images, it should take about ~10min. Assuming that the execution is done sequentially. Let's see how long it takes if we run it in parallel."
   ]
  },
  {
   "cell_type": "code",
   "execution_count": null,
   "metadata": {},
   "outputs": [],
   "source": [
    "# First, let's copy/clone 'preproc01'\n",
    "preproc02 = preproc01.clone('preproc02')\n",
    "preproc03 = preproc01.clone('preproc03')\n",
    "preproc04 = preproc01.clone('preproc04')\n",
    "preproc05 = preproc01.clone('preproc05')"
   ]
  },
  {
   "cell_type": "code",
   "execution_count": null,
   "metadata": {},
   "outputs": [],
   "source": [
    "# Now, let's create a new workflow that will contain the five preproc workflows\n",
    "metaflow = Workflow(name='metaflow', base_dir='.')"
   ]
  },
  {
   "cell_type": "code",
   "execution_count": null,
   "metadata": {},
   "outputs": [],
   "source": [
    "# Now we can add the five preproc workflows to the bigger metaflow\n",
    "metaflow.add_nodes([preproc01, preproc02, preproc03,\n",
    "                    preproc04, preproc05])"
   ]
  },
  {
   "cell_type": "code",
   "execution_count": null,
   "metadata": {},
   "outputs": [],
   "source": [
    "# As before, let's write the graph of the workflow\n",
    "metaflow.write_graph(graph2use='flat')"
   ]
  },
  {
   "cell_type": "code",
   "execution_count": null,
   "metadata": {},
   "outputs": [],
   "source": [
    "# And visualize the graph\n",
    "from IPython.display import Image\n",
    "Image(filename=\"metaflow/graph_detailed.dot.png\")"
   ]
  },
  {
   "cell_type": "markdown",
   "metadata": {},
   "source": [
    "Ah... so now we can see that the `metaflow` has potential for parallelization. So let's put it to test"
   ]
  },
  {
   "cell_type": "code",
   "execution_count": null,
   "metadata": {
    "scrolled": false
   },
   "outputs": [],
   "source": [
    "%time metaflow.run('MultiProc', plugin_args={'n_procs': 5})"
   ]
  },
  {
   "cell_type": "markdown",
   "metadata": {},
   "source": [
    "This time we can see that Nipype uses all available processors.\n",
    "\n",
    "And if all went well, the total execution time should still be around ~2min. That's why Nipype is so amazing. No more the need of opening multiple SPMs, FSLs, AFNIs etc."
   ]
  },
  {
   "cell_type": "markdown",
   "metadata": {},
   "source": [
    "# Results of `metaflow`"
   ]
  },
  {
   "cell_type": "code",
   "execution_count": null,
   "metadata": {},
   "outputs": [],
   "source": [
    "!tree metaflow -I '*js|*json|*pklz|_report|*.dot|*html'"
   ]
  }
 ],
 "metadata": {
  "kernelspec": {
   "display_name": "Python [default]",
   "language": "python",
   "name": "python3"
  },
  "language_info": {
   "codemirror_mode": {
    "name": "ipython",
    "version": 3
   },
   "file_extension": ".py",
   "mimetype": "text/x-python",
   "name": "python",
   "nbconvert_exporter": "python",
   "pygments_lexer": "ipython3",
   "version": "3.6.3"
  }
 },
 "nbformat": 4,
 "nbformat_minor": 2
}
