{
 "cells": [
  {
   "cell_type": "markdown",
   "metadata": {},
   "source": [
    "# ToDo:\n",
    "\n",
    " - notebook that introduces how to get input data from a BIDS dataset"
   ]
  },
  {
   "cell_type": "markdown",
   "metadata": {},
   "source": [
    "## Data input for BIDS datasets\n",
    "`DataGrabber` and `SelectFiles` are great if you are dealing with generic datasets with arbitrary organization. However if you have decided to use Brain Imaging Data Structure (BIDS) to organized your data (or got your hands on a BIDS dataset) you can take advanted of a formal structure BIDS imposes. In this short tutorial you will learn how to do this."
   ]
  },
  {
   "cell_type": "markdown",
   "metadata": {},
   "source": [
    "## `pybids` - a Python API for working with BIDS datasets\n",
    "`pybids` is a lightweight python API for querying BIDS folder structure for specific files and metadata. You can install it from PyPi:\n",
    "```\n",
    "pip install pybids\n",
    "```\n",
    "Please note it should be already installed in the tutorial Docker image."
   ]
  },
  {
   "cell_type": "markdown",
   "metadata": {},
   "source": [
    "## The `layout` object and simple queries\n",
    "To begin working with pubids we need to initalize a layout object. We will need it to do all of our queries"
   ]
  },
  {
   "cell_type": "code",
   "execution_count": 1,
   "metadata": {
    "collapsed": true
   },
   "outputs": [],
   "source": [
    "from bids.grabbids import BIDSLayout\n",
    "layout = BIDSLayout(\"/data/ds000114/\")"
   ]
  },
  {
   "cell_type": "code",
   "execution_count": 2,
   "metadata": {},
   "outputs": [
    {
     "name": "stdout",
     "output_type": "stream",
     "text": [
      "/data/ds000114/\r\n",
      "├── CHANGES\r\n",
      "├── dataset_description.json\r\n",
      "├── dwi.bval -> .git/annex/objects/JX/4K/MD5E-s335--5bd6fa32ccd0c79e79f9ac63a2c09c1a.bval/MD5E-s335--5bd6fa32ccd0c79e79f9ac63a2c09c1a.bval\r\n",
      "├── dwi.bvec -> .git/annex/objects/Pg/wk/MD5E-s1248--0641c68ff6ee6164928c984541653430.bvec/MD5E-s1248--0641c68ff6ee6164928c984541653430.bvec\r\n",
      "├── sub-01\r\n",
      "│   ├── ses-retest\r\n",
      "│   │   ├── anat\r\n",
      "│   │   │   └── sub-01_ses-retest_T1w.nii.gz -> ../../../.git/annex/objects/xm/25/MD5E-s8503839--3b3b49b2396b59ddd5a73b7f596f9e46.nii.gz/MD5E-s8503839--3b3b49b2396b59ddd5a73b7f596f9e46.nii.gz\r\n",
      "│   │   ├── dwi\r\n",
      "│   │   │   └── sub-01_ses-retest_dwi.nii.gz -> ../../../.git/annex/objects/0K/16/MD5E-s99899518--5ebac8e9e23180638dd68dde10b818be.nii.gz/MD5E-s99899518--5ebac8e9e23180638dd68dde10b818be.nii.gz\r\n",
      "│   │   └── func\r\n",
      "│   │       ├── sub-01_ses-retest_task-covertverbgeneration_bold.nii.gz -> ../../../.git/annex/objects/3q/Qf/MD5E-s22317848--b30f5b2f7a6039a3e384bcb40bec7e55.nii.gz/MD5E-s22317848--b30f5b2f7a6039a3e384bcb40bec7e55.nii.gz\r\n",
      "│   │       ├── sub-01_ses-retest_task-fingerfootlips_bold.nii.gz -> ../../../.git/annex/objects/26/6j/MD5E-s23793248--327e42d440f0557105bf7c05a3b9f1e8.nii.gz/MD5E-s23793248--327e42d440f0557105bf7c05a3b9f1e8.nii.gz\r\n",
      "│   │       ├── sub-01_ses-retest_task-linebisection_bold.nii.gz -> ../../../.git/annex/objects/qv/gf/MD5E-s30728838--58392e3ead9caeefe148a57c71dd5b44.nii.gz/MD5E-s30728838--58392e3ead9caeefe148a57c71dd5b44.nii.gz\r\n",
      "│   │       ├── sub-01_ses-retest_task-linebisection_events.tsv -> ../../../.git/annex/objects/QK/9Q/MD5E-s4934--30ef35f37e4a035beb9105ff6f4e1e1f.tsv/MD5E-s4934--30ef35f37e4a035beb9105ff6f4e1e1f.tsv\r\n",
      "│   │       ├── sub-01_ses-retest_task-overtverbgeneration_bold.nii.gz -> ../../../.git/annex/objects/Fx/6K/MD5E-s11839146--5f62c005467de0dabc6ebcd09c3e7ec3.nii.gz/MD5E-s11839146--5f62c005467de0dabc6ebcd09c3e7ec3.nii.gz\r\n",
      "│   │       └── sub-01_ses-retest_task-overtwordrepetition_bold.nii.gz -> ../../../.git/annex/objects/x3/qW/MD5E-s10162063--a86a0f448872de33a901a6b639e975c9.nii.gz/MD5E-s10162063--a86a0f448872de33a901a6b639e975c9.nii.gz\r\n",
      "│   └── ses-test\r\n",
      "│       ├── anat\r\n",
      "│       │   └── sub-01_ses-test_T1w.nii.gz -> ../../../.git/annex/objects/QP/jm/MD5E-s8677710--d6820f6cb8fb965e864419c14f6a22d5.nii.gz/MD5E-s8677710--d6820f6cb8fb965e864419c14f6a22d5.nii.gz\r\n",
      "│       ├── dwi\r\n",
      "│       │   └── sub-01_ses-test_dwi.nii.gz -> ../../../.git/annex/objects/X2/kJ/MD5E-s104193417--454850ac9ed1c96c40b6b7946e51bf71.nii.gz/MD5E-s104193417--454850ac9ed1c96c40b6b7946e51bf71.nii.gz\r\n",
      "│       └── func\r\n",
      "│           ├── sub-01_ses-test_task-covertverbgeneration_bold.nii.gz -> ../../../.git/annex/objects/mx/zJ/MD5E-s22944165--71b1eda077a1003a177552f6c380323a.nii.gz/MD5E-s22944165--71b1eda077a1003a177552f6c380323a.nii.gz\r\n",
      "│           ├── sub-01_ses-test_task-fingerfootlips_bold.nii.gz -> ../../../.git/annex/objects/k6/4f/MD5E-s24454931--e9ab535d84a922b0c7ed52461244cf47.nii.gz/MD5E-s24454931--e9ab535d84a922b0c7ed52461244cf47.nii.gz\r\n",
      "│           ├── sub-01_ses-test_task-linebisection_bold.nii.gz -> ../../../.git/annex/objects/32/Qq/MD5E-s31617092--151bc230c3b577110883369b6fad0daa.nii.gz/MD5E-s31617092--151bc230c3b577110883369b6fad0daa.nii.gz\r\n",
      "│           ├── sub-01_ses-test_task-linebisection_events.tsv -> ../../../.git/annex/objects/vf/x3/MD5E-s4939--e9cef6b5ba48c5e3236747d208cf9668.tsv/MD5E-s4939--e9cef6b5ba48c5e3236747d208cf9668.tsv\r\n",
      "│           ├── sub-01_ses-test_task-overtverbgeneration_bold.nii.gz -> ../../../.git/annex/objects/p3/fZ/MD5E-s12048980--648c9094579aa5d047a5f6db468f9bc9.nii.gz/MD5E-s12048980--648c9094579aa5d047a5f6db468f9bc9.nii.gz\r\n",
      "│           └── sub-01_ses-test_task-overtwordrepetition_bold.nii.gz -> ../../../.git/annex/objects/56/GV/MD5E-s10362270--6a5c483d118db28ff8a62455def5501c.nii.gz/MD5E-s10362270--6a5c483d118db28ff8a62455def5501c.nii.gz\r\n",
      "├── sub-02\r\n",
      "│   ├── ses-retest\r\n",
      "│   │   ├── anat\r\n",
      "│   │   │   └── sub-02_ses-retest_T1w.nii.gz -> ../../../.git/annex/objects/VV/x2/MD5E-s8901003--6ad41304cbd57904227d914c054dcdc3.nii.gz/MD5E-s8901003--6ad41304cbd57904227d914c054dcdc3.nii.gz\r\n",
      "│   │   ├── dwi\r\n",
      "│   │   │   └── sub-02_ses-retest_dwi.nii.gz -> ../../../.git/annex/objects/ZZ/4X/MD5E-s101314358--9be934908a88073bc070e524651ee665.nii.gz/MD5E-s101314358--9be934908a88073bc070e524651ee665.nii.gz\r\n",
      "│   │   └── func\r\n",
      "│   │       ├── sub-02_ses-retest_task-covertverbgeneration_bold.nii.gz -> ../../../.git/annex/objects/vk/gK/MD5E-s22730907--26df7900a64e1d9f90e17ad0fa53145d.nii.gz/MD5E-s22730907--26df7900a64e1d9f90e17ad0fa53145d.nii.gz\r\n",
      "│   │       ├── sub-02_ses-retest_task-fingerfootlips_bold.nii.gz -> ../../../.git/annex/objects/Jg/vq/MD5E-s24364271--593256c66ce88ed8aaef140a4b37c6ec.nii.gz/MD5E-s24364271--593256c66ce88ed8aaef140a4b37c6ec.nii.gz\r\n",
      "│   │       ├── sub-02_ses-retest_task-linebisection_bold.nii.gz -> ../../../.git/annex/objects/pZ/GJ/MD5E-s31238024--929a3999fa92002e571bec60f7343b65.nii.gz/MD5E-s31238024--929a3999fa92002e571bec60f7343b65.nii.gz\r\n",
      "│   │       ├── sub-02_ses-retest_task-linebisection_events.tsv -> ../../../.git/annex/objects/3K/wG/MD5E-s4888--e89bad630d80cd29bc3abc4349b0c644.tsv/MD5E-s4888--e89bad630d80cd29bc3abc4349b0c644.tsv\r\n",
      "│   │       ├── sub-02_ses-retest_task-overtverbgeneration_bold.nii.gz -> ../../../.git/annex/objects/35/2V/MD5E-s12039294--070d0299974f916bdee0791985381593.nii.gz/MD5E-s12039294--070d0299974f916bdee0791985381593.nii.gz\r\n",
      "│   │       └── sub-02_ses-retest_task-overtwordrepetition_bold.nii.gz -> ../../../.git/annex/objects/Z4/0G/MD5E-s10369674--71d655f61e4ce98ae7761ce76e3c30f9.nii.gz/MD5E-s10369674--71d655f61e4ce98ae7761ce76e3c30f9.nii.gz\r\n",
      "│   └── ses-test\r\n",
      "│       ├── anat\r\n",
      "│       │   └── sub-02_ses-test_T1w.nii.gz -> ../../../.git/annex/objects/qq/gm/MD5E-s10025785--0e790e210a275d76e3f2f4d895df6358.nii.gz/MD5E-s10025785--0e790e210a275d76e3f2f4d895df6358.nii.gz\r\n",
      "│       ├── dwi\r\n",
      "│       │   └── sub-02_ses-test_dwi.nii.gz -> ../../../.git/annex/objects/8x/vp/MD5E-s104222416--86575d07809e9c717079592a12c69344.nii.gz/MD5E-s104222416--86575d07809e9c717079592a12c69344.nii.gz\r\n",
      "│       └── func\r\n",
      "│           ├── sub-02_ses-test_task-covertverbgeneration_bold.nii.gz -> ../../../.git/annex/objects/F6/6J/MD5E-s23349944--2a2b8bc1f3d90e84d879bdd4638103c8.nii.gz/MD5E-s23349944--2a2b8bc1f3d90e84d879bdd4638103c8.nii.gz\r\n",
      "│           ├── sub-02_ses-test_task-fingerfootlips_bold.nii.gz -> ../../../.git/annex/objects/pG/k1/MD5E-s24882575--75c39bee9e25e02c629dfcce1b378589.nii.gz/MD5E-s24882575--75c39bee9e25e02c629dfcce1b378589.nii.gz\r\n",
      "│           ├── sub-02_ses-test_task-linebisection_bold.nii.gz -> ../../../.git/annex/objects/WM/m9/MD5E-s32248732--4cd877de7b4c66e073610dffb67dfbcc.nii.gz/MD5E-s32248732--4cd877de7b4c66e073610dffb67dfbcc.nii.gz\r\n",
      "│           ├── sub-02_ses-test_task-linebisection_events.tsv -> ../../../.git/annex/objects/XJ/2g/MD5E-s4882--01bacc601e70a375193045c052d4a5fe.tsv/MD5E-s4882--01bacc601e70a375193045c052d4a5fe.tsv\r\n",
      "│           ├── sub-02_ses-test_task-overtverbgeneration_bold.nii.gz -> ../../../.git/annex/objects/Jz/zM/MD5E-s12348374--67f259c7e0bbb0fe39e747be5f905a4b.nii.gz/MD5E-s12348374--67f259c7e0bbb0fe39e747be5f905a4b.nii.gz\r\n",
      "│           └── sub-02_ses-test_task-overtwordrepetition_bold.nii.gz -> ../../../.git/annex/objects/6g/Zw/MD5E-s10496422--bae24132d514bb028ca8a3d749363bd9.nii.gz/MD5E-s10496422--bae24132d514bb028ca8a3d749363bd9.nii.gz\r\n",
      "├── sub-03\r\n",
      "│   ├── ses-retest\r\n",
      "│   │   ├── anat\r\n",
      "│   │   │   └── sub-03_ses-retest_T1w.nii.gz -> ../../../.git/annex/objects/64/vk/MD5E-s8125470--75575589e60ce58d95b4d72d3b4bf222.nii.gz/MD5E-s8125470--75575589e60ce58d95b4d72d3b4bf222.nii.gz\r\n",
      "│   │   ├── dwi\r\n",
      "│   │   │   └── sub-03_ses-retest_dwi.nii.gz -> ../../../.git/annex/objects/Pf/07/MD5E-s101660442--50491e142880d5f32b6c33cde372fb05.nii.gz/MD5E-s101660442--50491e142880d5f32b6c33cde372fb05.nii.gz\r\n",
      "│   │   └── func\r\n",
      "│   │       ├── sub-03_ses-retest_task-covertverbgeneration_bold.nii.gz -> ../../../.git/annex/objects/z1/0p/MD5E-s22709259--a01b5167228be96f007e84bab43e8b60.nii.gz/MD5E-s22709259--a01b5167228be96f007e84bab43e8b60.nii.gz\r\n",
      "│   │       ├── sub-03_ses-retest_task-fingerfootlips_bold.nii.gz -> ../../../.git/annex/objects/WG/k5/MD5E-s24175561--769ba7da6cac3318c47bc9215a77359b.nii.gz/MD5E-s24175561--769ba7da6cac3318c47bc9215a77359b.nii.gz\r\n",
      "│   │       ├── sub-03_ses-retest_task-linebisection_bold.nii.gz -> ../../../.git/annex/objects/Qf/QX/MD5E-s31217356--89a8e84fbe0b5f019ce69d4ad643863c.nii.gz/MD5E-s31217356--89a8e84fbe0b5f019ce69d4ad643863c.nii.gz\r\n",
      "│   │       ├── sub-03_ses-retest_task-linebisection_events.tsv -> ../../../.git/annex/objects/1M/Vm/MD5E-s4877--4e73dbd6d1350b687be811d3d116a689.tsv/MD5E-s4877--4e73dbd6d1350b687be811d3d116a689.tsv\r\n",
      "│   │       ├── sub-03_ses-retest_task-overtverbgeneration_bold.nii.gz -> ../../../.git/annex/objects/Xx/q2/MD5E-s11992800--894dac07de9c8cddf6ea7e42f39f5c80.nii.gz/MD5E-s11992800--894dac07de9c8cddf6ea7e42f39f5c80.nii.gz\r\n",
      "│   │       └── sub-03_ses-retest_task-overtwordrepetition_bold.nii.gz -> ../../../.git/annex/objects/7F/8p/MD5E-s10359493--9b3e5cc9933645901049c64c600ec6ca.nii.gz/MD5E-s10359493--9b3e5cc9933645901049c64c600ec6ca.nii.gz\r\n",
      "│   └── ses-test\r\n",
      "│       ├── anat\r\n",
      "│       │   └── sub-03_ses-test_T1w.nii.gz -> ../../../.git/annex/objects/P9/kj/MD5E-s7970968--75bb38265ea96864bfa0b012ba21b0b0.nii.gz/MD5E-s7970968--75bb38265ea96864bfa0b012ba21b0b0.nii.gz\r\n",
      "│       ├── dwi\r\n",
      "│       │   └── sub-03_ses-test_dwi.nii.gz -> ../../../.git/annex/objects/F3/Pf/MD5E-s106544064--badea2659bd4440ff4c20e2f149034cc.nii.gz/MD5E-s106544064--badea2659bd4440ff4c20e2f149034cc.nii.gz\r\n",
      "│       └── func\r\n",
      "│           ├── sub-03_ses-test_task-covertverbgeneration_bold.nii.gz -> ../../../.git/annex/objects/J6/f0/MD5E-s23145742--a792c0592cb77a161eb5d000a618c17c.nii.gz/MD5E-s23145742--a792c0592cb77a161eb5d000a618c17c.nii.gz\r\n",
      "│           ├── sub-03_ses-test_task-fingerfootlips_bold.nii.gz -> ../../../.git/annex/objects/gp/QM/MD5E-s24520513--0fd08e07bbee37ac9efe14c7b265299a.nii.gz/MD5E-s24520513--0fd08e07bbee37ac9efe14c7b265299a.nii.gz\r\n",
      "│           ├── sub-03_ses-test_task-linebisection_bold.nii.gz -> ../../../.git/annex/objects/mP/mg/MD5E-s31785134--76856b9d6c90730144196aa48e4d9a9f.nii.gz/MD5E-s31785134--76856b9d6c90730144196aa48e4d9a9f.nii.gz\r\n",
      "│           ├── sub-03_ses-test_task-linebisection_events.tsv -> ../../../.git/annex/objects/2q/qK/MD5E-s4943--df69ebd4a36adefa43dd1e5833a6cc91.tsv/MD5E-s4943--df69ebd4a36adefa43dd1e5833a6cc91.tsv\r\n",
      "│           ├── sub-03_ses-test_task-overtverbgeneration_bold.nii.gz -> ../../../.git/annex/objects/w3/XQ/MD5E-s12159084--67f84031d332467dae91107e53f0d89e.nii.gz/MD5E-s12159084--67f84031d332467dae91107e53f0d89e.nii.gz\r\n",
      "│           └── sub-03_ses-test_task-overtwordrepetition_bold.nii.gz -> ../../../.git/annex/objects/Qk/kK/MD5E-s10552089--e00b7544d9c44dddcd966e2c1dcd468f.nii.gz/MD5E-s10552089--e00b7544d9c44dddcd966e2c1dcd468f.nii.gz\r\n",
      "├── sub-04\r\n",
      "│   ├── ses-retest\r\n",
      "│   │   ├── anat\r\n",
      "│   │   │   └── sub-04_ses-retest_T1w.nii.gz -> ../../../.git/annex/objects/z9/V6/MD5E-s10125819--92fcdbdd50bb334651e474417237a7f2.nii.gz/MD5E-s10125819--92fcdbdd50bb334651e474417237a7f2.nii.gz\r\n",
      "│   │   ├── dwi\r\n",
      "│   │   │   └── sub-04_ses-retest_dwi.nii.gz -> ../../../.git/annex/objects/0Q/z6/MD5E-s102315940--827455ba66acecb6a2c8b9222bcd9fa1.nii.gz/MD5E-s102315940--827455ba66acecb6a2c8b9222bcd9fa1.nii.gz\r\n",
      "│   │   └── func\r\n",
      "│   │       ├── sub-04_ses-retest_task-covertverbgeneration_bold.nii.gz -> ../../../.git/annex/objects/6G/PV/MD5E-s24644977--c2411e3bad71cddeb2c083f999d22f93.nii.gz/MD5E-s24644977--c2411e3bad71cddeb2c083f999d22f93.nii.gz\r\n",
      "│   │       ├── sub-04_ses-retest_task-fingerfootlips_bold.nii.gz -> ../../../.git/annex/objects/Jf/m1/MD5E-s26197435--1ec999d21c0039897b67f38f5870d70c.nii.gz/MD5E-s26197435--1ec999d21c0039897b67f38f5870d70c.nii.gz\r\n",
      "│   │       ├── sub-04_ses-retest_task-linebisection_bold.nii.gz -> ../../../.git/annex/objects/J2/v9/MD5E-s33748727--044de5969956d86b7cdee0eb36e26c9e.nii.gz/MD5E-s33748727--044de5969956d86b7cdee0eb36e26c9e.nii.gz\r\n",
      "│   │       ├── sub-04_ses-retest_task-linebisection_events.tsv -> ../../../.git/annex/objects/Pv/Mg/MD5E-s4944--a83df0296cd6fda128072efff0d651ca.tsv/MD5E-s4944--a83df0296cd6fda128072efff0d651ca.tsv\r\n",
      "│   │       ├── sub-04_ses-retest_task-overtverbgeneration_bold.nii.gz -> ../../../.git/annex/objects/Kf/5K/MD5E-s12862957--a356882c1f18391f2f5215bda39f817f.nii.gz/MD5E-s12862957--a356882c1f18391f2f5215bda39f817f.nii.gz\r\n",
      "│   │       └── sub-04_ses-retest_task-overtwordrepetition_bold.nii.gz -> ../../../.git/annex/objects/70/k3/MD5E-s11172082--dcd559966a66e0645cb98a9b13c67a6c.nii.gz/MD5E-s11172082--dcd559966a66e0645cb98a9b13c67a6c.nii.gz\r\n",
      "│   └── ses-test\r\n",
      "│       ├── anat\r\n",
      "│       │   └── sub-04_ses-test_T1w.nii.gz -> ../../../.git/annex/objects/mg/5z/MD5E-s9717713--7764ef9c3fb344f69f1c2eb34cd56046.nii.gz/MD5E-s9717713--7764ef9c3fb344f69f1c2eb34cd56046.nii.gz\r\n",
      "│       ├── dwi\r\n",
      "│       │   └── sub-04_ses-test_dwi.nii.gz -> ../../../.git/annex/objects/W0/Gk/MD5E-s104883316--ec0aec8977aa5a5c0901cd9d2e25347c.nii.gz/MD5E-s104883316--ec0aec8977aa5a5c0901cd9d2e25347c.nii.gz\r\n",
      "│       └── func\r\n",
      "│           ├── sub-04_ses-test_task-covertverbgeneration_bold.nii.gz -> ../../../.git/annex/objects/GX/QK/MD5E-s24677139--d835385cb69d9907d6b0cb7311a91ff3.nii.gz/MD5E-s24677139--d835385cb69d9907d6b0cb7311a91ff3.nii.gz\r\n",
      "│           ├── sub-04_ses-test_task-fingerfootlips_bold.nii.gz -> ../../../.git/annex/objects/Qv/qX/MD5E-s26270785--61f837b1ef1f667975ab25b820844d93.nii.gz/MD5E-s26270785--61f837b1ef1f667975ab25b820844d93.nii.gz\r\n",
      "│           ├── sub-04_ses-test_task-linebisection_bold.nii.gz -> ../../../.git/annex/objects/gk/3p/MD5E-s33823763--377e091ada8819942070a374b71ea986.nii.gz/MD5E-s33823763--377e091ada8819942070a374b71ea986.nii.gz\r\n",
      "│           ├── sub-04_ses-test_task-linebisection_events.tsv -> ../../../.git/annex/objects/ZF/Pm/MD5E-s4963--df695f2ef7be302fb9ba8f0e03d0c8c8.tsv/MD5E-s4963--df695f2ef7be302fb9ba8f0e03d0c8c8.tsv\r\n",
      "│           ├── sub-04_ses-test_task-overtverbgeneration_bold.nii.gz -> ../../../.git/annex/objects/0Q/jG/MD5E-s12907201--46e3c39a8f7ec6c2f5b1ab157efa10d1.nii.gz/MD5E-s12907201--46e3c39a8f7ec6c2f5b1ab157efa10d1.nii.gz\r\n",
      "│           └── sub-04_ses-test_task-overtwordrepetition_bold.nii.gz -> ../../../.git/annex/objects/X5/FJ/MD5E-s11171792--bc9ba9ef24fcf364f3057401c17b1c49.nii.gz/MD5E-s11171792--bc9ba9ef24fcf364f3057401c17b1c49.nii.gz\r\n",
      "├── sub-05\r\n",
      "│   ├── ses-retest\r\n",
      "│   │   ├── anat\r\n",
      "│   │   │   └── sub-05_ses-retest_T1w.nii.gz -> ../../../.git/annex/objects/JK/PV/MD5E-s9511479--cec6ad961369ea1b21521d33040406d1.nii.gz/MD5E-s9511479--cec6ad961369ea1b21521d33040406d1.nii.gz\r\n",
      "│   │   ├── dwi\r\n",
      "│   │   │   └── sub-05_ses-retest_dwi.nii.gz -> ../../../.git/annex/objects/Mx/KM/MD5E-s104024235--7a107b0b7d70f0e0a60e5fccbda23f41.nii.gz/MD5E-s104024235--7a107b0b7d70f0e0a60e5fccbda23f41.nii.gz\r\n",
      "│   │   └── func\r\n",
      "│   │       ├── sub-05_ses-retest_task-covertverbgeneration_bold.nii.gz -> ../../../.git/annex/objects/x3/7x/MD5E-s24240966--89dc3e4888f5788e390be04cc91565ef.nii.gz/MD5E-s24240966--89dc3e4888f5788e390be04cc91565ef.nii.gz\r\n",
      "│   │       ├── sub-05_ses-retest_task-fingerfootlips_bold.nii.gz -> ../../../.git/annex/objects/V4/fV/MD5E-s25998505--071b1bd89a8d245b7a7a23323b434706.nii.gz/MD5E-s25998505--071b1bd89a8d245b7a7a23323b434706.nii.gz\r\n",
      "│   │       ├── sub-05_ses-retest_task-linebisection_bold.nii.gz -> ../../../.git/annex/objects/3v/1w/MD5E-s33598359--952f5c8625b962a9f5ccb3d2bb58d1aa.nii.gz/MD5E-s33598359--952f5c8625b962a9f5ccb3d2bb58d1aa.nii.gz\r\n",
      "│   │       ├── sub-05_ses-retest_task-linebisection_events.tsv -> ../../../.git/annex/objects/vG/xZ/MD5E-s4843--3e56962b347260df61632b6d23853ac6.tsv/MD5E-s4843--3e56962b347260df61632b6d23853ac6.tsv\r\n",
      "│   │       ├── sub-05_ses-retest_task-overtverbgeneration_bold.nii.gz -> ../../../.git/annex/objects/w0/75/MD5E-s12942731--e26171327d6bbdd4f392e1e327f92850.nii.gz/MD5E-s12942731--e26171327d6bbdd4f392e1e327f92850.nii.gz\r\n",
      "│   │       └── sub-05_ses-retest_task-overtwordrepetition_bold.nii.gz -> ../../../.git/annex/objects/2V/K8/MD5E-s11109819--e0875ced4e44d9a144316893937a063b.nii.gz/MD5E-s11109819--e0875ced4e44d9a144316893937a063b.nii.gz\r\n",
      "│   └── ses-test\r\n",
      "│       ├── anat\r\n",
      "│       │   └── sub-05_ses-test_T1w.nii.gz -> ../../../.git/annex/objects/f1/XP/MD5E-s9942928--e32c1d5fb1d6db6449b19be10b5efc67.nii.gz/MD5E-s9942928--e32c1d5fb1d6db6449b19be10b5efc67.nii.gz\r\n",
      "│       ├── dwi\r\n",
      "│       │   └── sub-05_ses-test_dwi.nii.gz -> ../../../.git/annex/objects/q3/gK/MD5E-s108049676--0d107c0acf9bed884baedfb7bc6a76e7.nii.gz/MD5E-s108049676--0d107c0acf9bed884baedfb7bc6a76e7.nii.gz\r\n",
      "│       └── func\r\n",
      "│           ├── sub-05_ses-test_task-covertverbgeneration_bold.nii.gz -> ../../../.git/annex/objects/0z/1V/MD5E-s24924488--f11c9aec356aa58e53e7a154222f4e74.nii.gz/MD5E-s24924488--f11c9aec356aa58e53e7a154222f4e74.nii.gz\r\n",
      "│           ├── sub-05_ses-test_task-fingerfootlips_bold.nii.gz -> ../../../.git/annex/objects/GK/P9/MD5E-s26693258--a904caebfaa372a21eb37231bae55299.nii.gz/MD5E-s26693258--a904caebfaa372a21eb37231bae55299.nii.gz\r\n",
      "│           ├── sub-05_ses-test_task-linebisection_bold.nii.gz -> ../../../.git/annex/objects/jW/X3/MD5E-s34416273--467b8d34b985d8caa2ac26e93506b775.nii.gz/MD5E-s34416273--467b8d34b985d8caa2ac26e93506b775.nii.gz\r\n",
      "│           ├── sub-05_ses-test_task-linebisection_events.tsv -> ../../../.git/annex/objects/m5/Kg/MD5E-s4950--4603e9f4e09e05f555f8b0e3838c72ab.tsv/MD5E-s4950--4603e9f4e09e05f555f8b0e3838c72ab.tsv\r\n",
      "│           ├── sub-05_ses-test_task-overtverbgeneration_bold.nii.gz -> ../../../.git/annex/objects/fZ/Qx/MD5E-s13124683--f6b7dbf08272097300cf977ddc06a3a3.nii.gz/MD5E-s13124683--f6b7dbf08272097300cf977ddc06a3a3.nii.gz\r\n",
      "│           └── sub-05_ses-test_task-overtwordrepetition_bold.nii.gz -> ../../../.git/annex/objects/wP/ZP/MD5E-s11526323--f99a4f1f281cc1213c556b1f446724e5.nii.gz/MD5E-s11526323--f99a4f1f281cc1213c556b1f446724e5.nii.gz\r\n",
      "├── sub-06\r\n",
      "│   ├── ses-retest\r\n",
      "│   │   ├── anat\r\n",
      "│   │   │   └── sub-06_ses-retest_T1w.nii.gz -> ../../../.git/annex/objects/9W/pF/MD5E-s9712028--b4fbccf8add0667a4cba4306d2609bf6.nii.gz/MD5E-s9712028--b4fbccf8add0667a4cba4306d2609bf6.nii.gz\r\n",
      "│   │   ├── dwi\r\n",
      "│   │   │   └── sub-06_ses-retest_dwi.nii.gz -> ../../../.git/annex/objects/82/0m/MD5E-s102946238--20e290d95ed62fe68f5c73c3e057aa68.nii.gz/MD5E-s102946238--20e290d95ed62fe68f5c73c3e057aa68.nii.gz\r\n",
      "│   │   └── func\r\n",
      "│   │       ├── sub-06_ses-retest_task-covertverbgeneration_bold.nii.gz -> ../../../.git/annex/objects/KQ/41/MD5E-s24361814--23edea0b5a1c7b770ae89a700099482a.nii.gz/MD5E-s24361814--23edea0b5a1c7b770ae89a700099482a.nii.gz\r\n",
      "│   │       ├── sub-06_ses-retest_task-fingerfootlips_bold.nii.gz -> ../../../.git/annex/objects/MW/2q/MD5E-s26020756--5525a120e543de5a7c561eb0ac058c50.nii.gz/MD5E-s26020756--5525a120e543de5a7c561eb0ac058c50.nii.gz\r\n",
      "│   │       ├── sub-06_ses-retest_task-linebisection_bold.nii.gz -> ../../../.git/annex/objects/kz/g4/MD5E-s33607078--55b31ff735c4a5d571e49ca0fa44ef3b.nii.gz/MD5E-s33607078--55b31ff735c4a5d571e49ca0fa44ef3b.nii.gz\r\n",
      "│   │       ├── sub-06_ses-retest_task-linebisection_events.tsv -> ../../../.git/annex/objects/2K/0p/MD5E-s4968--7bf3c8727a33112bf9dc55f4455f1fa3.tsv/MD5E-s4968--7bf3c8727a33112bf9dc55f4455f1fa3.tsv\r\n",
      "│   │       ├── sub-06_ses-retest_task-overtverbgeneration_bold.nii.gz -> ../../../.git/annex/objects/qf/92/MD5E-s12884913--85e85fa3810ffbc274163169994516ce.nii.gz/MD5E-s12884913--85e85fa3810ffbc274163169994516ce.nii.gz\r\n",
      "│   │       └── sub-06_ses-retest_task-overtwordrepetition_bold.nii.gz -> ../../../.git/annex/objects/zx/Mx/MD5E-s11071105--d4dc6401799624f330849cb2a26ecce0.nii.gz/MD5E-s11071105--d4dc6401799624f330849cb2a26ecce0.nii.gz\r\n",
      "│   └── ses-test\r\n",
      "│       ├── anat\r\n",
      "│       │   └── sub-06_ses-test_T1w.nii.gz -> ../../../.git/annex/objects/gm/9z/MD5E-s10429286--0dcb4734fa4f0bccc2f7b953e630e24d.nii.gz/MD5E-s10429286--0dcb4734fa4f0bccc2f7b953e630e24d.nii.gz\r\n",
      "│       ├── dwi\r\n",
      "│       │   └── sub-06_ses-test_dwi.nii.gz -> ../../../.git/annex/objects/q4/Jf/MD5E-s111500846--b91fca5d1ca3b959becfc5da8923aab1.nii.gz/MD5E-s111500846--b91fca5d1ca3b959becfc5da8923aab1.nii.gz\r\n",
      "│       └── func\r\n",
      "│           ├── sub-06_ses-test_task-covertverbgeneration_bold.nii.gz -> ../../../.git/annex/objects/K1/PM/MD5E-s25380586--d07bdf55b059b9532106bdf96c3d5be6.nii.gz/MD5E-s25380586--d07bdf55b059b9532106bdf96c3d5be6.nii.gz\r\n",
      "│           ├── sub-06_ses-test_task-fingerfootlips_bold.nii.gz -> ../../../.git/annex/objects/V9/52/MD5E-s26868014--5c133cbc6d656f72433b1c5da1ea66e7.nii.gz/MD5E-s26868014--5c133cbc6d656f72433b1c5da1ea66e7.nii.gz\r\n",
      "│           ├── sub-06_ses-test_task-linebisection_bold.nii.gz -> ../../../.git/annex/objects/x0/Z9/MD5E-s34846203--cd71c6d597806515b0f8b956637c33a1.nii.gz/MD5E-s34846203--cd71c6d597806515b0f8b956637c33a1.nii.gz\r\n",
      "│           ├── sub-06_ses-test_task-linebisection_events.tsv -> ../../../.git/annex/objects/0G/m9/MD5E-s4959--7e8c63e101c091f98edd21d50f970f91.tsv/MD5E-s4959--7e8c63e101c091f98edd21d50f970f91.tsv\r\n",
      "│           ├── sub-06_ses-test_task-overtverbgeneration_bold.nii.gz -> ../../../.git/annex/objects/KV/31/MD5E-s13292168--c6397d91154050fe59a42da6316b0d4b.nii.gz/MD5E-s13292168--c6397d91154050fe59a42da6316b0d4b.nii.gz\r\n",
      "│           └── sub-06_ses-test_task-overtwordrepetition_bold.nii.gz -> ../../../.git/annex/objects/6K/wQ/MD5E-s11225007--3a39708bd39fa2e4fadccbbf3056bb4e.nii.gz/MD5E-s11225007--3a39708bd39fa2e4fadccbbf3056bb4e.nii.gz\r\n",
      "├── sub-07\r\n",
      "│   ├── ses-retest\r\n",
      "│   │   ├── anat\r\n",
      "│   │   │   └── sub-07_ses-retest_T1w.nii.gz -> ../../../.git/annex/objects/wz/fx/MD5E-s8725991--d2be2d444bca2a33e53521f5aa9fafaa.nii.gz/MD5E-s8725991--d2be2d444bca2a33e53521f5aa9fafaa.nii.gz\r\n",
      "│   │   ├── dwi\r\n",
      "│   │   │   └── sub-07_ses-retest_dwi.nii.gz -> ../../../.git/annex/objects/wP/wJ/MD5E-s101870616--440ae52ddacae1affe2e1f59ac795dd3.nii.gz/MD5E-s101870616--440ae52ddacae1affe2e1f59ac795dd3.nii.gz\r\n",
      "│   │   └── func\r\n",
      "│   │       ├── sub-07_ses-retest_task-covertverbgeneration_bold.nii.gz -> ../../../.git/annex/objects/Kk/4J/MD5E-s22958973--c4ed743b362967e6fa2da91f07fb5e4b.nii.gz/MD5E-s22958973--c4ed743b362967e6fa2da91f07fb5e4b.nii.gz\r\n",
      "│   │       ├── sub-07_ses-retest_task-fingerfootlips_bold.nii.gz -> ../../../.git/annex/objects/V3/KV/MD5E-s24493127--2a5924ea580a6156a268fd785ed5a920.nii.gz/MD5E-s24493127--2a5924ea580a6156a268fd785ed5a920.nii.gz\r\n",
      "│   │       ├── sub-07_ses-retest_task-linebisection_bold.nii.gz -> ../../../.git/annex/objects/Fq/0m/MD5E-s31692006--899332b77616cec163c34a33133db1ad.nii.gz/MD5E-s31692006--899332b77616cec163c34a33133db1ad.nii.gz\r\n",
      "│   │       ├── sub-07_ses-retest_task-linebisection_events.tsv -> ../../../.git/annex/objects/53/0x/MD5E-s4911--9bc4d97c02654f838d56464701eb0c72.tsv/MD5E-s4911--9bc4d97c02654f838d56464701eb0c72.tsv\r\n",
      "│   │       ├── sub-07_ses-retest_task-overtverbgeneration_bold.nii.gz -> ../../../.git/annex/objects/qf/Fx/MD5E-s12040345--b22b478fbe5db9a29a44a6181a9ca742.nii.gz/MD5E-s12040345--b22b478fbe5db9a29a44a6181a9ca742.nii.gz\r\n",
      "│   │       └── sub-07_ses-retest_task-overtwordrepetition_bold.nii.gz -> ../../../.git/annex/objects/qZ/36/MD5E-s10217500--ff1be72ed50f666ffeca2aec2b33c9ed.nii.gz/MD5E-s10217500--ff1be72ed50f666ffeca2aec2b33c9ed.nii.gz\r\n",
      "│   └── ses-test\r\n",
      "│       ├── anat\r\n",
      "│       │   └── sub-07_ses-test_T1w.nii.gz -> ../../../.git/annex/objects/2Q/jJ/MD5E-s8580756--2f14ce817190386a6b4cbf77f89492e1.nii.gz/MD5E-s8580756--2f14ce817190386a6b4cbf77f89492e1.nii.gz\r\n",
      "│       ├── dwi\r\n",
      "│       │   └── sub-07_ses-test_dwi.nii.gz -> ../../../.git/annex/objects/zG/84/MD5E-s103326300--7fdd20ad61b709937d1cc5bb2e0798c6.nii.gz/MD5E-s103326300--7fdd20ad61b709937d1cc5bb2e0798c6.nii.gz\r\n",
      "│       └── func\r\n",
      "│           ├── sub-07_ses-test_task-covertverbgeneration_bold.nii.gz -> ../../../.git/annex/objects/V3/g1/MD5E-s23258547--3eac6de7ef215928b8e3124f19ea8a8c.nii.gz/MD5E-s23258547--3eac6de7ef215928b8e3124f19ea8a8c.nii.gz\r\n",
      "│           ├── sub-07_ses-test_task-fingerfootlips_bold.nii.gz -> ../../../.git/annex/objects/Xf/kK/MD5E-s24751878--661682e4f762d7c99dbf049fcc658c87.nii.gz/MD5E-s24751878--661682e4f762d7c99dbf049fcc658c87.nii.gz\r\n",
      "│           ├── sub-07_ses-test_task-linebisection_bold.nii.gz -> ../../../.git/annex/objects/pG/qJ/MD5E-s32129273--5d4591dadeabaed078c7519da44178fb.nii.gz/MD5E-s32129273--5d4591dadeabaed078c7519da44178fb.nii.gz\r\n",
      "│           ├── sub-07_ses-test_task-linebisection_events.tsv -> ../../../.git/annex/objects/Kp/QF/MD5E-s4929--e53ae38a58e2ca7d0f3736abe2a4dd03.tsv/MD5E-s4929--e53ae38a58e2ca7d0f3736abe2a4dd03.tsv\r\n",
      "│           ├── sub-07_ses-test_task-overtverbgeneration_bold.nii.gz -> ../../../.git/annex/objects/x4/J8/MD5E-s12271868--80db70ef7a5e5c78f7a5cdd16a636f11.nii.gz/MD5E-s12271868--80db70ef7a5e5c78f7a5cdd16a636f11.nii.gz\r\n",
      "│           └── sub-07_ses-test_task-overtwordrepetition_bold.nii.gz -> ../../../.git/annex/objects/zZ/61/MD5E-s10521017--969638eda30b31ad90b2403d5cc10b20.nii.gz/MD5E-s10521017--969638eda30b31ad90b2403d5cc10b20.nii.gz\r\n",
      "├── sub-08\r\n",
      "│   ├── ses-retest\r\n",
      "│   │   ├── anat\r\n",
      "│   │   │   └── sub-08_ses-retest_T1w.nii.gz -> ../../../.git/annex/objects/G3/j0/MD5E-s9815716--3ccef5772c262fd48ee053f97a3381ce.nii.gz/MD5E-s9815716--3ccef5772c262fd48ee053f97a3381ce.nii.gz\r\n",
      "│   │   ├── dwi\r\n",
      "│   │   │   └── sub-08_ses-retest_dwi.nii.gz -> ../../../.git/annex/objects/QJ/gw/MD5E-s104814386--e6cab512bec21cf56a56833041fb513c.nii.gz/MD5E-s104814386--e6cab512bec21cf56a56833041fb513c.nii.gz\r\n",
      "│   │   └── func\r\n",
      "│   │       ├── sub-08_ses-retest_task-covertverbgeneration_bold.nii.gz -> ../../../.git/annex/objects/QP/w0/MD5E-s24230763--51bc4ea41cba2f3a9d15be16f6c34d02.nii.gz/MD5E-s24230763--51bc4ea41cba2f3a9d15be16f6c34d02.nii.gz\r\n",
      "│   │       ├── sub-08_ses-retest_task-fingerfootlips_bold.nii.gz -> ../../../.git/annex/objects/48/X1/MD5E-s25800747--f446847b95b4e32814564f9197271ed9.nii.gz/MD5E-s25800747--f446847b95b4e32814564f9197271ed9.nii.gz\r\n",
      "│   │       ├── sub-08_ses-retest_task-linebisection_bold.nii.gz -> ../../../.git/annex/objects/fP/63/MD5E-s33353778--6a1da1d5367e05e8a62702feeae571d9.nii.gz/MD5E-s33353778--6a1da1d5367e05e8a62702feeae571d9.nii.gz\r\n",
      "│   │       ├── sub-08_ses-retest_task-linebisection_events.tsv -> ../../../.git/annex/objects/mz/k6/MD5E-s4900--02b50bb6b5213319f49aad10b73f4a18.tsv/MD5E-s4900--02b50bb6b5213319f49aad10b73f4a18.tsv\r\n",
      "│   │       ├── sub-08_ses-retest_task-overtverbgeneration_bold.nii.gz -> ../../../.git/annex/objects/75/86/MD5E-s12754775--52ec0425828a22ec5770d853aca3a446.nii.gz/MD5E-s12754775--52ec0425828a22ec5770d853aca3a446.nii.gz\r\n",
      "│   │       └── sub-08_ses-retest_task-overtwordrepetition_bold.nii.gz -> ../../../.git/annex/objects/gW/KF/MD5E-s10970580--4060fc6ee9f4383aed5c49e4cded633a.nii.gz/MD5E-s10970580--4060fc6ee9f4383aed5c49e4cded633a.nii.gz\r\n",
      "│   └── ses-test\r\n",
      "│       ├── anat\r\n",
      "│       │   └── sub-08_ses-test_T1w.nii.gz -> ../../../.git/annex/objects/85/WP/MD5E-s9325328--35d0ce9fd75157df786d11c84b3c2178.nii.gz/MD5E-s9325328--35d0ce9fd75157df786d11c84b3c2178.nii.gz\r\n",
      "│       ├── dwi\r\n",
      "│       │   └── sub-08_ses-test_dwi.nii.gz -> ../../../.git/annex/objects/MM/v4/MD5E-s102691986--702eadb2a87f9cc17b8c62c64b27a8fb.nii.gz/MD5E-s102691986--702eadb2a87f9cc17b8c62c64b27a8fb.nii.gz\r\n",
      "│       └── func\r\n",
      "│           ├── sub-08_ses-test_task-covertverbgeneration_bold.nii.gz -> ../../../.git/annex/objects/4g/25/MD5E-s24002538--085dc82910b78be26a215d4c51194aea.nii.gz/MD5E-s24002538--085dc82910b78be26a215d4c51194aea.nii.gz\r\n",
      "│           ├── sub-08_ses-test_task-fingerfootlips_bold.nii.gz -> ../../../.git/annex/objects/4g/pV/MD5E-s25655723--fddb912934403f6cd56dd32277e4be69.nii.gz/MD5E-s25655723--fddb912934403f6cd56dd32277e4be69.nii.gz\r\n",
      "│           ├── sub-08_ses-test_task-linebisection_bold.nii.gz -> ../../../.git/annex/objects/v0/Vf/MD5E-s33201889--0647f2251ac5f125b4b84ca5a93e37ca.nii.gz/MD5E-s33201889--0647f2251ac5f125b4b84ca5a93e37ca.nii.gz\r\n",
      "│           ├── sub-08_ses-test_task-linebisection_events.tsv -> ../../../.git/annex/objects/46/Qg/MD5E-s4905--09b92244551605e32bbf3cc665c1c748.tsv/MD5E-s4905--09b92244551605e32bbf3cc665c1c748.tsv\r\n",
      "│           ├── sub-08_ses-test_task-overtverbgeneration_bold.nii.gz -> ../../../.git/annex/objects/Kf/11/MD5E-s12622070--c140fdd9e3e5747b9c9a8ff8dcc949cf.nii.gz/MD5E-s12622070--c140fdd9e3e5747b9c9a8ff8dcc949cf.nii.gz\r\n",
      "│           └── sub-08_ses-test_task-overtwordrepetition_bold.nii.gz -> ../../../.git/annex/objects/8g/2p/MD5E-s10907328--1188c30e16c68cd270d02aa8d554f24d.nii.gz/MD5E-s10907328--1188c30e16c68cd270d02aa8d554f24d.nii.gz\r\n",
      "├── sub-09\r\n",
      "│   ├── ses-retest\r\n",
      "│   │   ├── anat\r\n",
      "│   │   │   └── sub-09_ses-retest_T1w.nii.gz -> ../../../.git/annex/objects/XM/9P/MD5E-s9038046--abcb37f89145be848b1b6c19c69b4e66.nii.gz/MD5E-s9038046--abcb37f89145be848b1b6c19c69b4e66.nii.gz\r\n",
      "│   │   ├── dwi\r\n",
      "│   │   │   └── sub-09_ses-retest_dwi.nii.gz -> ../../../.git/annex/objects/g5/GQ/MD5E-s104913036--9af1945a4e26239a938536e6eb962630.nii.gz/MD5E-s104913036--9af1945a4e26239a938536e6eb962630.nii.gz\r\n",
      "│   │   └── func\r\n",
      "│   │       ├── sub-09_ses-retest_task-covertverbgeneration_bold.nii.gz -> ../../../.git/annex/objects/qp/56/MD5E-s23883001--7eb7d4a5b01596f680d0d748473f1f38.nii.gz/MD5E-s23883001--7eb7d4a5b01596f680d0d748473f1f38.nii.gz\r\n",
      "│   │       ├── sub-09_ses-retest_task-fingerfootlips_bold.nii.gz -> ../../../.git/annex/objects/KM/3m/MD5E-s25333347--98c608533e6f0f0148d1b4223578a7e0.nii.gz/MD5E-s25333347--98c608533e6f0f0148d1b4223578a7e0.nii.gz\r\n",
      "│   │       ├── sub-09_ses-retest_task-linebisection_bold.nii.gz -> ../../../.git/annex/objects/jG/KZ/MD5E-s32759028--0e0b0badca8ad941baea5212d0bbd4c8.nii.gz/MD5E-s32759028--0e0b0badca8ad941baea5212d0bbd4c8.nii.gz\r\n",
      "│   │       ├── sub-09_ses-retest_task-linebisection_events.tsv -> ../../../.git/annex/objects/QZ/09/MD5E-s4890--7bd3c7254e7aca678da9039d4c62f0ee.tsv/MD5E-s4890--7bd3c7254e7aca678da9039d4c62f0ee.tsv\r\n",
      "│   │       ├── sub-09_ses-retest_task-overtverbgeneration_bold.nii.gz -> ../../../.git/annex/objects/Wk/x1/MD5E-s12607832--fa71f8dbe19dbb58fc8e56fd4c0d74a9.nii.gz/MD5E-s12607832--fa71f8dbe19dbb58fc8e56fd4c0d74a9.nii.gz\r\n",
      "│   │       └── sub-09_ses-retest_task-overtwordrepetition_bold.nii.gz -> ../../../.git/annex/objects/1F/Qk/MD5E-s10992778--c0e5683ec6bed25d407e896cef3a4cc3.nii.gz/MD5E-s10992778--c0e5683ec6bed25d407e896cef3a4cc3.nii.gz\r\n",
      "│   └── ses-test\r\n",
      "│       ├── anat\r\n",
      "│       │   └── sub-09_ses-test_T1w.nii.gz -> ../../../.git/annex/objects/0w/6v/MD5E-s9093983--6307afbbcebf1d2bfe945a1e963d3a9d.nii.gz/MD5E-s9093983--6307afbbcebf1d2bfe945a1e963d3a9d.nii.gz\r\n",
      "│       ├── dwi\r\n",
      "│       │   └── sub-09_ses-test_dwi.nii.gz -> ../../../.git/annex/objects/F8/6K/MD5E-s106806289--ed3b50d7d009964e8fbfb2d0250fc67e.nii.gz/MD5E-s106806289--ed3b50d7d009964e8fbfb2d0250fc67e.nii.gz\r\n",
      "│       └── func\r\n",
      "│           ├── sub-09_ses-test_task-covertverbgeneration_bold.nii.gz -> ../../../.git/annex/objects/9x/8z/MD5E-s24415813--8c4d3158eda8efb430816469342f2d83.nii.gz/MD5E-s24415813--8c4d3158eda8efb430816469342f2d83.nii.gz\r\n",
      "│           ├── sub-09_ses-test_task-fingerfootlips_bold.nii.gz -> ../../../.git/annex/objects/Pp/J2/MD5E-s25892719--8591a417c483510c6492132b5f0cecb8.nii.gz/MD5E-s25892719--8591a417c483510c6492132b5f0cecb8.nii.gz\r\n",
      "│           ├── sub-09_ses-test_task-linebisection_bold.nii.gz -> ../../../.git/annex/objects/vf/7Z/MD5E-s33605998--6a5422bb4dfded010105d8fd14a3f454.nii.gz/MD5E-s33605998--6a5422bb4dfded010105d8fd14a3f454.nii.gz\r\n",
      "│           ├── sub-09_ses-test_task-linebisection_events.tsv -> ../../../.git/annex/objects/XP/8J/MD5E-s4895--d15d522ac0d8abdb458fbf2bff069aac.tsv/MD5E-s4895--d15d522ac0d8abdb458fbf2bff069aac.tsv\r\n",
      "│           ├── sub-09_ses-test_task-overtverbgeneration_bold.nii.gz -> ../../../.git/annex/objects/mV/29/MD5E-s12849009--d9afb889bde8c40bc778bff8ba55060b.nii.gz/MD5E-s12849009--d9afb889bde8c40bc778bff8ba55060b.nii.gz\r\n",
      "│           └── sub-09_ses-test_task-overtwordrepetition_bold.nii.gz -> ../../../.git/annex/objects/pk/wX/MD5E-s10859124--729337dd4c06fb3aceae73a91fbd5300.nii.gz/MD5E-s10859124--729337dd4c06fb3aceae73a91fbd5300.nii.gz\r\n",
      "├── sub-10\r\n",
      "│   ├── ses-retest\r\n",
      "│   │   ├── anat\r\n",
      "│   │   │   └── sub-10_ses-retest_T1w.nii.gz -> ../../../.git/annex/objects/pZ/57/MD5E-s8165420--f72be15a6c60658bac5148423087bb85.nii.gz/MD5E-s8165420--f72be15a6c60658bac5148423087bb85.nii.gz\r\n",
      "│   │   ├── dwi\r\n",
      "│   │   │   └── sub-10_ses-retest_dwi.nii.gz -> ../../../.git/annex/objects/v0/JM/MD5E-s101212223--f7d66db879a83e55b4caa332fb60f0a9.nii.gz/MD5E-s101212223--f7d66db879a83e55b4caa332fb60f0a9.nii.gz\r\n",
      "│   │   └── func\r\n",
      "│   │       ├── sub-10_ses-retest_task-covertverbgeneration_bold.nii.gz -> ../../../.git/annex/objects/kx/8m/MD5E-s22613897--fedb2d74d4c0426bda2660a0194a6e3c.nii.gz/MD5E-s22613897--fedb2d74d4c0426bda2660a0194a6e3c.nii.gz\r\n",
      "│   │       ├── sub-10_ses-retest_task-fingerfootlips_bold.nii.gz -> ../../../.git/annex/objects/4j/Q5/MD5E-s24086519--a813253ad6218481c5ac211a7b70cb2a.nii.gz/MD5E-s24086519--a813253ad6218481c5ac211a7b70cb2a.nii.gz\r\n",
      "│   │       ├── sub-10_ses-retest_task-linebisection_bold.nii.gz -> ../../../.git/annex/objects/0V/7G/MD5E-s31223672--4817426ded5dcaa26ab61206c8c25a01.nii.gz/MD5E-s31223672--4817426ded5dcaa26ab61206c8c25a01.nii.gz\r\n",
      "│   │       ├── sub-10_ses-retest_task-linebisection_events.tsv -> ../../../.git/annex/objects/xz/J5/MD5E-s4896--3d24876cdb335b9c4a4fa0cfa86317aa.tsv/MD5E-s4896--3d24876cdb335b9c4a4fa0cfa86317aa.tsv\r\n",
      "│   │       ├── sub-10_ses-retest_task-overtverbgeneration_bold.nii.gz -> ../../../.git/annex/objects/PK/m9/MD5E-s12012688--f84bcd3565935a28933f3f6ec778b7e4.nii.gz/MD5E-s12012688--f84bcd3565935a28933f3f6ec778b7e4.nii.gz\r\n",
      "│   │       └── sub-10_ses-retest_task-overtwordrepetition_bold.nii.gz -> ../../../.git/annex/objects/wj/XP/MD5E-s10205344--4dae96535f63a91e230ceee0567731cb.nii.gz/MD5E-s10205344--4dae96535f63a91e230ceee0567731cb.nii.gz\r\n",
      "│   └── ses-test\r\n",
      "│       ├── anat\r\n",
      "│       │   └── sub-10_ses-test_T1w.nii.gz -> ../../../.git/annex/objects/Mq/mJ/MD5E-s8625770--9aad310eebc17dfa2a14de13ae26c9a0.nii.gz/MD5E-s8625770--9aad310eebc17dfa2a14de13ae26c9a0.nii.gz\r\n",
      "│       ├── dwi\r\n",
      "│       │   └── sub-10_ses-test_dwi.nii.gz -> ../../../.git/annex/objects/vW/Jp/MD5E-s408320142--0e710fe67a26868893112fdbcf441fe1.nii.gz/MD5E-s408320142--0e710fe67a26868893112fdbcf441fe1.nii.gz\r\n",
      "│       └── func\r\n",
      "│           ├── sub-10_ses-test_task-covertverbgeneration_bold.nii.gz -> ../../../.git/annex/objects/p2/69/MD5E-s23125294--db06785e844b7705bf4eb76c3934e515.nii.gz/MD5E-s23125294--db06785e844b7705bf4eb76c3934e515.nii.gz\r\n",
      "│           ├── sub-10_ses-test_task-fingerfootlips_bold.nii.gz -> ../../../.git/annex/objects/wg/wQ/MD5E-s24873409--ef5680f23a727a842c0259fbd38b8207.nii.gz/MD5E-s24873409--ef5680f23a727a842c0259fbd38b8207.nii.gz\r\n",
      "│           ├── sub-10_ses-test_task-linebisection_bold.nii.gz -> ../../../.git/annex/objects/zP/g6/MD5E-s32217029--be5d868e5a99f7ae36db9965035197ba.nii.gz/MD5E-s32217029--be5d868e5a99f7ae36db9965035197ba.nii.gz\r\n",
      "│           ├── sub-10_ses-test_task-linebisection_events.tsv -> ../../../.git/annex/objects/xv/Kp/MD5E-s4919--42e1573869fcdee415544479dfb6c4f1.tsv/MD5E-s4919--42e1573869fcdee415544479dfb6c4f1.tsv\r\n",
      "│           ├── sub-10_ses-test_task-overtverbgeneration_bold.nii.gz -> ../../../.git/annex/objects/xZ/3P/MD5E-s12286926--5194547f3ddf306eca340a7e67ae3376.nii.gz/MD5E-s12286926--5194547f3ddf306eca340a7e67ae3376.nii.gz\r\n",
      "│           └── sub-10_ses-test_task-overtwordrepetition_bold.nii.gz -> ../../../.git/annex/objects/9G/VZ/MD5E-s10338205--6cd9153fc2727a337c055c687c8ef705.nii.gz/MD5E-s10338205--6cd9153fc2727a337c055c687c8ef705.nii.gz\r\n",
      "├── task-covertverbgeneration_bold.json\r\n",
      "├── task-covertverbgeneration_events.tsv\r\n",
      "├── task-fingerfootlips_bold.json\r\n",
      "├── task-fingerfootlips_events.tsv\r\n",
      "├── task-linebisection_bold.json\r\n",
      "├── task-overtverbgeneration_bold.json\r\n",
      "├── task-overtverbgeneration_events.tsv\r\n",
      "├── task-overtwordrepetition_bold.json\r\n",
      "└── task-overtwordrepetition_events.tsv\r\n",
      "\r\n",
      "90 directories, 173 files\r\n"
     ]
    }
   ],
   "source": [
    "!tree -I derivatives /data/ds000114/"
   ]
  },
  {
   "cell_type": "markdown",
   "metadata": {},
   "source": [
    "Let's figure out what are the subject labels in this dataset"
   ]
  },
  {
   "cell_type": "code",
   "execution_count": 3,
   "metadata": {},
   "outputs": [
    {
     "data": {
      "text/plain": [
       "['01', '02', '03', '04', '05', '06', '07', '08', '09', '10']"
      ]
     },
     "execution_count": 3,
     "metadata": {},
     "output_type": "execute_result"
    }
   ],
   "source": [
    "layout.get_subjects()"
   ]
  },
  {
   "cell_type": "markdown",
   "metadata": {},
   "source": [
    "What modalities are included in this dataset?"
   ]
  },
  {
   "cell_type": "code",
   "execution_count": 4,
   "metadata": {},
   "outputs": [
    {
     "data": {
      "text/plain": [
       "['anat', 'dwi', 'func']"
      ]
     },
     "execution_count": 4,
     "metadata": {},
     "output_type": "execute_result"
    }
   ],
   "source": [
    "layout.get_modalities()"
   ]
  },
  {
   "cell_type": "markdown",
   "metadata": {},
   "source": [
    "What different data types are included in this dataset?"
   ]
  },
  {
   "cell_type": "code",
   "execution_count": 5,
   "metadata": {},
   "outputs": [
    {
     "data": {
      "text/plain": [
       "['', 'bold', 'description', 'dwi', 'events', 'T1w']"
      ]
     },
     "execution_count": 5,
     "metadata": {},
     "output_type": "execute_result"
    }
   ],
   "source": [
    "layout.get_types()"
   ]
  },
  {
   "cell_type": "code",
   "execution_count": 6,
   "metadata": {},
   "outputs": [
    {
     "data": {
      "text/plain": [
       "['bold', 'events']"
      ]
     },
     "execution_count": 6,
     "metadata": {},
     "output_type": "execute_result"
    }
   ],
   "source": [
    "layout.get_types(modality='func')"
   ]
  },
  {
   "cell_type": "markdown",
   "metadata": {},
   "source": [
    "What are the different tasks included in this dataset?"
   ]
  },
  {
   "cell_type": "code",
   "execution_count": 7,
   "metadata": {},
   "outputs": [
    {
     "data": {
      "text/plain": [
       "['covertverbgeneration',\n",
       " 'fingerfootlips',\n",
       " 'linebisection',\n",
       " 'overtverbgeneration',\n",
       " 'overtwordrepetition']"
      ]
     },
     "execution_count": 7,
     "metadata": {},
     "output_type": "execute_result"
    }
   ],
   "source": [
    "layout.get_tasks()"
   ]
  },
  {
   "cell_type": "markdown",
   "metadata": {},
   "source": [
    "We can also ask for all of the data for a particular subject."
   ]
  },
  {
   "cell_type": "code",
   "execution_count": 8,
   "metadata": {},
   "outputs": [
    {
     "data": {
      "text/plain": [
       "[File(filename='/data/ds000114/sub-01/ses-retest/anat/sub-01_ses-retest_T1w.nii.gz', subject='01', session='retest', type='T1w', modality='anat'),\n",
       " File(filename='/data/ds000114/sub-01/ses-retest/dwi/sub-01_ses-retest_dwi.nii.gz', subject='01', session='retest', type='dwi', modality='dwi'),\n",
       " File(filename='/data/ds000114/sub-01/ses-retest/func/sub-01_ses-retest_task-covertverbgeneration_bold.nii.gz', subject='01', session='retest', type='bold', task='covertverbgeneration', modality='func'),\n",
       " File(filename='/data/ds000114/sub-01/ses-retest/func/sub-01_ses-retest_task-fingerfootlips_bold.nii.gz', subject='01', session='retest', type='bold', task='fingerfootlips', modality='func'),\n",
       " File(filename='/data/ds000114/sub-01/ses-retest/func/sub-01_ses-retest_task-linebisection_bold.nii.gz', subject='01', session='retest', type='bold', task='linebisection', modality='func'),\n",
       " File(filename='/data/ds000114/sub-01/ses-retest/func/sub-01_ses-retest_task-linebisection_events.tsv', subject='01', session='retest', type='events', task='linebisection', modality='func'),\n",
       " File(filename='/data/ds000114/sub-01/ses-retest/func/sub-01_ses-retest_task-overtverbgeneration_bold.nii.gz', subject='01', session='retest', type='bold', task='overtverbgeneration', modality='func'),\n",
       " File(filename='/data/ds000114/sub-01/ses-retest/func/sub-01_ses-retest_task-overtwordrepetition_bold.nii.gz', subject='01', session='retest', type='bold', task='overtwordrepetition', modality='func'),\n",
       " File(filename='/data/ds000114/sub-01/ses-test/anat/sub-01_ses-test_T1w.nii.gz', subject='01', session='test', type='T1w', modality='anat'),\n",
       " File(filename='/data/ds000114/sub-01/ses-test/dwi/sub-01_ses-test_dwi.nii.gz', subject='01', session='test', type='dwi', modality='dwi'),\n",
       " File(filename='/data/ds000114/sub-01/ses-test/func/sub-01_ses-test_task-covertverbgeneration_bold.nii.gz', subject='01', session='test', type='bold', task='covertverbgeneration', modality='func'),\n",
       " File(filename='/data/ds000114/sub-01/ses-test/func/sub-01_ses-test_task-fingerfootlips_bold.nii.gz', subject='01', session='test', type='bold', task='fingerfootlips', modality='func'),\n",
       " File(filename='/data/ds000114/sub-01/ses-test/func/sub-01_ses-test_task-linebisection_bold.nii.gz', subject='01', session='test', type='bold', task='linebisection', modality='func'),\n",
       " File(filename='/data/ds000114/sub-01/ses-test/func/sub-01_ses-test_task-linebisection_events.tsv', subject='01', session='test', type='events', task='linebisection', modality='func'),\n",
       " File(filename='/data/ds000114/sub-01/ses-test/func/sub-01_ses-test_task-overtverbgeneration_bold.nii.gz', subject='01', session='test', type='bold', task='overtverbgeneration', modality='func'),\n",
       " File(filename='/data/ds000114/sub-01/ses-test/func/sub-01_ses-test_task-overtwordrepetition_bold.nii.gz', subject='01', session='test', type='bold', task='overtwordrepetition', modality='func')]"
      ]
     },
     "execution_count": 8,
     "metadata": {},
     "output_type": "execute_result"
    }
   ],
   "source": [
    "layout.get(subject='01')"
   ]
  },
  {
   "cell_type": "markdown",
   "metadata": {},
   "source": [
    "We can also ask for a specific subset of data. Note that we are using extension filter to get just the imaging data (BIDS allows both .nii and .nii.gz so we need to include both)."
   ]
  },
  {
   "cell_type": "code",
   "execution_count": 9,
   "metadata": {},
   "outputs": [
    {
     "data": {
      "text/plain": [
       "[File(filename='/data/ds000114/sub-01/ses-retest/func/sub-01_ses-retest_task-covertverbgeneration_bold.nii.gz', subject='01', session='retest', type='bold', task='covertverbgeneration', modality='func'),\n",
       " File(filename='/data/ds000114/sub-01/ses-retest/func/sub-01_ses-retest_task-fingerfootlips_bold.nii.gz', subject='01', session='retest', type='bold', task='fingerfootlips', modality='func'),\n",
       " File(filename='/data/ds000114/sub-01/ses-retest/func/sub-01_ses-retest_task-linebisection_bold.nii.gz', subject='01', session='retest', type='bold', task='linebisection', modality='func'),\n",
       " File(filename='/data/ds000114/sub-01/ses-retest/func/sub-01_ses-retest_task-overtverbgeneration_bold.nii.gz', subject='01', session='retest', type='bold', task='overtverbgeneration', modality='func'),\n",
       " File(filename='/data/ds000114/sub-01/ses-retest/func/sub-01_ses-retest_task-overtwordrepetition_bold.nii.gz', subject='01', session='retest', type='bold', task='overtwordrepetition', modality='func'),\n",
       " File(filename='/data/ds000114/sub-01/ses-test/func/sub-01_ses-test_task-covertverbgeneration_bold.nii.gz', subject='01', session='test', type='bold', task='covertverbgeneration', modality='func'),\n",
       " File(filename='/data/ds000114/sub-01/ses-test/func/sub-01_ses-test_task-fingerfootlips_bold.nii.gz', subject='01', session='test', type='bold', task='fingerfootlips', modality='func'),\n",
       " File(filename='/data/ds000114/sub-01/ses-test/func/sub-01_ses-test_task-linebisection_bold.nii.gz', subject='01', session='test', type='bold', task='linebisection', modality='func'),\n",
       " File(filename='/data/ds000114/sub-01/ses-test/func/sub-01_ses-test_task-overtverbgeneration_bold.nii.gz', subject='01', session='test', type='bold', task='overtverbgeneration', modality='func'),\n",
       " File(filename='/data/ds000114/sub-01/ses-test/func/sub-01_ses-test_task-overtwordrepetition_bold.nii.gz', subject='01', session='test', type='bold', task='overtwordrepetition', modality='func')]"
      ]
     },
     "execution_count": 9,
     "metadata": {},
     "output_type": "execute_result"
    }
   ],
   "source": [
    "layout.get(subject='01', type='bold', extensions=['nii', 'nii.gz'])"
   ]
  },
  {
   "cell_type": "markdown",
   "metadata": {},
   "source": [
    "You probably noticed that this method does not only return the file paths, but objects with relevant query fields. We can easily extract just the file paths."
   ]
  },
  {
   "cell_type": "code",
   "execution_count": 10,
   "metadata": {},
   "outputs": [
    {
     "data": {
      "text/plain": [
       "['/data/ds000114/sub-01/ses-retest/anat/sub-01_ses-retest_T1w.nii.gz',\n",
       " '/data/ds000114/sub-01/ses-test/anat/sub-01_ses-test_T1w.nii.gz']"
      ]
     },
     "execution_count": 10,
     "metadata": {},
     "output_type": "execute_result"
    }
   ],
   "source": [
    "[f.filename for f in layout.get(subject='01', type='T1w', extensions=['nii', 'nii.gz'])]"
   ]
  },
  {
   "cell_type": "markdown",
   "metadata": {},
   "source": [
    "### Exercise 1:\n",
    "List all of the BOLD files for subject 03, but only for the linebisection task"
   ]
  },
  {
   "cell_type": "markdown",
   "metadata": {},
   "source": [
    "## Including `pybids` in your `nipype` workflow\n",
    "This is great, but what we really want is to include this into our `nipype` workflows. How to do this? We can create our own custom `BIDSDataGrabber` using a `Function` Interface. First we need a plain Python function that for a given subject label and dataset location will return list of BOLD and T1w files."
   ]
  },
  {
   "cell_type": "code",
   "execution_count": 11,
   "metadata": {
    "collapsed": true
   },
   "outputs": [],
   "source": [
    "def get_niftis(subject_id, data_dir):\n",
    "    # Remember that all the necesary imports need to be INSIDE the function for the Function Interface to work!\n",
    "    from bids.grabbids import BIDSLayout\n",
    "    \n",
    "    layout = BIDSLayout(data_dir)\n",
    "    \n",
    "    bolds = [f.filename for f in layout.get(subject=subject_id, type='bold', extensions=['nii', 'nii.gz'])]\n",
    "    \n",
    "    return bolds"
   ]
  },
  {
   "cell_type": "code",
   "execution_count": 12,
   "metadata": {},
   "outputs": [
    {
     "data": {
      "text/plain": [
       "['/data/ds000114/sub-01/ses-retest/func/sub-01_ses-retest_task-covertverbgeneration_bold.nii.gz',\n",
       " '/data/ds000114/sub-01/ses-retest/func/sub-01_ses-retest_task-fingerfootlips_bold.nii.gz',\n",
       " '/data/ds000114/sub-01/ses-retest/func/sub-01_ses-retest_task-linebisection_bold.nii.gz',\n",
       " '/data/ds000114/sub-01/ses-retest/func/sub-01_ses-retest_task-overtverbgeneration_bold.nii.gz',\n",
       " '/data/ds000114/sub-01/ses-retest/func/sub-01_ses-retest_task-overtwordrepetition_bold.nii.gz',\n",
       " '/data/ds000114/sub-01/ses-test/func/sub-01_ses-test_task-covertverbgeneration_bold.nii.gz',\n",
       " '/data/ds000114/sub-01/ses-test/func/sub-01_ses-test_task-fingerfootlips_bold.nii.gz',\n",
       " '/data/ds000114/sub-01/ses-test/func/sub-01_ses-test_task-linebisection_bold.nii.gz',\n",
       " '/data/ds000114/sub-01/ses-test/func/sub-01_ses-test_task-overtverbgeneration_bold.nii.gz',\n",
       " '/data/ds000114/sub-01/ses-test/func/sub-01_ses-test_task-overtwordrepetition_bold.nii.gz']"
      ]
     },
     "execution_count": 12,
     "metadata": {},
     "output_type": "execute_result"
    }
   ],
   "source": [
    "get_niftis('01', '/data/ds000114/')"
   ]
  },
  {
   "cell_type": "markdown",
   "metadata": {},
   "source": [
    "Ok we got our function. Now we need to wrap it inside a Node object."
   ]
  },
  {
   "cell_type": "code",
   "execution_count": 13,
   "metadata": {
    "collapsed": true
   },
   "outputs": [],
   "source": [
    "from nipype.pipeline import Node, MapNode, Workflow\n",
    "from nipype.interfaces.utility import IdentityInterface, Function"
   ]
  },
  {
   "cell_type": "code",
   "execution_count": 14,
   "metadata": {
    "collapsed": true
   },
   "outputs": [],
   "source": [
    "BIDSDataGrabber = Node(Function(function=get_niftis, input_names=[\"subject_id\",\n",
    "                                       \"data_dir\"],\n",
    "                                   output_names=[\"bolds\", \n",
    "                                        \"T1ws\"]), name=\"BIDSDataGrabber\")\n",
    "BIDSDataGrabber.inputs.data_dir = \"/data/ds000114/\""
   ]
  },
  {
   "cell_type": "code",
   "execution_count": 15,
   "metadata": {},
   "outputs": [
    {
     "name": "stdout",
     "output_type": "stream",
     "text": [
      "180124-10:03:13,759 workflow INFO:\n",
      "\t Executing node BIDSDataGrabber in dir: /tmp/tmpy9_56d99/BIDSDataGrabber\n",
      "180124-10:03:13,763 workflow INFO:\n",
      "\t Running node \"BIDSDataGrabber\" (\"nipype.interfaces.utility.wrappers.Function\").\n"
     ]
    },
    {
     "data": {
      "text/plain": [
       "\n",
       "T1ws = /data/ds000114/sub-01/ses-retest/func/sub-01_ses-retest_task-fingerfootlips_bold.nii.gz\n",
       "bolds = /data/ds000114/sub-01/ses-retest/func/sub-01_ses-retest_task-covertverbgeneration_bold.nii.gz"
      ]
     },
     "execution_count": 15,
     "metadata": {},
     "output_type": "execute_result"
    }
   ],
   "source": [
    "BIDSDataGrabber.inputs.subject_id='01'\n",
    "res = BIDSDataGrabber.run()\n",
    "res.outputs"
   ]
  },
  {
   "cell_type": "markdown",
   "metadata": {},
   "source": [
    "Works like a charm! (hopefully :) Lets put it in a workflow. We are not going to analyze any data, but for demostrantion purposes we will add a couple of nodes that pretend to analyze their inputs"
   ]
  },
  {
   "cell_type": "code",
   "execution_count": 16,
   "metadata": {
    "collapsed": true
   },
   "outputs": [],
   "source": [
    "def printMe(paths):\n",
    "    print(\"\\n\\nanalyzing \" + str(paths) + \"\\n\\n\")\n",
    "    \n",
    "analyzeBOLD = Node(Function(function=printMe, input_names=[\"paths\"],\n",
    "                            output_names=[]), name=\"analyzeBOLD\")"
   ]
  },
  {
   "cell_type": "code",
   "execution_count": 17,
   "metadata": {
    "scrolled": true
   },
   "outputs": [
    {
     "name": "stdout",
     "output_type": "stream",
     "text": [
      "180124-10:03:18,375 workflow INFO:\n",
      "\t Workflow bids_demo settings: ['check', 'execution', 'logging']\n",
      "180124-10:03:18,380 workflow INFO:\n",
      "\t Running serially.\n",
      "180124-10:03:18,381 workflow INFO:\n",
      "\t Executing node bids_demo.BIDSDataGrabber in dir: /tmp/tmpn2mdqhcf/bids_demo/BIDSDataGrabber\n",
      "180124-10:03:18,385 workflow INFO:\n",
      "\t Running node \"BIDSDataGrabber\" (\"nipype.interfaces.utility.wrappers.Function\").\n",
      "180124-10:03:18,446 workflow INFO:\n",
      "\t Executing node bids_demo.analyzeBOLD in dir: /tmp/tmpf5xn7mnx/bids_demo/analyzeBOLD\n",
      "180124-10:03:18,450 workflow INFO:\n",
      "\t Running node \"analyzeBOLD\" (\"nipype.interfaces.utility.wrappers.Function\").\n",
      "\n",
      "\n",
      "analyzing /data/ds000114/sub-01/ses-retest/func/sub-01_ses-retest_task-covertverbgeneration_bold.nii.gz\n",
      "\n",
      "\n"
     ]
    },
    {
     "data": {
      "text/plain": [
       "<networkx.classes.digraph.DiGraph at 0x7f33c81f6c88>"
      ]
     },
     "execution_count": 17,
     "metadata": {},
     "output_type": "execute_result"
    }
   ],
   "source": [
    "wf = Workflow(name=\"bids_demo\")\n",
    "wf.connect(BIDSDataGrabber, \"bolds\", analyzeBOLD, \"paths\")\n",
    "wf.run()"
   ]
  },
  {
   "cell_type": "markdown",
   "metadata": {},
   "source": [
    "### Exercise 2:\n",
    "Modify the `BIDSDataGrabber` and the workflow to include T1ws."
   ]
  },
  {
   "cell_type": "markdown",
   "metadata": {},
   "source": [
    "## Iterating over subject labels\n",
    "In the previous example we demostrated how to use `pybids` to \"analyze\" one subject. How can we scale it for all subjects? Easy - using `iterables`."
   ]
  },
  {
   "cell_type": "code",
   "execution_count": 18,
   "metadata": {
    "scrolled": false
   },
   "outputs": [
    {
     "name": "stdout",
     "output_type": "stream",
     "text": [
      "180124-10:03:24,702 workflow INFO:\n",
      "\t Workflow bids_demo settings: ['check', 'execution', 'logging']\n",
      "180124-10:03:24,733 workflow INFO:\n",
      "\t Running serially.\n",
      "180124-10:03:24,735 workflow INFO:\n",
      "\t Executing node bids_demo.BIDSDataGrabber in dir: /tmp/tmp3v5f71z8/bids_demo/_subject_id_10/BIDSDataGrabber\n",
      "180124-10:03:24,739 workflow INFO:\n",
      "\t Running node \"BIDSDataGrabber\" (\"nipype.interfaces.utility.wrappers.Function\").\n",
      "180124-10:03:24,792 workflow INFO:\n",
      "\t Executing node bids_demo.analyzeBOLD in dir: /tmp/tmpzcmn5ypg/bids_demo/_subject_id_10/analyzeBOLD\n",
      "180124-10:03:24,795 workflow INFO:\n",
      "\t Running node \"analyzeBOLD\" (\"nipype.interfaces.utility.wrappers.Function\").\n",
      "\n",
      "\n",
      "analyzing /data/ds000114/sub-10/ses-retest/func/sub-10_ses-retest_task-covertverbgeneration_bold.nii.gz\n",
      "\n",
      "\n",
      "180124-10:03:24,800 workflow INFO:\n",
      "\t Executing node bids_demo.BIDSDataGrabber in dir: /tmp/tmp2_z54y96/bids_demo/_subject_id_09/BIDSDataGrabber\n",
      "180124-10:03:24,804 workflow INFO:\n",
      "\t Running node \"BIDSDataGrabber\" (\"nipype.interfaces.utility.wrappers.Function\").\n",
      "180124-10:03:24,855 workflow INFO:\n",
      "\t Executing node bids_demo.analyzeBOLD in dir: /tmp/tmpuxoq36ty/bids_demo/_subject_id_09/analyzeBOLD\n",
      "180124-10:03:24,858 workflow INFO:\n",
      "\t Running node \"analyzeBOLD\" (\"nipype.interfaces.utility.wrappers.Function\").\n",
      "\n",
      "\n",
      "analyzing /data/ds000114/sub-09/ses-retest/func/sub-09_ses-retest_task-covertverbgeneration_bold.nii.gz\n",
      "\n",
      "\n",
      "180124-10:03:24,864 workflow INFO:\n",
      "\t Executing node bids_demo.BIDSDataGrabber in dir: /tmp/tmp54r1pf3y/bids_demo/_subject_id_08/BIDSDataGrabber\n",
      "180124-10:03:24,869 workflow INFO:\n",
      "\t Running node \"BIDSDataGrabber\" (\"nipype.interfaces.utility.wrappers.Function\").\n",
      "180124-10:03:24,922 workflow INFO:\n",
      "\t Executing node bids_demo.analyzeBOLD in dir: /tmp/tmp29xvuvt9/bids_demo/_subject_id_08/analyzeBOLD\n",
      "180124-10:03:24,925 workflow INFO:\n",
      "\t Running node \"analyzeBOLD\" (\"nipype.interfaces.utility.wrappers.Function\").\n",
      "\n",
      "\n",
      "analyzing /data/ds000114/sub-08/ses-retest/func/sub-08_ses-retest_task-covertverbgeneration_bold.nii.gz\n",
      "\n",
      "\n",
      "180124-10:03:24,929 workflow INFO:\n",
      "\t Executing node bids_demo.BIDSDataGrabber in dir: /tmp/tmpdm7mrsu1/bids_demo/_subject_id_07/BIDSDataGrabber\n",
      "180124-10:03:24,932 workflow INFO:\n",
      "\t Running node \"BIDSDataGrabber\" (\"nipype.interfaces.utility.wrappers.Function\").\n",
      "180124-10:03:24,984 workflow INFO:\n",
      "\t Executing node bids_demo.analyzeBOLD in dir: /tmp/tmpz7n2u3vp/bids_demo/_subject_id_07/analyzeBOLD\n",
      "180124-10:03:24,988 workflow INFO:\n",
      "\t Running node \"analyzeBOLD\" (\"nipype.interfaces.utility.wrappers.Function\").\n",
      "\n",
      "\n",
      "analyzing /data/ds000114/sub-07/ses-retest/func/sub-07_ses-retest_task-covertverbgeneration_bold.nii.gz\n",
      "\n",
      "\n",
      "180124-10:03:24,991 workflow INFO:\n",
      "\t Executing node bids_demo.BIDSDataGrabber in dir: /tmp/tmp77mglmx8/bids_demo/_subject_id_06/BIDSDataGrabber\n",
      "180124-10:03:24,995 workflow INFO:\n",
      "\t Running node \"BIDSDataGrabber\" (\"nipype.interfaces.utility.wrappers.Function\").\n",
      "180124-10:03:25,47 workflow INFO:\n",
      "\t Executing node bids_demo.analyzeBOLD in dir: /tmp/tmpx85pggh2/bids_demo/_subject_id_06/analyzeBOLD\n",
      "180124-10:03:25,51 workflow INFO:\n",
      "\t Running node \"analyzeBOLD\" (\"nipype.interfaces.utility.wrappers.Function\").\n",
      "\n",
      "\n",
      "analyzing /data/ds000114/sub-06/ses-retest/func/sub-06_ses-retest_task-covertverbgeneration_bold.nii.gz\n",
      "\n",
      "\n",
      "180124-10:03:25,57 workflow INFO:\n",
      "\t Executing node bids_demo.BIDSDataGrabber in dir: /tmp/tmpowafze6a/bids_demo/_subject_id_05/BIDSDataGrabber\n",
      "180124-10:03:25,62 workflow INFO:\n",
      "\t Running node \"BIDSDataGrabber\" (\"nipype.interfaces.utility.wrappers.Function\").\n",
      "180124-10:03:25,119 workflow INFO:\n",
      "\t Executing node bids_demo.analyzeBOLD in dir: /tmp/tmp3wfe3lnr/bids_demo/_subject_id_05/analyzeBOLD\n",
      "180124-10:03:25,122 workflow INFO:\n",
      "\t Running node \"analyzeBOLD\" (\"nipype.interfaces.utility.wrappers.Function\").\n",
      "\n",
      "\n",
      "analyzing /data/ds000114/sub-05/ses-retest/func/sub-05_ses-retest_task-covertverbgeneration_bold.nii.gz\n",
      "\n",
      "\n",
      "180124-10:03:25,127 workflow INFO:\n",
      "\t Executing node bids_demo.BIDSDataGrabber in dir: /tmp/tmpznjel8ua/bids_demo/_subject_id_04/BIDSDataGrabber\n",
      "180124-10:03:25,131 workflow INFO:\n",
      "\t Running node \"BIDSDataGrabber\" (\"nipype.interfaces.utility.wrappers.Function\").\n",
      "180124-10:03:25,185 workflow INFO:\n",
      "\t Executing node bids_demo.analyzeBOLD in dir: /tmp/tmp4vason8s/bids_demo/_subject_id_04/analyzeBOLD\n",
      "180124-10:03:25,188 workflow INFO:\n",
      "\t Running node \"analyzeBOLD\" (\"nipype.interfaces.utility.wrappers.Function\").\n",
      "\n",
      "\n",
      "analyzing /data/ds000114/sub-04/ses-retest/func/sub-04_ses-retest_task-covertverbgeneration_bold.nii.gz\n",
      "\n",
      "\n",
      "180124-10:03:25,194 workflow INFO:\n",
      "\t Executing node bids_demo.BIDSDataGrabber in dir: /tmp/tmp738wvn85/bids_demo/_subject_id_03/BIDSDataGrabber\n",
      "180124-10:03:25,199 workflow INFO:\n",
      "\t Running node \"BIDSDataGrabber\" (\"nipype.interfaces.utility.wrappers.Function\").\n",
      "180124-10:03:25,263 workflow INFO:\n",
      "\t Executing node bids_demo.analyzeBOLD in dir: /tmp/tmpjsheel53/bids_demo/_subject_id_03/analyzeBOLD\n",
      "180124-10:03:25,266 workflow INFO:\n",
      "\t Running node \"analyzeBOLD\" (\"nipype.interfaces.utility.wrappers.Function\").\n",
      "\n",
      "\n",
      "analyzing /data/ds000114/sub-03/ses-retest/func/sub-03_ses-retest_task-covertverbgeneration_bold.nii.gz\n",
      "\n",
      "\n",
      "180124-10:03:25,270 workflow INFO:\n",
      "\t Executing node bids_demo.BIDSDataGrabber in dir: /tmp/tmpexniz8iy/bids_demo/_subject_id_02/BIDSDataGrabber\n",
      "180124-10:03:25,274 workflow INFO:\n",
      "\t Running node \"BIDSDataGrabber\" (\"nipype.interfaces.utility.wrappers.Function\").\n",
      "180124-10:03:25,328 workflow INFO:\n",
      "\t Executing node bids_demo.analyzeBOLD in dir: /tmp/tmpy6_eyv59/bids_demo/_subject_id_02/analyzeBOLD\n",
      "180124-10:03:25,331 workflow INFO:\n",
      "\t Running node \"analyzeBOLD\" (\"nipype.interfaces.utility.wrappers.Function\").\n",
      "\n",
      "\n",
      "analyzing /data/ds000114/sub-02/ses-retest/func/sub-02_ses-retest_task-covertverbgeneration_bold.nii.gz\n",
      "\n",
      "\n",
      "180124-10:03:25,335 workflow INFO:\n",
      "\t Executing node bids_demo.BIDSDataGrabber in dir: /tmp/tmpswp7hkk3/bids_demo/_subject_id_01/BIDSDataGrabber\n",
      "180124-10:03:25,339 workflow INFO:\n",
      "\t Running node \"BIDSDataGrabber\" (\"nipype.interfaces.utility.wrappers.Function\").\n",
      "180124-10:03:25,388 workflow INFO:\n",
      "\t Executing node bids_demo.analyzeBOLD in dir: /tmp/tmpak7toead/bids_demo/_subject_id_01/analyzeBOLD\n",
      "180124-10:03:25,391 workflow INFO:\n",
      "\t Running node \"analyzeBOLD\" (\"nipype.interfaces.utility.wrappers.Function\").\n",
      "\n",
      "\n",
      "analyzing /data/ds000114/sub-01/ses-retest/func/sub-01_ses-retest_task-covertverbgeneration_bold.nii.gz\n",
      "\n",
      "\n"
     ]
    },
    {
     "data": {
      "text/plain": [
       "<networkx.classes.digraph.DiGraph at 0x7f33cbf66a58>"
      ]
     },
     "execution_count": 18,
     "metadata": {},
     "output_type": "execute_result"
    }
   ],
   "source": [
    "BIDSDataGrabber.iterables = ('subject_id', layout.get_subjects())\n",
    "wf.run()"
   ]
  },
  {
   "cell_type": "markdown",
   "metadata": {},
   "source": [
    "## Accessing additional metadata\n",
    "Querying different files is nice, but sometimes you want to access more metadata. For example `RepetitionTime`. `pybids` can help with that as well"
   ]
  },
  {
   "cell_type": "code",
   "execution_count": 19,
   "metadata": {},
   "outputs": [
    {
     "data": {
      "text/plain": [
       "{'EchoTime': 0.05,\n",
       " 'FlipAngle': 90,\n",
       " 'RepetitionTime': 2.5,\n",
       " 'SliceTiming': [0.0,\n",
       "  1.2499999999999998,\n",
       "  0.08333333333333333,\n",
       "  1.333333333333333,\n",
       "  0.16666666666666666,\n",
       "  1.4166666666666663,\n",
       "  0.25,\n",
       "  1.4999999999999996,\n",
       "  0.3333333333333333,\n",
       "  1.5833333333333328,\n",
       "  0.41666666666666663,\n",
       "  1.666666666666666,\n",
       "  0.5,\n",
       "  1.7499999999999993,\n",
       "  0.5833333333333333,\n",
       "  1.8333333333333326,\n",
       "  0.6666666666666666,\n",
       "  1.9166666666666659,\n",
       "  0.75,\n",
       "  1.9999999999999991,\n",
       "  0.8333333333333333,\n",
       "  2.083333333333332,\n",
       "  0.9166666666666666,\n",
       "  2.1666666666666656,\n",
       "  1.0,\n",
       "  2.249999999999999,\n",
       "  1.0833333333333333,\n",
       "  2.333333333333332,\n",
       "  1.1666666666666665,\n",
       "  2.416666666666665],\n",
       " 'TaskName': 'finger_foot_lips'}"
      ]
     },
     "execution_count": 19,
     "metadata": {},
     "output_type": "execute_result"
    }
   ],
   "source": [
    "layout.get_metadata('/data/ds000114/sub-01/ses-test/func/sub-01_ses-test_task-fingerfootlips_bold.nii.gz')"
   ]
  },
  {
   "cell_type": "markdown",
   "metadata": {},
   "source": [
    "Can we incorporate this into our pipeline? Yes we can!"
   ]
  },
  {
   "cell_type": "code",
   "execution_count": 20,
   "metadata": {
    "collapsed": true
   },
   "outputs": [],
   "source": [
    "def printMetadata(path, data_dir):\n",
    "    from bids.grabbids import BIDSLayout\n",
    "    layout = BIDSLayout(data_dir)\n",
    "    print(\"\\n\\nanalyzing \" + path + \"\\nTR: \"+ str(layout.get_metadata(path)[\"RepetitionTime\"]) + \"\\n\\n\")\n",
    "    \n",
    "analyzeBOLD2 = MapNode(Function(function=printMetadata, input_names=[\"path\", \"data_dir\"],\n",
    "                             output_names=[]), name=\"analyzeBOLD2\", iterfield=\"path\")\n",
    "analyzeBOLD2.inputs.data_dir = \"/data/ds000114/\""
   ]
  },
  {
   "cell_type": "code",
   "execution_count": 21,
   "metadata": {
    "scrolled": false
   },
   "outputs": [
    {
     "name": "stdout",
     "output_type": "stream",
     "text": [
      "180124-10:03:58,805 workflow INFO:\n",
      "\t Workflow bids_demo settings: ['check', 'execution', 'logging']\n",
      "180124-10:03:58,836 workflow INFO:\n",
      "\t Running serially.\n",
      "180124-10:03:58,837 workflow INFO:\n",
      "\t Executing node bids_demo.BIDSDataGrabber in dir: /tmp/tmpjhy8zvcs/bids_demo/_subject_id_10/BIDSDataGrabber\n",
      "180124-10:03:58,841 workflow INFO:\n",
      "\t Running node \"BIDSDataGrabber\" (\"nipype.interfaces.utility.wrappers.Function\").\n",
      "180124-10:03:58,897 workflow INFO:\n",
      "\t Executing node bids_demo.analyzeBOLD2 in dir: /tmp/tmpkjpw2ou4/bids_demo/_subject_id_10/analyzeBOLD2\n",
      "180124-10:03:58,901 workflow INFO:\n",
      "\t Executing node _analyzeBOLD20 in dir: /tmp/tmpkjpw2ou4/bids_demo/_subject_id_10/analyzeBOLD2/mapflow/_analyzeBOLD20\n",
      "180124-10:03:58,904 workflow INFO:\n",
      "\t Running node \"_analyzeBOLD20\" (\"nipype.interfaces.utility.wrappers.Function\").\n",
      "\n",
      "\n",
      "analyzing /data/ds000114/sub-10/ses-retest/func/sub-10_ses-retest_task-covertverbgeneration_bold.nii.gz\n",
      "TR: 2.5\n",
      "\n",
      "\n",
      "180124-10:03:58,953 workflow INFO:\n",
      "\t Executing node bids_demo.BIDSDataGrabber in dir: /tmp/tmpcg2kxl_h/bids_demo/_subject_id_09/BIDSDataGrabber\n",
      "180124-10:03:58,957 workflow INFO:\n",
      "\t Running node \"BIDSDataGrabber\" (\"nipype.interfaces.utility.wrappers.Function\").\n",
      "180124-10:03:59,8 workflow INFO:\n",
      "\t Executing node bids_demo.analyzeBOLD2 in dir: /tmp/tmp58bubmlf/bids_demo/_subject_id_09/analyzeBOLD2\n",
      "180124-10:03:59,13 workflow INFO:\n",
      "\t Executing node _analyzeBOLD20 in dir: /tmp/tmp58bubmlf/bids_demo/_subject_id_09/analyzeBOLD2/mapflow/_analyzeBOLD20\n",
      "180124-10:03:59,17 workflow INFO:\n",
      "\t Running node \"_analyzeBOLD20\" (\"nipype.interfaces.utility.wrappers.Function\").\n",
      "\n",
      "\n",
      "analyzing /data/ds000114/sub-09/ses-retest/func/sub-09_ses-retest_task-covertverbgeneration_bold.nii.gz\n",
      "TR: 2.5\n",
      "\n",
      "\n",
      "180124-10:03:59,72 workflow INFO:\n",
      "\t Executing node bids_demo.BIDSDataGrabber in dir: /tmp/tmpyn6yawk2/bids_demo/_subject_id_08/BIDSDataGrabber\n",
      "180124-10:03:59,75 workflow INFO:\n",
      "\t Running node \"BIDSDataGrabber\" (\"nipype.interfaces.utility.wrappers.Function\").\n",
      "180124-10:03:59,137 workflow INFO:\n",
      "\t Executing node bids_demo.analyzeBOLD2 in dir: /tmp/tmpkxceoxd7/bids_demo/_subject_id_08/analyzeBOLD2\n",
      "180124-10:03:59,141 workflow INFO:\n",
      "\t Executing node _analyzeBOLD20 in dir: /tmp/tmpkxceoxd7/bids_demo/_subject_id_08/analyzeBOLD2/mapflow/_analyzeBOLD20\n",
      "180124-10:03:59,144 workflow INFO:\n",
      "\t Running node \"_analyzeBOLD20\" (\"nipype.interfaces.utility.wrappers.Function\").\n",
      "\n",
      "\n",
      "analyzing /data/ds000114/sub-08/ses-retest/func/sub-08_ses-retest_task-covertverbgeneration_bold.nii.gz\n",
      "TR: 2.5\n",
      "\n",
      "\n",
      "180124-10:03:59,192 workflow INFO:\n",
      "\t Executing node bids_demo.BIDSDataGrabber in dir: /tmp/tmpjb311ad5/bids_demo/_subject_id_07/BIDSDataGrabber\n",
      "180124-10:03:59,196 workflow INFO:\n",
      "\t Running node \"BIDSDataGrabber\" (\"nipype.interfaces.utility.wrappers.Function\").\n",
      "180124-10:03:59,247 workflow INFO:\n",
      "\t Executing node bids_demo.analyzeBOLD2 in dir: /tmp/tmpgxb1qkz8/bids_demo/_subject_id_07/analyzeBOLD2\n",
      "180124-10:03:59,251 workflow INFO:\n",
      "\t Executing node _analyzeBOLD20 in dir: /tmp/tmpgxb1qkz8/bids_demo/_subject_id_07/analyzeBOLD2/mapflow/_analyzeBOLD20\n",
      "180124-10:03:59,255 workflow INFO:\n",
      "\t Running node \"_analyzeBOLD20\" (\"nipype.interfaces.utility.wrappers.Function\").\n",
      "\n",
      "\n",
      "analyzing /data/ds000114/sub-07/ses-retest/func/sub-07_ses-retest_task-covertverbgeneration_bold.nii.gz\n",
      "TR: 2.5\n",
      "\n",
      "\n",
      "180124-10:03:59,301 workflow INFO:\n",
      "\t Executing node bids_demo.BIDSDataGrabber in dir: /tmp/tmpixwco5jq/bids_demo/_subject_id_06/BIDSDataGrabber\n",
      "180124-10:03:59,305 workflow INFO:\n",
      "\t Running node \"BIDSDataGrabber\" (\"nipype.interfaces.utility.wrappers.Function\").\n",
      "180124-10:03:59,363 workflow INFO:\n",
      "\t Executing node bids_demo.analyzeBOLD2 in dir: /tmp/tmp2gycbums/bids_demo/_subject_id_06/analyzeBOLD2\n",
      "180124-10:03:59,367 workflow INFO:\n",
      "\t Executing node _analyzeBOLD20 in dir: /tmp/tmp2gycbums/bids_demo/_subject_id_06/analyzeBOLD2/mapflow/_analyzeBOLD20\n",
      "180124-10:03:59,370 workflow INFO:\n",
      "\t Running node \"_analyzeBOLD20\" (\"nipype.interfaces.utility.wrappers.Function\").\n",
      "\n",
      "\n",
      "analyzing /data/ds000114/sub-06/ses-retest/func/sub-06_ses-retest_task-covertverbgeneration_bold.nii.gz\n",
      "TR: 2.5\n",
      "\n",
      "\n",
      "180124-10:03:59,417 workflow INFO:\n",
      "\t Executing node bids_demo.BIDSDataGrabber in dir: /tmp/tmpnjdh8l9g/bids_demo/_subject_id_05/BIDSDataGrabber\n",
      "180124-10:03:59,420 workflow INFO:\n",
      "\t Running node \"BIDSDataGrabber\" (\"nipype.interfaces.utility.wrappers.Function\").\n",
      "180124-10:03:59,473 workflow INFO:\n",
      "\t Executing node bids_demo.analyzeBOLD2 in dir: /tmp/tmp9f08eob_/bids_demo/_subject_id_05/analyzeBOLD2\n",
      "180124-10:03:59,476 workflow INFO:\n",
      "\t Executing node _analyzeBOLD20 in dir: /tmp/tmp9f08eob_/bids_demo/_subject_id_05/analyzeBOLD2/mapflow/_analyzeBOLD20\n",
      "180124-10:03:59,479 workflow INFO:\n",
      "\t Running node \"_analyzeBOLD20\" (\"nipype.interfaces.utility.wrappers.Function\").\n",
      "\n",
      "\n",
      "analyzing /data/ds000114/sub-05/ses-retest/func/sub-05_ses-retest_task-covertverbgeneration_bold.nii.gz\n",
      "TR: 2.5\n",
      "\n",
      "\n",
      "180124-10:03:59,526 workflow INFO:\n",
      "\t Executing node bids_demo.BIDSDataGrabber in dir: /tmp/tmpnsv5bs1l/bids_demo/_subject_id_04/BIDSDataGrabber\n",
      "180124-10:03:59,530 workflow INFO:\n",
      "\t Running node \"BIDSDataGrabber\" (\"nipype.interfaces.utility.wrappers.Function\").\n",
      "180124-10:03:59,581 workflow INFO:\n",
      "\t Executing node bids_demo.analyzeBOLD2 in dir: /tmp/tmpa7l69883/bids_demo/_subject_id_04/analyzeBOLD2\n",
      "180124-10:03:59,585 workflow INFO:\n",
      "\t Executing node _analyzeBOLD20 in dir: /tmp/tmpa7l69883/bids_demo/_subject_id_04/analyzeBOLD2/mapflow/_analyzeBOLD20\n",
      "180124-10:03:59,588 workflow INFO:\n",
      "\t Running node \"_analyzeBOLD20\" (\"nipype.interfaces.utility.wrappers.Function\").\n",
      "\n",
      "\n",
      "analyzing /data/ds000114/sub-04/ses-retest/func/sub-04_ses-retest_task-covertverbgeneration_bold.nii.gz\n",
      "TR: 2.5\n",
      "\n",
      "\n",
      "180124-10:03:59,639 workflow INFO:\n",
      "\t Executing node bids_demo.BIDSDataGrabber in dir: /tmp/tmp6589k7dx/bids_demo/_subject_id_03/BIDSDataGrabber\n",
      "180124-10:03:59,643 workflow INFO:\n",
      "\t Running node \"BIDSDataGrabber\" (\"nipype.interfaces.utility.wrappers.Function\").\n",
      "180124-10:03:59,697 workflow INFO:\n",
      "\t Executing node bids_demo.analyzeBOLD2 in dir: /tmp/tmpq5e2kp78/bids_demo/_subject_id_03/analyzeBOLD2\n",
      "180124-10:03:59,701 workflow INFO:\n",
      "\t Executing node _analyzeBOLD20 in dir: /tmp/tmpq5e2kp78/bids_demo/_subject_id_03/analyzeBOLD2/mapflow/_analyzeBOLD20\n",
      "180124-10:03:59,704 workflow INFO:\n",
      "\t Running node \"_analyzeBOLD20\" (\"nipype.interfaces.utility.wrappers.Function\").\n",
      "\n",
      "\n",
      "analyzing /data/ds000114/sub-03/ses-retest/func/sub-03_ses-retest_task-covertverbgeneration_bold.nii.gz\n",
      "TR: 2.5\n",
      "\n",
      "\n",
      "180124-10:03:59,752 workflow INFO:\n",
      "\t Executing node bids_demo.BIDSDataGrabber in dir: /tmp/tmpyjtqaypy/bids_demo/_subject_id_02/BIDSDataGrabber\n",
      "180124-10:03:59,755 workflow INFO:\n",
      "\t Running node \"BIDSDataGrabber\" (\"nipype.interfaces.utility.wrappers.Function\").\n",
      "180124-10:03:59,806 workflow INFO:\n",
      "\t Executing node bids_demo.analyzeBOLD2 in dir: /tmp/tmp2rh2_kim/bids_demo/_subject_id_02/analyzeBOLD2\n",
      "180124-10:03:59,811 workflow INFO:\n",
      "\t Executing node _analyzeBOLD20 in dir: /tmp/tmp2rh2_kim/bids_demo/_subject_id_02/analyzeBOLD2/mapflow/_analyzeBOLD20\n",
      "180124-10:03:59,815 workflow INFO:\n",
      "\t Running node \"_analyzeBOLD20\" (\"nipype.interfaces.utility.wrappers.Function\").\n",
      "\n",
      "\n",
      "analyzing /data/ds000114/sub-02/ses-retest/func/sub-02_ses-retest_task-covertverbgeneration_bold.nii.gz\n",
      "TR: 2.5\n",
      "\n",
      "\n",
      "180124-10:03:59,866 workflow INFO:\n",
      "\t Executing node bids_demo.BIDSDataGrabber in dir: /tmp/tmp7ri12lsv/bids_demo/_subject_id_01/BIDSDataGrabber\n",
      "180124-10:03:59,870 workflow INFO:\n",
      "\t Running node \"BIDSDataGrabber\" (\"nipype.interfaces.utility.wrappers.Function\").\n",
      "180124-10:03:59,923 workflow INFO:\n",
      "\t Executing node bids_demo.analyzeBOLD2 in dir: /tmp/tmpq0djfrat/bids_demo/_subject_id_01/analyzeBOLD2\n",
      "180124-10:03:59,926 workflow INFO:\n",
      "\t Executing node _analyzeBOLD20 in dir: /tmp/tmpq0djfrat/bids_demo/_subject_id_01/analyzeBOLD2/mapflow/_analyzeBOLD20\n",
      "180124-10:03:59,930 workflow INFO:\n",
      "\t Running node \"_analyzeBOLD20\" (\"nipype.interfaces.utility.wrappers.Function\").\n",
      "\n",
      "\n",
      "analyzing /data/ds000114/sub-01/ses-retest/func/sub-01_ses-retest_task-covertverbgeneration_bold.nii.gz\n",
      "TR: 2.5\n",
      "\n",
      "\n"
     ]
    },
    {
     "data": {
      "text/plain": [
       "<networkx.classes.digraph.DiGraph at 0x7f33c3f9e898>"
      ]
     },
     "execution_count": 21,
     "metadata": {},
     "output_type": "execute_result"
    }
   ],
   "source": [
    "wf = Workflow(name=\"bids_demo\")\n",
    "wf.connect(BIDSDataGrabber, \"bolds\", analyzeBOLD2, \"path\")\n",
    "wf.run()"
   ]
  },
  {
   "cell_type": "markdown",
   "metadata": {},
   "source": [
    "### Exercise 3:\n",
    "Modify the `printMetadata` function to also print `EchoTime` "
   ]
  }
 ],
 "metadata": {
  "anaconda-cloud": {},
  "kernelspec": {
   "display_name": "Python 3",
   "language": "python",
   "name": "python3"
  },
  "language_info": {
   "codemirror_mode": {
    "name": "ipython",
    "version": 3
   },
   "file_extension": ".py",
   "mimetype": "text/x-python",
   "name": "python",
   "nbconvert_exporter": "python",
   "pygments_lexer": "ipython3",
   "version": "3.6.3"
  }
 },
 "nbformat": 4,
 "nbformat_minor": 2
}
