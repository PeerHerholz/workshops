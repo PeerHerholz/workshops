{
 "cells": [
  {
   "cell_type": "markdown",
   "metadata": {},
   "source": [
    "# Hands On - Let's create your own workflow\n",
    "\n",
    "This notebook is a 2h hands on to learn Nipype. The goal is to setup a fMRI analysis pipeline from A-Z, i.e. from preprocessing to group analysis.\n",
    "\n",
    "I will also use the opportunity to show you some nice additional interfaces that might not be necessary for a real analysis, but it's always nice to know that they exist.\n",
    "Having said all this, you of course are also free to setting up your own pipeline. The one that is most useful to you and your everyday research life.\n",
    "\n",
    "And most of all, if you have any questions or get stuck. Don't hesitate to ask or check the Q+A google doc.\n",
    "\n",
    "**Note**: \n",
    "\n",
    "\n",
    "This notebook should be an exercise notebook on how to create a simple fMRI preprocessing workflow.\n",
    "\n",
    "I recommend to use BIDS to load the data and create a workflow with the following nodes, to show off Nipype's strange:\n",
    "\n",
    "    1. Slice time correction\n",
    "    2. Motion correction\n",
    "    3. Coregistration\n",
    "    4. artifact detection\n",
    "    5. smoothing\n",
    "    6. temporal filtering (only low frequencies = linear trends)\n",
    "    7. Segmentation\n",
    "    8. Masking\n",
    "    9. Normalization\n",
    "\n",
    "Also, I recommend to create a [Gantt chart](http://nipype.readthedocs.io/en/latest/users/resource_sched_profiler.html) to show how we profit from parallelization."
   ]
  },
  {
   "cell_type": "code",
   "execution_count": null,
   "metadata": {},
   "outputs": [],
   "source": []
  }
 ],
 "metadata": {
  "anaconda-cloud": {},
  "kernelspec": {
   "display_name": "Python [default]",
   "language": "python",
   "name": "python3"
  },
  "language_info": {
   "codemirror_mode": {
    "name": "ipython",
    "version": 3
   },
   "file_extension": ".py",
   "mimetype": "text/x-python",
   "name": "python",
   "nbconvert_exporter": "python",
   "pygments_lexer": "ipython3",
   "version": "3.6.3"
  }
 },
 "nbformat": 4,
 "nbformat_minor": 2
}
