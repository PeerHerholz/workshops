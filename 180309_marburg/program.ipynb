{
 "cells": [
  {
   "cell_type": "markdown",
   "metadata": {},
   "source": [
    "# Workshop Marburg 2018\n",
    "\n",
    "These are my program suggestions/adaptations for Friday and Saturday."
   ]
  },
  {
   "cell_type": "markdown",
   "metadata": {},
   "source": [
    "## Friday"
   ]
  },
  {
   "cell_type": "markdown",
   "metadata": {},
   "source": [
    "### `09:00 - 09:30 Breakfast`"
   ]
  },
  {
   "cell_type": "markdown",
   "metadata": {},
   "source": [
    "### `09:30 - 10:00 Introduction workshop` (Peer)\n",
    "\n",
    "See: [slides/intro.html](slides/intro.html)\n",
    "\n",
    "**Important** - The slides haven't been updated yet!\n",
    "\n",
    "Suggested content:\n",
    "\n",
    "- Why this workshop\n",
    "    - Empower you with tools and technologies to do reproducible, scalable, and efficient research\n",
    "    - Familiarize you with the Python ecosystem for scientific work\n",
    "- Structure of this workshop\n",
    "- Summary of the 3 days\n",
    "- Logistics"
   ]
  },
  {
   "cell_type": "markdown",
   "metadata": {},
   "source": [
    "\n",
    "### `10:00 - 11:00 Introduction Docker` (Peer & Michael?)\n",
    "\n",
    "See: [slides/docker.html](slides/docker.html)\n",
    "\n",
    "**Important** - The slides haven't been updated yet!\n",
    "\n",
    "\n",
    "Suggested content: Probably the best approach is to reuse some slides (or all) from the Boston workshop: http://nipy.org/workshops/2017-03-boston/lectures/lesson-container\n",
    "\n",
    "- What is docker?\n",
    "- Why in the context of reproducability?  \n",
    "- How Docker works (Mac, Linux & Windows (virtual machine thing)) (perhaps from the nipype_tutorial?)\n",
    "- Exercises http://nipy.org/workshops/2017-03-boston/lectures/lesson-container/#28\n",
    "- Neurodocker\n",
    "- Questions?"
   ]
  },
  {
   "cell_type": "markdown",
   "metadata": {},
   "source": [
    "### `11:00 - 12:00 Introduction jupyter notebooks` (Peer & Michael)\n",
    "\n",
    "See: [slides/jupyter_notebook.html](slides/jupyter_notebook.html)\n",
    "\n",
    "**Important** - The slides haven't been updated yet!\n",
    "\n",
    "Suggested content:\n",
    "\n",
    "- Perhaps start with IPython, Anaconda, show Spyder (similar to MATLAB)\n",
    "- Than go to Jupyter notebooks (perhaps take 1:1 from the nipype_tutorial: https://miykael.github.io/nipype_tutorial/notebooks/introduction_jupyter-notebook.html)\n",
    "- Why notebooks are good for reproducability?\n",
    "    - show LIGO example: they got the nobel price of 2017 and you can recreate their results of the paper with a notebook: https://losc.ligo.org/s/events/GW150914/LOSC_Event_tutorial_GW150914.html\n",
    "- Mybinder?\n",
    "    - LIGO example - https://mybinder.org/v2/gh/losc-tutorial/LOSC_Event_tutorial/master"
   ]
  },
  {
   "cell_type": "markdown",
   "metadata": {},
   "source": [
    "### `12:00 - 13:00 Introduction python` (Michael)\n",
    "\n",
    "See: [slides/python_basic.html](slides/python_basic.html)\n",
    "\n",
    "**Important** - The slides haven't been updated yet!\n",
    "\n",
    "- First steps (basics)\n",
    "- Importing and exporting of data\n",
    "- debugging\n",
    "\n",
    "See: [`notebooks/python/01_python_basic.ipynb`](notebooks/python/01_python_basic.ipynb)"
   ]
  },
  {
   "cell_type": "markdown",
   "metadata": {},
   "source": [
    "### `13:00 - 14:00 Lunch`"
   ]
  },
  {
   "cell_type": "markdown",
   "metadata": {},
   "source": [
    "### `14:00 - 15:00 Data exploration with python I - plotting & statistics` (Michael & Peer?)\n",
    "\n",
    "See: [slides/python_visualization.html](slides/python_visualization.html)  \n",
    "See: [slides/python_statistics.html](slides/python_statistics.html)\n",
    "\n",
    "**Important** - The slides haven't been updated yet!\n",
    "\n",
    "- Plotting with (`Matplotlib`, `Seaborn`, `Pandas`, `Bokeh`, `Plotly`, `HoloViews`)\n",
    "- Statistics with `Pandas`, `statsmodels` and `seaborn`\n",
    "\n",
    "See: [`notebooks/python/02_python_visualization.ipynb`](notebooks/python/02_python_visualization.ipynb)  \n",
    "See: [`notebooks/python/03_python_statistics.ipynb`](notebooks/python/03_python_statistics.ipynb)"
   ]
  },
  {
   "cell_type": "markdown",
   "metadata": {},
   "source": [
    "### `15:00 - 16:00 data exploration with python II - scientific python` (Michael)\n",
    "\n",
    "See: [slides/python_numpy.html](slides/python_numpy.html)  \n",
    "See: [slides/python_scipy.html](slides/python_scipy.html)  \n",
    "See: [slides/python_scikit.html](slides/python_scikit.html)\n",
    "\n",
    "**Important** - The slides haven't been updated yet!\n",
    "\n",
    "- Scientific Python is all about Numpy and Scipy (Mostly based on http://www.scipy-lectures.org/intro/index.html)\n",
    "- More advanced technics for machine learning and signal processing can be found in `scikit-learn` and `scikit-image`\n",
    "\n",
    "See: [`notebooks/python/04_python_numpy.ipynb`](notebooks/python/04_python_numpy.ipynb)  \n",
    "See: [`notebooks/python/05_python_scipy.ipynb`](notebooks/python/05_python_scipy.ipynb)  \n",
    "See: [`notebooks/python/06_python_scikit.ipynb`](notebooks/python/06_python_scikit.ipynb)"
   ]
  },
  {
   "cell_type": "markdown",
   "metadata": {},
   "source": [
    "## Saturday"
   ]
  },
  {
   "cell_type": "markdown",
   "metadata": {},
   "source": [
    "### `09:00 - 09:30 breakfast`"
   ]
  },
  {
   "cell_type": "markdown",
   "metadata": {},
   "source": [
    "### `09:30 - 10:00 Data Sharing (BIDS, DataLad, OpenfMRI, git-annex)` (Peer & Michael?)\n",
    "\n",
    "See: [slides/bids.html](slides/bids.html)\n",
    "\n",
    "**Important** - The slides haven't been updated yet!\n",
    "\n",
    "I would recommend to make here a connection with reproducability and open neuro, by explaining that docker, jupyter notebooks and data-sharing give us the opportunity to completly recreate the analysis.\n",
    "\n",
    "Content wise, I perhaps would briefly introduce:\n",
    "\n",
    "- (optional) DICOM converter (dcm2niix), heudiconv, etc.\n",
    "- BIDS (pybids), BIDS-app, fMRIPrep, MRIQC\n",
    "- BIDS validator \n",
    "- Something about git-annex (Hanke?) / datalad / openfMRI / neurovault / OpenNeuro\n",
    "- Data sharing in general and importants of ethics (I have a link for this somewhere)\n",
    "\n",
    "Parts (or all) of it can be taken from: https://miykael.github.io/nipype_tutorial/notebooks/introduction_dataset.html\n",
    "\n",
    "See: [`notebooks/neuroimaging/01_nipype_bids.ipynb`](notebooks/neuroimaging/01_nipype_bids.ipynb)  "
   ]
  },
  {
   "cell_type": "markdown",
   "metadata": {},
   "source": [
    "### `10:00 - 11:00 Introduction nipype` (Michael)\n",
    "\n",
    "See: [slides/nipype_intro.html](slides/nipype_intro.html)\n",
    "\n",
    "**Important** - The slides haven't been updated yet!\n",
    "\n",
    "- my introduction slides (https://miykael.github.io/nipype_tutorial/notebooks/introduction_nipype.html)\n",
    "- quickstart: https://miykael.github.io/nipype_tutorial/notebooks/introduction_quickstart.html\n",
    "- short example of an actual pipeline execution that shows the profit of parallelization (http://nipype.readthedocs.io/en/latest/users/resource_sched_profiler.html#visualizing-pipeline-resources)\n",
    "\n",
    "See: [`notebooks/neuroimaging/02_nipype_hello_world.ipynb`](notebooks/neuroimaging/02_nipype_hello_world.ipynb)  "
   ]
  },
  {
   "cell_type": "markdown",
   "metadata": {},
   "source": [
    "### `11:00 - 13:00 nipype interfaces & workflows` (Michael)\n",
    "\n",
    "See: [slides/nipype_basic.html](slides/nipype_basic.html)\n",
    "\n",
    "**Important** - The slides haven't been updated yet!\n",
    "\n",
    "- some of the \"Basic Concepts\" tutorials from nipype_tutorial\n",
    "- with exercises"
   ]
  },
  {
   "cell_type": "markdown",
   "metadata": {},
   "source": [
    "### `13:00 - 14:00 lunch`"
   ]
  },
  {
   "cell_type": "markdown",
   "metadata": {},
   "source": [
    "### `14:00 - 16:00 preprocessing, 1st & 2nd analyses in nipype` (Michael)\n",
    "\n",
    "See: [slides/nipype_workflow_and_interfaces.html](slides/nipype_workflow_and_interfaces.html)\n",
    "\n",
    "**Important** - The slides haven't been updated yet!\n",
    "\n",
    "\n",
    "- Showing the Workflow examples\n",
    "- Hands on - creating a basic workflow (based on fMRI, with some goodies)\n",
    "- (optional) - they can also create their own workflow\n",
    "- Show the import workflow feature, for already finished ready to use workflows: probably a FSL example from http://nipype.readthedocs.io/en/latest/interfaces/generated/workflows.fmri/fsl.preprocess.html\n",
    "\n",
    "See: [`notebooks/neuroimaging/03_nipype_workflow_exercise.ipynb`](notebooks/neuroimaging/03_nipype_workflow_exercise.ipynb)  "
   ]
  },
  {
   "cell_type": "markdown",
   "metadata": {},
   "source": [
    "### `16:00 - 17:00 Nibabel & Nilearn` (Michael)\n",
    "\n",
    "See: [slides/nibabel_and_nilearn.html](slides/nibabel_and_nilearn.html.html)\n",
    "\n",
    "**Important** - The slides haven't been updated yet!\n",
    "\n",
    "\n",
    "- Show some nice python tricks to handle MRI data\n",
    "- Perhaps even show them MNI-atlas-reader (work in progress from Michael)\n",
    "- PyMVPA (?): http://www.pymvpa.org/tutorial.html\n",
    "- look into neuroviz: https://github.com/neuro-data-science/neuroviz"
   ]
  },
  {
   "cell_type": "markdown",
   "metadata": {},
   "source": [
    "### `17:00 - 18:30 public keynote lecture by Michael Hanke, followed by a roundtable`\n",
    "\n",
    "**Wohoo, so cool!**"
   ]
  },
  {
   "cell_type": "markdown",
   "metadata": {},
   "source": [
    "### `18:30 - 19:00 wine & cheese`"
   ]
  },
  {
   "cell_type": "markdown",
   "metadata": {},
   "source": [
    "### `19:00 - ??? social event: dinner & bar crawl through Marburg's old town`"
   ]
  }
 ],
 "metadata": {
  "anaconda-cloud": {},
  "kernelspec": {
   "display_name": "Python [default]",
   "language": "python",
   "name": "python3"
  },
  "language_info": {
   "codemirror_mode": {
    "name": "ipython",
    "version": 3
   },
   "file_extension": ".py",
   "mimetype": "text/x-python",
   "name": "python",
   "nbconvert_exporter": "python",
   "pygments_lexer": "ipython3",
   "version": "3.6.3"
  }
 },
 "nbformat": 4,
 "nbformat_minor": 2
}
