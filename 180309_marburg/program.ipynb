{
 "cells": [
  {
   "cell_type": "markdown",
   "metadata": {},
   "source": [
    "# Workshop Marburg 2018\n",
    "\n",
    "### <span style=\"color:red\">Please see the [Workshop Doc](https://goo.gl/aYzr7C) file for supportive material and everything else you need to know.</span>"
   ]
  },
  {
   "cell_type": "markdown",
   "metadata": {},
   "source": [
    "## Friday"
   ]
  },
  {
   "cell_type": "markdown",
   "metadata": {},
   "source": [
    "### `09:00 - 09:30` Breakfast"
   ]
  },
  {
   "cell_type": "markdown",
   "metadata": {},
   "source": [
    "### `09:30 - 10:00` Introduction Workshop - Peer\n",
    "\n",
    "See: [slides/intro.html](slides/intro.html)"
   ]
  },
  {
   "cell_type": "markdown",
   "metadata": {},
   "source": [
    "### `10:00 - 11:00` <span style=\"color:red\">Introduction Docker</span> - Peer & Michael\n",
    "\n",
    "See: [slides/docker.html](slides/docker.html)\n",
    "\n",
    "**Important** - The slides haven't been updated yet!\n",
    "\n",
    "\n",
    "Suggested content: Probably the best approach is to reuse some slides (or all) from the Boston workshop: http://nipy.org/workshops/2017-03-boston/lectures/lesson-container\n",
    "\n",
    "- What is docker?\n",
    "- Why in the context of reproducability?  \n",
    "- How Docker works (Mac, Linux & Windows (virtual machine thing)) (perhaps from the nipype_tutorial?)\n",
    "- Exercises http://nipy.org/workshops/2017-03-boston/lectures/lesson-container/#28\n",
    "- Neurodocker\n",
    "- Questions?\n",
    "\n",
    "\n",
    "Perhaps look into https://github.com/miykael/nipype_course to find instruction on how to use Docker on windows."
   ]
  },
  {
   "cell_type": "markdown",
   "metadata": {},
   "source": [
    "### `11:00 - 12:00` Introduction to Jupyter Notebook - Peer & Michael\n",
    "\n",
    "See: [slides/jupyter_notebook.html](slides/jupyter_notebook.html)"
   ]
  },
  {
   "cell_type": "markdown",
   "metadata": {},
   "source": [
    "### `12:00 - 13:00` Introduction to python - Michael\n",
    "\n",
    "* Notebook: [python/01_python_basic.ipynb](notebooks/python/01_python_basic.ipynb)  \n",
    "* Slides: [python_basic.html](slides/python_basic.html)"
   ]
  },
  {
   "cell_type": "markdown",
   "metadata": {},
   "source": [
    "### `13:00 - 14:00` Lunch"
   ]
  },
  {
   "cell_type": "markdown",
   "metadata": {},
   "source": [
    "### `14:00 - 15:00` Data exploration with python I - plotting & statistics - Michael & Peer\n",
    "\n",
    "* Visualization (~30min)\n",
    "    * Notebook: [python/02_python_visualization.ipynb](notebooks/python/02_python_visualization.ipynb)  \n",
    "    * Slides: [python_visualization.html](slides/python_visualization.html)\n",
    "* Statistics (~30min)\n",
    "    * Notebook: [python/03_python_statistics.ipynb](notebooks/python/03_python_statistics.ipynb)  \n",
    "    * Slides: [python_statistics.html](slides/python_statistics.html)"
   ]
  },
  {
   "cell_type": "markdown",
   "metadata": {},
   "source": [
    "### `15:00 - 16:00` Data exploration with python II - scientific python - Michael\n",
    "\n",
    "* Numpy (~35min)\n",
    "    * Notebook: [python/04_python_numpy.ipynb](notebooks/python/04_python_numpy.ipynb)  \n",
    "    * Slides: [python_numpy.html](slides/python_numpy.html)  \n",
    "* Scipy (~20min)\n",
    "    * Notebook: [python/05_python_scipy.ipynb](notebooks/python/05_python_scipy.ipynb)  \n",
    "    * Slides: [python_scipy.html](slides/python_scipy.html)  \n",
    "* Scikit-learn & Scikit-Image (~5min)\n",
    "    * Notebook: [python/06_python_scikit.ipynb](notebooks/python/06_python_scikit.ipynb)"
   ]
  },
  {
   "cell_type": "markdown",
   "metadata": {},
   "source": [
    "### `16:00 - 17:00` Possibly start session on data sharing / reproducibility here?\n",
    "\n",
    " * as we have quite a lot to present / discuss / show we could make use of this currently unassigned spot, especially wrt data, etc.\n",
    " * **Michael**: *If we can put all of it (or most) onto this day. That would of course be great. I realized that the second day might be rather charged. And I would love to have some actual hand-on with the participants to make sure that they setup a Nipype workflow from A-Z themselves.*"
   ]
  },
  {
   "cell_type": "markdown",
   "metadata": {},
   "source": [
    "## Saturday"
   ]
  },
  {
   "cell_type": "markdown",
   "metadata": {},
   "source": [
    "### `09:00 - 09:30` Breakfast"
   ]
  },
  {
   "cell_type": "markdown",
   "metadata": {},
   "source": [
    "### `09:30 - 10:00` <span style=\"color:red\">Data Sharing - BIDS, DataLad, OpenfMRI, git-annex</span> - Peer & Michael\n",
    "\n",
    "See: [slides/bids.html](slides/bids.html)\n",
    "\n",
    "**Important** - The slides haven't been updated yet!\n",
    "\n",
    "I would recommend to make here a connection with reproducability and open neuro, by explaining that docker, jupyter notebooks and data-sharing give us the opportunity to completly recreate the analysis.\n",
    "\n",
    "Content wise, I perhaps would briefly introduce:\n",
    "\n",
    "- (optional) DICOM converter (dcm2niix), heudiconv, etc.\n",
    "- BIDS (pybids), BIDS-app, fMRIPrep, MRIQC\n",
    "- BIDS validator \n",
    "- Something about git-annex (Hanke?) / datalad / openfMRI / neurovault / OpenNeuro\n",
    "- Data sharing in general and importants of ethics (I have a link for this somewhere)\n",
    "\n",
    "Parts (or all) of it can be taken from: https://miykael.github.io/nipype_tutorial/notebooks/introduction_dataset.html\n",
    "Further suggested content: reuse slides and notebooks from nipype hackweek, e.g. [here](http://nipy.org/workshops/2017-03-boston/lectures/bids-heudiconv/#1) & [here](http://nbviewer.jupyter.org/github/nipy/workshops/blob/master/170327-nipype/notebooks/basic-bids/basic_data_input_bids.ipynb), as well as [Chris Gorgolewski's amazing talk last december in Leipzig](https://osf.io/vpxrj/)\n",
    "\n",
    "See: [`notebooks/neuroimaging/01_nipype_bids.ipynb`](notebooks/neuroimaging/01_nipype_bids.ipynb)  "
   ]
  },
  {
   "cell_type": "markdown",
   "metadata": {},
   "source": [
    "### `10:00 - 11:00` Introduction Nipype - Michael\n",
    "\n",
    "1. My introduction slides from the [nipype_tutorial](https://miykael.github.io/nipype_tutorial/notebooks/introduction_nipype.html)\n",
    "2. Showcase of Nipype's strength with [neuroimaging/01_nipype_showcase.ipynb](notebooks/neuroimaging/01_nipype_showcase.ipynb)\n",
    "3. [Quickstart Example](https://miykael.github.io/nipype_tutorial/notebooks/introduction_quickstart.html) (from nipype_tutorial) - also includes some exercises"
   ]
  },
  {
   "cell_type": "markdown",
   "metadata": {},
   "source": [
    "### `11:00 - 13:00` Nipype Interfaces & Workflows - Michael\n",
    "\n",
    "Slides: [nipype_interfaces_and_workflow.html](slides/nipype_interfaces_and_workflow.html)"
   ]
  },
  {
   "cell_type": "markdown",
   "metadata": {},
   "source": [
    "### `13:00 - 14:00` Lunch"
   ]
  },
  {
   "cell_type": "markdown",
   "metadata": {},
   "source": [
    "### `14:00 - 16:00` <span style=\"color:red\">Preprocessing, 1st & 2nd Analyses in Nipype</span> - Michael\n",
    "\n",
    "Notebook: [neuroimaging/02_nipype_workflow_exercise.ipynb](notebooks/neuroimaging/02_nipype_workflow_exercise.ipynb)  \n",
    "Slides: [nipype_workflow_and_interfaces.html](slides/nipype_workflow_and_interfaces.html)\n",
    "\n",
    "**Important** - The slides haven't been updated yet!\n",
    "\n",
    "\n",
    "- Showing the Workflow examples\n",
    "- Hands on - creating a basic workflow (based on fMRI, with some goodies)\n",
    "- (optional) - they can also create their own workflow\n",
    "- Show the import workflow feature, for already finished ready to use workflows: probably a FSL example from http://nipype.readthedocs.io/en/latest/interfaces/generated/workflows.fmri/fsl.preprocess.html"
   ]
  },
  {
   "cell_type": "markdown",
   "metadata": {},
   "source": [
    "### `16:00 - 17:00` Nibabel, Nilearn & PyMVPA - Michael\n",
    "\n",
    "(~20min) Notebook: [neuroimaging/03a_nibabel.ipynb](notebooks/neuroimaging/03a_nibabel.ipynb)  \n",
    "(~35min) Notebook: [neuroimaging/03b_nilearn.ipynb](notebooks/neuroimaging/03b_nilearn.ipynb)  \n",
    "(~5min) Notebook: [neuroimaging/03c_pymvpa.ipynb](notebooks/neuroimaging/03c_pymvpa.ipynb)  "
   ]
  },
  {
   "cell_type": "markdown",
   "metadata": {},
   "source": [
    "### `17:00 - 18:30` Public keynote lecture by Michael Hanke, followed by a roundtable\n",
    "\n",
    "**Wohoo, so cool!**"
   ]
  },
  {
   "cell_type": "markdown",
   "metadata": {},
   "source": [
    "### `18:30 - 19:00` wine & cheese"
   ]
  },
  {
   "cell_type": "markdown",
   "metadata": {},
   "source": [
    "### `19:00 - ??:??` social event: dinner & bar crawl through Marburg's old town"
   ]
  },
  {
   "cell_type": "markdown",
   "metadata": {},
   "source": [
    "## Sunday"
   ]
  },
  {
   "cell_type": "markdown",
   "metadata": {},
   "source": [
    "### `09:00 - 09:30` Breakfast"
   ]
  },
  {
   "cell_type": "markdown",
   "metadata": {},
   "source": [
    "### `09:30 - 10:00` Introduction and Basic Concepts in MNE"
   ]
  },
  {
   "cell_type": "markdown",
   "metadata": {},
   "source": [
    "### `10:00 - 12:00` Preprocessing & Basic ER[P/F]s"
   ]
  },
  {
   "cell_type": "markdown",
   "metadata": {},
   "source": [
    "### `12:00 - 13:00` Machine Learning/ MVPA/ Decoding Basics"
   ]
  },
  {
   "cell_type": "markdown",
   "metadata": {},
   "source": [
    "### `13:00 - 14:00` Lunch"
   ]
  },
  {
   "cell_type": "markdown",
   "metadata": {},
   "source": [
    "### `14:00 - 16:30` Advanced Analyses"
   ]
  },
  {
   "cell_type": "markdown",
   "metadata": {},
   "source": [
    "### `16:30 - 17:00` Wrap Up & Discussion"
   ]
  }
 ],
 "metadata": {
  "anaconda-cloud": {},
  "kernelspec": {
   "display_name": "Python [default]",
   "language": "python",
   "name": "python3"
  },
  "language_info": {
   "codemirror_mode": {
    "name": "ipython",
    "version": 3
   },
   "file_extension": ".py",
   "mimetype": "text/x-python",
   "name": "python",
   "nbconvert_exporter": "python",
   "pygments_lexer": "ipython3",
   "version": "3.6.3"
  }
 },
 "nbformat": 4,
 "nbformat_minor": 2
}
