{
 "cells": [
  {
   "cell_type": "markdown",
   "metadata": {},
   "source": [
    "# Workshop Marburg 2018\n",
    "\n",
    "### <span style=\"color:red\">Please see the [general information](https://docs.google.com/document/d/18L_rTEd0QA9fnaiqgIKJ_Jk-TZM094AbhdzbyVwc0tY/edit?usp=sharing) and [Workshop Doc](https://goo.gl/aYzr7C) file for supportive material and everything else you need to know.</span>"
   ]
  },
  {
   "cell_type": "markdown",
   "metadata": {},
   "source": [
    "## Friday"
   ]
  },
  {
   "cell_type": "markdown",
   "metadata": {},
   "source": [
    "### `09:00 - 09:30` Breakfast"
   ]
  },
  {
   "cell_type": "markdown",
   "metadata": {},
   "source": [
    "### `09:30 - 10:00` Introduction Workshop\n",
    "\n",
    "Slides: [intro.html](slides/intro.html)"
   ]
  },
  {
   "cell_type": "markdown",
   "metadata": {},
   "source": [
    "### `10:00 - 11:00` Introduction Docker\n",
    "\n",
    "Slides: [docker.html](slides/docker.html)"
   ]
  },
  {
   "cell_type": "markdown",
   "metadata": {},
   "source": [
    "### `11:00 - 11:30` Introduction to Jupyter Notebook\n",
    "\n",
    "Slides: [jupyter_notebook.html](slides/jupyter_notebook.html)"
   ]
  },
  {
   "cell_type": "markdown",
   "metadata": {},
   "source": [
    "### `11:30 - 12:30` Introduction to Python\n",
    "\n",
    "* Slides: [python_basic.html](slides/python_basic.html)\n",
    "* Notebook: [python/01_python_basic.ipynb](notebooks/python/01_python_basic.ipynb)"
   ]
  },
  {
   "cell_type": "markdown",
   "metadata": {},
   "source": [
    "### `12:30 - 13:00` Data exploration with Python I - plotting\n",
    "\n",
    "* Slides: [python_visualization.html](slides/python_visualization.html)\n",
    "* Notebook: [python/02_python_visualization.ipynb](notebooks/python/02_python_visualization.ipynb)  "
   ]
  },
  {
   "cell_type": "markdown",
   "metadata": {},
   "source": [
    "### `13:00 - 14:00` Lunch"
   ]
  },
  {
   "cell_type": "markdown",
   "metadata": {},
   "source": [
    "### `14:00 - 16:00` Data exploration with Python II - scientific python\n",
    "\n",
    "* Numpy (~50min)\n",
    "    * Slides: [python_numpy.html](slides/python_numpy.html)  \n",
    "    * Notebook: [python/03_python_numpy.ipynb](notebooks/python/03_python_numpy.ipynb)  \n",
    "\n",
    "\n",
    "* Scipy (~20min)\n",
    "    * Slides: [python_scipy.html](slides/python_scipy.html)  \n",
    "    * Notebook: [python/04_python_scipy.ipynb](notebooks/python/04_python_scipy.ipynb)  \n",
    "\n",
    "\n",
    "* Scikit-learn & Scikit-Image (~10min)\n",
    "    * Notebook: [python/05_python_scikit.ipynb](notebooks/python/05_python_scikit.ipynb)\n",
    "\n",
    "\n",
    "* Statistics (~40min)\n",
    "    * Slides: [python_statistics.html](slides/python_statistics.html)\n",
    "    * Notebook: [python/06_python_statistics.ipynb](notebooks/python/06_python_statistics.ipynb)  "
   ]
  },
  {
   "cell_type": "markdown",
   "metadata": {},
   "source": [
    "### `16:00 - 17:00` <span style=\"color:red\">Data management & sharing - Part I</span>"
   ]
  },
  {
   "cell_type": "markdown",
   "metadata": {},
   "source": [
    "## Saturday"
   ]
  },
  {
   "cell_type": "markdown",
   "metadata": {},
   "source": [
    "### `09:00 - 09:30` Breakfast"
   ]
  },
  {
   "cell_type": "markdown",
   "metadata": {},
   "source": [
    "### `09:30 - 10:00` <span style=\"color:red\">Data management & sharing - Part II</span>\n",
    "\n",
    "See: [slides/bids.html](slides/bids.html)\n",
    "\n",
    "**Important** - The slides haven't been updated yet!\n",
    "\n",
    "I would recommend to make here a connection with reproducability and open neuro, by explaining that docker, jupyter notebooks and data-sharing give us the opportunity to completly recreate the analysis.\n",
    "\n",
    "Content wise, I perhaps would briefly introduce:\n",
    "\n",
    "- (optional) DICOM converter (dcm2niix), heudiconv, etc.\n",
    "- BIDS (pybids), BIDS-app, fMRIPrep, MRIQC\n",
    "- BIDS validator \n",
    "- Something about git-annex (Hanke?) / datalad / openfMRI / neurovault / OpenNeuro\n",
    "- Data sharing in general and importants of ethics (I have a link for this somewhere)\n",
    "\n",
    "Parts (or all) of it can be taken from: https://miykael.github.io/nipype_tutorial/notebooks/introduction_dataset.html\n",
    "Further suggested content: reuse slides and notebooks from nipype hackweek, e.g. [here](http://nipy.org/workshops/2017-03-boston/lectures/bids-heudiconv/#1) & [here](http://nbviewer.jupyter.org/github/nipy/workshops/blob/master/170327-nipype/notebooks/basic-bids/basic_data_input_bids.ipynb), as well as [Chris Gorgolewski's amazing talk last december in Leipzig](https://osf.io/vpxrj/)\n",
    "\n",
    "See: [`notebooks/neuroimaging/01_nipype_bids.ipynb`](notebooks/neuroimaging/01_nipype_bids.ipynb)  "
   ]
  },
  {
   "cell_type": "markdown",
   "metadata": {},
   "source": [
    "### `10:00 - 11:00` Introduction Nipype\n",
    "\n",
    "1. My introduction slides from the [nipype_tutorial](https://miykael.github.io/nipype_tutorial/notebooks/introduction_nipype.html)\n",
    "2. Showcase of Nipype's strength with [neuroimaging/01_nipype_showcase.ipynb](notebooks/neuroimaging/01_nipype_showcase.ipynb)\n",
    "3. [Quickstart Example](https://miykael.github.io/nipype_tutorial/notebooks/introduction_quickstart.html) (from nipype_tutorial) - also includes some exercises"
   ]
  },
  {
   "cell_type": "markdown",
   "metadata": {},
   "source": [
    "### `11:00 - 13:00` Nipype Interfaces & Workflows\n",
    "\n",
    "Slides: [nipype_interfaces_and_workflow.html](slides/nipype_interfaces_and_workflow.html)"
   ]
  },
  {
   "cell_type": "markdown",
   "metadata": {},
   "source": [
    "### `13:00 - 14:00` Lunch"
   ]
  },
  {
   "cell_type": "markdown",
   "metadata": {},
   "source": [
    "### `14:00 - 16:00` Preprocessing, 1st & 2nd Analyses in Nipype\n",
    "\n",
    "(~75min) Notebook: [neuroimaging/02a_nipype_handson_preprocessing.ipynb](notebooks/neuroimaging/02a_nipype_handson_preprocessing.ipynb)  \n",
    "(~45min) Notebook: [neuroimaging/02b_nipype_handson_analysis.ipynb](notebooks/neuroimaging/02b_nipype_handson_analysis.ipynb)"
   ]
  },
  {
   "cell_type": "markdown",
   "metadata": {},
   "source": [
    "### `16:00 - 17:00` Nibabel, Nilearn & PyMVPA\n",
    "\n",
    "(~20min) Notebook: [neuroimaging/03a_nibabel.ipynb](notebooks/neuroimaging/03a_nibabel.ipynb)  \n",
    "(~35min) Notebook: [neuroimaging/03b_nilearn.ipynb](notebooks/neuroimaging/03b_nilearn.ipynb)  \n",
    "(~5min) Notebook: [neuroimaging/03c_pymvpa.ipynb](notebooks/neuroimaging/03c_pymvpa.ipynb)  "
   ]
  },
  {
   "cell_type": "markdown",
   "metadata": {},
   "source": [
    "### `17:00 - 18:30` Public keynote lecture by Michael Hanke, followed by a roundtable\n",
    "\n",
    "**Wohoo, so cool!**"
   ]
  },
  {
   "cell_type": "markdown",
   "metadata": {},
   "source": [
    "### `18:30 - 19:00` wine & cheese"
   ]
  },
  {
   "cell_type": "markdown",
   "metadata": {},
   "source": [
    "### `19:00 - ??:??` social event: dinner & bar crawl through Marburg's old town"
   ]
  },
  {
   "cell_type": "markdown",
   "metadata": {},
   "source": [
    "## Sunday"
   ]
  },
  {
   "cell_type": "markdown",
   "metadata": {},
   "source": [
    "### `09:00 - 09:30` Breakfast"
   ]
  },
  {
   "cell_type": "markdown",
   "metadata": {},
   "source": [
    "### `09:30 - 10:00` Introduction and Basic Concepts in MNE"
   ]
  },
  {
   "cell_type": "markdown",
   "metadata": {},
   "source": [
    "### `10:00 - 12:00` Preprocessing & Basic ER[P/F]s"
   ]
  },
  {
   "cell_type": "markdown",
   "metadata": {},
   "source": [
    "### `12:00 - 13:00` Machine Learning/ MVPA/ Decoding Basics"
   ]
  },
  {
   "cell_type": "markdown",
   "metadata": {},
   "source": [
    "### `13:00 - 14:00` Lunch"
   ]
  },
  {
   "cell_type": "markdown",
   "metadata": {},
   "source": [
    "### `14:00 - 16:30` Advanced Analyses"
   ]
  },
  {
   "cell_type": "markdown",
   "metadata": {},
   "source": [
    "### `16:30 - 17:00` Wrap Up & Discussion"
   ]
  }
 ],
 "metadata": {
  "anaconda-cloud": {},
  "kernelspec": {
   "display_name": "Python [default]",
   "language": "python",
   "name": "python3"
  },
  "language_info": {
   "codemirror_mode": {
    "name": "ipython",
    "version": 3
   },
   "file_extension": ".py",
   "mimetype": "text/x-python",
   "name": "python",
   "nbconvert_exporter": "python",
   "pygments_lexer": "ipython3",
   "version": "3.6.3"
  }
 },
 "nbformat": 4,
 "nbformat_minor": 2
}
