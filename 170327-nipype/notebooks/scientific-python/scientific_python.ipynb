{
 "cells": [
  {
   "cell_type": "markdown",
   "metadata": {
    "slideshow": {
     "slide_type": "slide"
    }
   },
   "source": [
    "# The Python scientific computing stack\n",
    "* The Python ecosystem contains tens of thousands of packages\n",
    "* Several of these are nearly universal in scientific Python applications:\n",
    "    * [Jupyter/IPython](http://jupyter.org): interactive notebooks\n",
    "    * [Numpy](http://numpy.org): numerical computing in Python\n",
    "    * [Scipy](http://scipy.org): scientific Python tools\n",
    "    * [Matplotlib](http://matplotlib.org): plotting in Python\n",
    "    * [pandas](http://pandas.pydata.org/): complex data structures for Python\n",
    "    * [scikit-learn](http://scikit-learn.org): machine learning in Python"
   ]
  },
  {
   "cell_type": "markdown",
   "metadata": {
    "slideshow": {
     "slide_type": "slide"
    }
   },
   "source": [
    "# The Jupyter notebook\n",
    "* \"The [Jupyter Notebook](http://jupyter.org) is a web application that allows you to create and share documents that contain live code, equations, visualizations and explanatory text.\"\n",
    "* Formerly the IPython Notebook\n",
    "* Supports dozens of languages\n",
    "* A living document wrapped around a command prompt"
   ]
  },
  {
   "cell_type": "markdown",
   "metadata": {
    "slideshow": {
     "slide_type": "subslide"
    }
   },
   "source": [
    "## Why Jupyter?\n",
    "* An easy way to write completely reproducible documents\n",
    "* Combine code, results, and text in one place\n",
    "* You can mix languages\n",
    "* Completely interactive: make a change and see what happens\n",
    "* Once you get used to it, hard to imagine doing things any other way"
   ]
  },
  {
   "cell_type": "markdown",
   "metadata": {
    "slideshow": {
     "slide_type": "subslide"
    }
   },
   "source": [
    "### Built-in LaTeX support\n",
    "$$ F(k) = \\int_{-\\infty}^{\\infty} f(x) e^{2\\pi i k} dx $$"
   ]
  },
  {
   "cell_type": "markdown",
   "metadata": {
    "slideshow": {
     "slide_type": "subslide"
    }
   },
   "source": [
    "### Magic functions\n",
    "* Jupyter includes a number of [\"magic\" commands](https://ipython.org/ipython-doc/3/interactive/magics.html) to make life easier\n",
    "* Support in-line plotting, timing, debugging, calling other languages, etc."
   ]
  },
  {
   "cell_type": "code",
   "execution_count": null,
   "metadata": {
    "collapsed": false,
    "slideshow": {
     "slide_type": "subslide"
    }
   },
   "outputs": [],
   "source": [
    "# This line says we want plots displayed in cell output\n",
    "%matplotlib inline\n",
    "\n",
    "import matplotlib.pyplot as plt\n",
    "import numpy as np\n",
    "\n",
    "x = np.random.normal(size=100)\n",
    "y = np.random.normal(size=100)\n",
    "p = plt.scatter(x, y)"
   ]
  },
  {
   "cell_type": "markdown",
   "metadata": {
    "slideshow": {
     "slide_type": "slide"
    }
   },
   "source": [
    "## Numpy\n",
    "* \"The fundamental package for scientific computing with Python\"\n",
    "* The basic building block of most data analysis in Python\n",
    "* Numpy arrays: N-dimensional, homogeneous, unlabeled arrays\n",
    "* Working with numpy will look familiar if you've spent time in an environment like R or [Matlab](https://docs.scipy.org/doc/numpy-dev/user/numpy-for-matlab-users.html)\n",
    "    * If you haven't, I recommend doing [a numpy tutorial](http://www.python-course.eu/numpy.php) or two\n",
    "* Numpy contains highly optimized routines for creating and manipulating arrays"
   ]
  },
  {
   "cell_type": "code",
   "execution_count": null,
   "metadata": {
    "collapsed": false,
    "slideshow": {
     "slide_type": "subslide"
    }
   },
   "outputs": [],
   "source": [
    "# In Python, we have to import the modules/functions we intend\n",
    "# to use. Typically, this is done at the top of a file.\n",
    "import numpy as np\n",
    "import matplotlib.pyplot as plt\n",
    "\n",
    "# A little bit of Jupyter magic that allows us to\n",
    "# draw all plots inline in the notebook.\n",
    "%matplotlib inline"
   ]
  },
  {
   "cell_type": "code",
   "execution_count": null,
   "metadata": {
    "collapsed": false,
    "slideshow": {
     "slide_type": "subslide"
    }
   },
   "outputs": [],
   "source": [
    "# Create a 1D numpy array with values 0 through 99\n",
    "a = np.arange(100)\n",
    "a"
   ]
  },
  {
   "cell_type": "code",
   "execution_count": null,
   "metadata": {
    "collapsed": false,
    "slideshow": {
     "slide_type": "subslide"
    }
   },
   "outputs": [],
   "source": [
    "# \"Slice\" the array: pull out the 3rd through 7th elements\n",
    "b = a[2:7]\n",
    "b"
   ]
  },
  {
   "cell_type": "markdown",
   "metadata": {
    "slideshow": {
     "slide_type": "subslide"
    }
   },
   "source": [
    "### Numpy is optimized for array operations\n",
    "Compare..."
   ]
  },
  {
   "cell_type": "code",
   "execution_count": null,
   "metadata": {
    "collapsed": false,
    "slideshow": {
     "slide_type": "fragment"
    }
   },
   "outputs": [],
   "source": [
    "%%timeit\n",
    "\n",
    "c = a\n",
    "for i in range(100):\n",
    "    c[i] += 1000"
   ]
  },
  {
   "cell_type": "code",
   "execution_count": null,
   "metadata": {
    "collapsed": false,
    "slideshow": {
     "slide_type": "fragment"
    }
   },
   "outputs": [],
   "source": [
    "%timeit c = a + 1000"
   ]
  },
  {
   "cell_type": "markdown",
   "metadata": {
    "slideshow": {
     "slide_type": "subslide"
    }
   },
   "source": [
    "### N-dimensional arrays"
   ]
  },
  {
   "cell_type": "code",
   "execution_count": null,
   "metadata": {
    "collapsed": false,
    "slideshow": {
     "slide_type": "fragment"
    }
   },
   "outputs": [],
   "source": [
    "# Create a 10 x 10 x 10 array of normally distributed random values\n",
    "a = np.random.normal(size=(10, 10, 10))\n",
    "a"
   ]
  },
  {
   "cell_type": "code",
   "execution_count": null,
   "metadata": {
    "collapsed": false,
    "slideshow": {
     "slide_type": "fragment"
    }
   },
   "outputs": [],
   "source": [
    "print(\"Number of dimensions:\", a.ndim)\n",
    "print(\"Shape:\", a.shape)"
   ]
  },
  {
   "cell_type": "markdown",
   "metadata": {
    "slideshow": {
     "slide_type": "subslide"
    }
   },
   "source": [
    "### Indexing in N dimensions"
   ]
  },
  {
   "cell_type": "code",
   "execution_count": null,
   "metadata": {
    "collapsed": false,
    "slideshow": {
     "slide_type": "fragment"
    }
   },
   "outputs": [],
   "source": [
    "# Take a 1 x 2 x 10 bite out of the cube\n",
    "b = a[3, :2, :]\n",
    "b.shape"
   ]
  },
  {
   "cell_type": "markdown",
   "metadata": {
    "slideshow": {
     "slide_type": "subslide"
    }
   },
   "source": [
    "### Numpy arrays are plottable"
   ]
  },
  {
   "cell_type": "code",
   "execution_count": null,
   "metadata": {
    "collapsed": false,
    "slideshow": {
     "slide_type": "fragment"
    }
   },
   "outputs": [],
   "source": [
    "# Create a 2D array of lines\n",
    "a = np.arange(1000).reshape((10, 100))\n",
    "\n",
    "# Add some noise\n",
    "a = a + 20 * np.random.normal(size=(10, 100))\n",
    "\n",
    "# Plot only the 4rd through 7th rows\n",
    "for i in range(3, 7):\n",
    "    plt.plot(a[i, :])"
   ]
  },
  {
   "cell_type": "markdown",
   "metadata": {
    "slideshow": {
     "slide_type": "subslide"
    }
   },
   "source": [
    "### Numpy exercises\n",
    "1. Create two 2d arrays of any size and print their element-wise product\n",
    "2. Create a 1d array of any length and then reverse it (so the first element becomes the last)\n",
    "3. Matrix-multiply a random 10 x 100 matrix by a random 100 x 5 matrix\n",
    "4. 100 more short exercises can be found [here](http://www.labri.fr/perso/nrougier/teaching/numpy.100/)"
   ]
  },
  {
   "cell_type": "markdown",
   "metadata": {
    "slideshow": {
     "slide_type": "subslide"
    }
   },
   "source": [
    "## Everything revolves around numpy arrays\n",
    "* Scipy adds a bunch of useful science and engineering routines that operate on numpy arrays\n",
    "    * signal processing, statistical distributions, image analysis, etc.\n",
    "* pandas adds a powerful methods for manipulating numpy arrays\n",
    "    * Like data frames in R--but typically faster\n",
    "* scikit-learn supports state-of-the-art machine learning over numpy arrays\n",
    "    * Inputs and outputs of virtually all functions are numpy arrays"
   ]
  },
  {
   "cell_type": "markdown",
   "metadata": {
    "slideshow": {
     "slide_type": "slide"
    }
   },
   "source": [
    "# Scipy\n",
    "* Various scientific python tools\n",
    "* Signal processing, statistical distributions, convolution, sparse matrices, optimization, fourier transforms, etc. etc."
   ]
  },
  {
   "cell_type": "code",
   "execution_count": null,
   "metadata": {
    "collapsed": false,
    "slideshow": {
     "slide_type": "fragment"
    }
   },
   "outputs": [],
   "source": [
    "# Import the stats module from scipy\n",
    "import scipy.stats as ss\n",
    "\n",
    "# Get 10,000 random deviates from normal(10, 3)\n",
    "values = ss.norm.rvs(10, 3, size=1000)\n",
    "\n",
    "# Plot a histogram to approximate the normal PDF\n",
    "plt.hist(values, bins=50);"
   ]
  },
  {
   "cell_type": "code",
   "execution_count": null,
   "metadata": {
    "collapsed": false,
    "slideshow": {
     "slide_type": "fragment"
    }
   },
   "outputs": [],
   "source": [
    "# Plot the actual PDF\n",
    "x = np.linspace(0, 20, 1000)\n",
    "pdf = ss.norm.pdf(x, 10, 3)\n",
    "plt.plot(x, pdf)"
   ]
  },
  {
   "cell_type": "markdown",
   "metadata": {
    "slideshow": {
     "slide_type": "slide"
    }
   },
   "source": [
    "# Pandas\n",
    "* Provides functionality similar to data frames in R\n",
    "* Two main data structures: Series and DataFrames\n",
    "* A Series is a 1-dimensional numpy array with axis labels"
   ]
  },
  {
   "cell_type": "code",
   "execution_count": null,
   "metadata": {
    "collapsed": false,
    "slideshow": {
     "slide_type": "subslide"
    }
   },
   "outputs": [],
   "source": [
    "# Import pandas—by convention, as 'pd'\n",
    "import pandas as pd\n",
    "\n",
    "# Initialize a Series from a numpy array and index labels\n",
    "a = np.arange(3, 8)\n",
    "b = pd.Series(a, index=['apple', 'banana', 'orange', 'pear', 'grapes'])\n",
    "\n",
    "# Let's take a look...\n",
    "print(b)"
   ]
  },
  {
   "cell_type": "code",
   "execution_count": null,
   "metadata": {
    "collapsed": false,
    "slideshow": {
     "slide_type": "fragment"
    }
   },
   "outputs": [],
   "source": [
    "# Unlike numpy arrays, we can now refer to elements by label.\n",
    "# The syntax is similar to dictionary indexing. You can also\n",
    "# treat labels like attributes (e.g., b.pear), but this runs\n",
    "# the risk of collisions and should be avoided.\n",
    "print(b['pear'])"
   ]
  },
  {
   "cell_type": "code",
   "execution_count": null,
   "metadata": {
    "collapsed": false,
    "slideshow": {
     "slide_type": "fragment"
    }
   },
   "outputs": [],
   "source": [
    "# We can always retrieve the underlying numpy array with .values\n",
    "print(b.values)"
   ]
  },
  {
   "cell_type": "code",
   "execution_count": null,
   "metadata": {
    "collapsed": false,
    "slideshow": {
     "slide_type": "fragment"
    }
   },
   "outputs": [],
   "source": [
    "# Many numpy operations work the same in pandas, including slicing\n",
    "print(b[2:4])"
   ]
  },
  {
   "cell_type": "markdown",
   "metadata": {
    "slideshow": {
     "slide_type": "subslide"
    }
   },
   "source": [
    "### The pandas DataFrame\n",
    "* Basically a 2d numpy array with labels\n",
    "* Supports heterogeneous data types\n",
    "* All kinds of powerful functionality for data manipulation"
   ]
  },
  {
   "cell_type": "code",
   "execution_count": null,
   "metadata": {
    "collapsed": false,
    "slideshow": {
     "slide_type": "fragment"
    }
   },
   "outputs": [],
   "source": [
    "# Create a table of fake brain activations\n",
    "names = [\n",
    "    'Inferior Zydrun',\n",
    "    'Lateral Infitesimal Juncture',\n",
    "    'Mediocre Colliculus',\n",
    "    'Visual Cuneiform Area',\n",
    "    'Claustrum'\n",
    "]\n",
    "\n",
    "xyz = np.random.randint(-60, 60, (5, 3))\n",
    "vol = np.random.uniform(400, 4000, 5)\n",
    "\n",
    "data = pd.DataFrame({\n",
    "        'name': names,\n",
    "        'x': xyz[:, 0],\n",
    "        'y': xyz[:, 1],\n",
    "        'z': xyz[:, 2],\n",
    "        'vol': vol\n",
    "    })\n",
    "\n",
    "data"
   ]
  },
  {
   "cell_type": "markdown",
   "metadata": {
    "slideshow": {
     "slide_type": "subslide"
    }
   },
   "source": [
    "### Indexing pandas DataFrames\n",
    "* pandas DFs support [flexible indexing](http://pandas.pydata.org/pandas-docs/stable/indexing.html#indexing) by labels and/or indices\n",
    "    * A common gotcha: R-style indexing won't work\n",
    "    * Be explicit about whether you're using integer or label indexing"
   ]
  },
  {
   "cell_type": "code",
   "execution_count": null,
   "metadata": {
    "collapsed": false,
    "slideshow": {
     "slide_type": "fragment"
    }
   },
   "outputs": [],
   "source": [
    "# This won't work!\n",
    "data[0, 'name']"
   ]
  },
  {
   "cell_type": "code",
   "execution_count": null,
   "metadata": {
    "collapsed": false,
    "slideshow": {
     "slide_type": "fragment"
    }
   },
   "outputs": [],
   "source": [
    "# # but .ix supports mixed integer and label based access\n",
    "data.ix[0, 'name']"
   ]
  },
  {
   "cell_type": "code",
   "execution_count": null,
   "metadata": {
    "collapsed": false,
    "slideshow": {
     "slide_type": "fragment"
    }
   },
   "outputs": [],
   "source": [
    "# # Returns the entire column\n",
    "data['name']  "
   ]
  },
  {
   "cell_type": "code",
   "execution_count": null,
   "metadata": {
    "collapsed": false,
    "slideshow": {
     "slide_type": "fragment"
    }
   },
   "outputs": [],
   "source": [
    "# # Position-based selection; returns all of rows 2 - 5\n",
    "data.iloc[2:5]"
   ]
  },
  {
   "cell_type": "code",
   "execution_count": null,
   "metadata": {
    "collapsed": false,
    "slideshow": {
     "slide_type": "fragment"
    }
   },
   "outputs": [],
   "source": [
    "# # Returns rows 2 - 5, columns 2 and 7\n",
    "data.iloc[2:5, [2, 4]]"
   ]
  },
  {
   "cell_type": "code",
   "execution_count": null,
   "metadata": {
    "collapsed": false,
    "slideshow": {
     "slide_type": "fragment"
    }
   },
   "outputs": [],
   "source": [
    "  # # Label-bas  ed indexing; equivalent to data['vol']\n",
    "# # in this case\n",
    "data.loc[:, 'vol' ]"
   ]
  },
  {
   "cell_type": "markdown",
   "metadata": {
    "slideshow": {
     "slide_type": "subslide"
    }
   },
   "source": [
    "## Wrangling data in pandas\n",
    "* Pandas has a steep learning curve, but is very powerful\n",
    "* There's far too much to cover here, so we'll just cherry-pick an example or two\n",
    "* There are many excellent tutorials and guides (e.g., [1](http://www.gregreda.com/2013/10/26/intro-to-pandas-data-structures/), [2](http://synesthesiam.com/posts/an-introduction-to-pandas.html), [3](https://github.com/fonnesbeck/statistical-analysis-python-tutorial))"
   ]
  },
  {
   "cell_type": "code",
   "execution_count": null,
   "metadata": {
    "collapsed": false,
    "slideshow": {
     "slide_type": "fragment"
    }
   },
   "outputs": [],
   "source": [
    "# We'll use the Titanic passenger dataset.\n",
    "data = pd.read_csv('Titanic.csv')\n",
    "\n",
    "# If you don't have the data file locally, the following also works:\n",
    "# import seaborn as sns\n",
    "# data = sns.load_dataset('titanic')\n",
    "\n",
    "# head(N) shows the first N rows in a dataset\n",
    "data.head(10)"
   ]
  },
  {
   "cell_type": "code",
   "execution_count": null,
   "metadata": {
    "collapsed": false,
    "slideshow": {
     "slide_type": "subslide"
    }
   },
   "outputs": [],
   "source": [
    "# Describe the data\n",
    "data.describe()"
   ]
  },
  {
   "cell_type": "code",
   "execution_count": null,
   "metadata": {
    "collapsed": false,
    "slideshow": {
     "slide_type": "fragment"
    }
   },
   "outputs": [],
   "source": [
    "# Frequency count for a given column\n",
    "data['sibsp'].value_counts()"
   ]
  },
  {
   "cell_type": "code",
   "execution_count": null,
   "metadata": {
    "collapsed": false,
    "slideshow": {
     "slide_type": "fragment"
    }
   },
   "outputs": [],
   "source": [
    "# Recode binary categorical variables as ints\n",
    "\n",
    "# Make sure we're working with a clean dataset\n",
    "data = pd.read_csv('Titanic.csv')\n",
    "\n",
    "# Remind ourselves what the first 5 rows look like...\n",
    "print(data.head(5))\n",
    "\n",
    "# Identify columns that have only two unique values, and\n",
    "# are not already coded as booleans.\n",
    "check = data.apply(lambda x: x.nunique()==2) & (data.dtypes.values != int)\n",
    "to_recode = data.columns[check]\n",
    "\n",
    "# Loop through columns and binarize them, re-assigning back to\n",
    "# the original dataset.\n",
    "for col in list(to_recode):\n",
    "    data[col] = pd.get_dummies(data[col], drop_first=True)"
   ]
  },
  {
   "cell_type": "code",
   "execution_count": null,
   "metadata": {
    "collapsed": false
   },
   "outputs": [],
   "source": [
    "data.head()"
   ]
  },
  {
   "cell_type": "code",
   "execution_count": null,
   "metadata": {
    "collapsed": false,
    "slideshow": {
     "slide_type": "fragment"
    }
   },
   "outputs": [],
   "source": [
    "# Dummy-code # of siblings (i.e., get N b  inary columns)\n",
    "pd.get_dummies(data['sibsp'], prefix='num_sibs')"
   ]
  },
  {
   "cell_type": "markdown",
   "metadata": {
    "slideshow": {
     "slide_type": "subslide"
    }
   },
   "source": [
    "#### The [split-apply-combine](https://www.jstatsoft.org/article/view/v040i01/v40i01.pdf) pattern\n",
    "* A very common data processing strategy\n",
    "    * Split the dataset into groups\n",
    "    * Apply some operation(s) to each group\n",
    "    * (Optionally) combine back into one dataset\n",
    "* pandas provides powerful and fast tools for this"
   ]
  },
  {
   "cell_type": "code",
   "execution_count": null,
   "metadata": {
    "collapsed": false,
    "slideshow": {
     "slide_type": "fragment"
    }
   },
   "outputs": [],
   "source": [
    "# Calculate the mean age for each ticket class\n",
    "data.groupby('pclass')['age'].mean()"
   ]
  },
  {
   "cell_type": "code",
   "execution_count": null,
   "metadata": {
    "collapsed": false,
    "slideshow": {
     "slide_type": "fragment"
    }
   },
   "outputs": [],
   "source": [
    "# Age mean and stdev for each ticket class x sex combination\n",
    "data.groupby(['pclass', 'sex'])['age'].agg(['mean', 'std'])"
   ]
  },
  {
   "cell_type": "code",
   "execution_count": null,
   "metadata": {
    "collapsed": false,
    "slideshow": {
     "slide_type": "fragment"
    }
   },
   "outputs": [],
   "source": [
    "# Filter out all passengers who have more than 2 siblings on board\n",
    "print(data.shape)\n",
    "max_sibs = 2\n",
    "few_sibs = data.query('sibsp <= @max_sibs')\n",
    "## Equivalent to...\n",
    "# few_sibs = data[data['sibsp'] <= max_sibs]\n",
    "print(few_sibs.shape)"
   ]
  },
  {
   "cell_type": "code",
   "execution_count": null,
   "metadata": {
    "collapsed": false,
    "slideshow": {
     "slide_type": "fragment"
    }
   },
   "outputs": [],
   "source": [
    "# Filter out all ages that occur fewer than 5 times in the dataset\n",
    "common_ages = data.groupby('age').filter(lambda x: len(x) >= 5)\n",
    "common_ages['age'].value_counts()"
   ]
  },
  {
   "cell_type": "markdown",
   "metadata": {
    "slideshow": {
     "slide_type": "slide"
    }
   },
   "source": [
    "# Visualization in Python\n",
    "* That thing about a picture being worth...\n",
    "* Python has a rich visualization ecosystem\n",
    "* The primary platform for visualization in Python is [matplotlib](http://matplotlib.org/)\n",
    "* Most other visualization platforms build on matplotlib\n",
    "    * But see, e.g., [Bokeh](http://bokeh.pydata.org/en/latest/)\n"
   ]
  },
  {
   "cell_type": "markdown",
   "metadata": {
    "slideshow": {
     "slide_type": "subslide"
    }
   },
   "source": [
    "## Matplotlib\n",
    "* Highly object-oriented (contrast with, e.g., R)\n",
    "    * Easy to modify/customize plots created in different packages\n",
    "* Documentation is comprehensive, but not very well organized\n",
    "* Provides a basic set of high-level plots (barplot, scatter, etc.)\n",
    "* Beyond that, API has a fairly steep learning curve"
   ]
  },
  {
   "cell_type": "markdown",
   "metadata": {
    "collapsed": true,
    "slideshow": {
     "slide_type": "subslide"
    }
   },
   "source": [
    "### \"Simple\" examples"
   ]
  },
  {
   "cell_type": "code",
   "execution_count": null,
   "metadata": {
    "collapsed": false,
    "slideshow": {
     "slide_type": "fragment"
    }
   },
   "outputs": [],
   "source": [
    "# Import mpl and plot inline\n",
    "%matplotlib inline\n",
    "import matplotlib.pyplot as plt\n",
    "import numpy as np\n",
    "\n",
    "x = np.random.normal(size=100)\n",
    "y = x*0.8 + np.random.normal(size=100)\n",
    "plt.scatter(x, y, color='green', s=30)\n",
    "plt.xlabel(\"Hours spent using Nipype\", fontsize=16)\n",
    "plt.ylabel(\"Research productivity\", fontsize=16)\n",
    "plt.title(\"Benefits of Nipype\", fontsize=20)"
   ]
  },
  {
   "cell_type": "code",
   "execution_count": null,
   "metadata": {
    "collapsed": false,
    "slideshow": {
     "slide_type": "fragment"
    }
   },
   "outputs": [],
   "source": [
    "# Set up a figure with 3 columns\n",
    "fig, axes = plt.subplots(1, 3, figsize=(15, 4))\n",
    "\n",
    "# Scatter plot of age and fare\n",
    "axes[0].scatter(data['age'], data['fare'])\n",
    "axes[0].axis('off')\n",
    "\n",
    "# Survival rate by ticket class\n",
    "means = data.groupby('class')['survived'].mean()\n",
    "axes[1].bar(np.arange(len(means))+1, means)\n",
    "\n",
    "# Note how broken this is without additional code\n",
    "axes[1].set_xticklabels(means.index)\n",
    "\n",
    "# Same scatter  plot as in left panel, but splitting by sex\n",
    "colors = ['blue', 'green']\n",
    "for i, (s, grp) in enumerate(data.groupby('sex')):\n",
    "    axes[2].scatter(grp['age'], grp['fare'], c=colors[i])"
   ]
  },
  {
   "cell_type": "markdown",
   "metadata": {
    "slideshow": {
     "slide_type": "subslide"
    }
   },
   "source": [
    "## Customization in matplotlib\n",
    "* matplotlib is infinitely customizable\n",
    "* As in most modern plotting environments, you can do virtually anything\n",
    "* You just have to be willing to spend enough time on it"
   ]
  },
  {
   "cell_type": "markdown",
   "metadata": {
    "slideshow": {
     "slide_type": "fragment"
    }
   },
   "source": [
    "### Matplotlib styles\n",
    "<img src=\"https://raw.githubusercontent.com/rasbt/matplotlib-gallery/master/images/formatting_4.png\">\n",
    "https://twitter.com/rasbt/status/731205324187795457"
   ]
  },
  {
   "cell_type": "markdown",
   "metadata": {
    "slideshow": {
     "slide_type": "subslide"
    }
   },
   "source": [
    "### Pairwise scatter plots"
   ]
  },
  {
   "cell_type": "code",
   "execution_count": null,
   "metadata": {
    "collapsed": false,
    "slideshow": {
     "slide_type": "fragment"
    }
   },
   "outputs": [],
   "source": [
    "N_VARS = 5\n",
    "N_OBS = 100\n",
    "\n",
    "# Create a random covariate matrix\n",
    "a = np.random.normal(size=(N_VARS, N_VARS))\n",
    "cov = a.dot(a.T)\n",
    "\n",
    "# Sample 100 observations from multivariate normal distribution\n",
    "X = np.random.multivariate_normal(np.zeros(N_VARS), cov, size=N_OBS)\n",
    "\n",
    "# Plot pairwise scatter plots\n",
    "fig, axes = plt.subplots(N_VARS, N_VARS, figsize=(16, 16))\n",
    "\n",
    "for i in range(N_VARS):\n",
    "    # Scatter plots\n",
    "    for j in range(i+1, N_VARS):\n",
    "        axes[i, j].scatter(X[:, i], X[:, j])\n",
    "        axes[j, i].scatter(X[:, i], X[:, j])\n",
    "    # Histogram on the diagonal\n",
    "    axes[i, i].hist(X[:, i], bins=10)"
   ]
  },
  {
   "cell_type": "markdown",
   "metadata": {
    "slideshow": {
     "slide_type": "subslide"
    }
   },
   "source": [
    "## Plotting in seaborn\n",
    "* Seaborn is a high-level plotting library based on matplotlib\n",
    "* Designed to produce attractive figures in very little code\n",
    "* _Great_ [documentation](https://stanford.edu/~mwaskom/software/seaborn/index.html)\n",
    "* Most seaborn plotting functions accept pandas DataFrames\n",
    "* Complete customization of seaborn plots is possible using matplotlib"
   ]
  },
  {
   "cell_type": "code",
   "execution_count": null,
   "metadata": {
    "collapsed": false,
    "slideshow": {
     "slide_type": "subslide"
    }
   },
   "outputs": [],
   "source": [
    "# seaborn likes DataFrames, so put the numpy array in a DataFrame\n",
    "import seaborn as sns\n",
    "X_data = pd.DataFrame(X, columns=['col_%d' % i for i in range(X.shape[1])])\n",
    "\n",
    "# Plot!\n",
    "sns.pairplot(X_data);"
   ]
  },
  {
   "cell_type": "code",
   "execution_count": null,
   "metadata": {
    "collapsed": false,
    "slideshow": {
     "slide_type": "subslide"
    }
   },
   "outputs": [],
   "source": [
    "# We can get fancier...\n",
    "X_data['color'] = np.random.randint(3, size=len(X_data))\n",
    "sns.pairplot(X_data, vars=X_data.columns[:N_VARS], kind='reg', diag_kind='kde',\n",
    "             hue='color');"
   ]
  },
  {
   "cell_type": "code",
   "execution_count": null,
   "metadata": {
    "collapsed": false
   },
   "outputs": [],
   "source": [
    "# Get pairwise correlations between all numeric columns\n",
    "# in the Titanic data\n",
    "r = data.corr()\n",
    "\n",
    "with sns.plotting_context(\"notebook\", font_scale=1.2):\n",
    "    ax = sns.heatmap(r, annot=True)\n",
    "    ax.figure.set_size_inches((12, 9.5))"
   ]
  }
 ],
 "metadata": {
  "celltoolbar": "Slideshow",
  "kernelspec": {
   "display_name": "Python 3",
   "language": "python",
   "name": "python3"
  },
  "language_info": {
   "codemirror_mode": {
    "name": "ipython",
    "version": 3
   },
   "file_extension": ".py",
   "mimetype": "text/x-python",
   "name": "python",
   "nbconvert_exporter": "python",
   "pygments_lexer": "ipython3",
   "version": "3.5.2"
  }
 },
 "nbformat": 4,
 "nbformat_minor": 2
}
