{
 "cells": [
  {
   "cell_type": "code",
   "execution_count": 3,
   "metadata": {
    "collapsed": true,
    "deletable": true,
    "editable": true
   },
   "outputs": [],
   "source": [
    "import os\n",
    "from nipype import Workflow, Node, Function, MapNode, JoinNode, config\n",
    "config.enable_provenance()"
   ]
  },
  {
   "cell_type": "code",
   "execution_count": 4,
   "metadata": {
    "collapsed": true,
    "deletable": true,
    "editable": true
   },
   "outputs": [],
   "source": [
    "def sum(a,b):\n",
    "    return a + b\n",
    "\n",
    "def concat(a, b):\n",
    "    return [a, b]\n",
    "\n",
    "def plus_one(a):\n",
    "    return a + 1\n",
    "\n",
    "def merge_and_scale_data(data2):\n",
    "    import numpy as np\n",
    "    return (np.array(data2) * 1000).tolist()"
   ]
  },
  {
   "cell_type": "code",
   "execution_count": 5,
   "metadata": {
    "collapsed": false,
    "deletable": true,
    "editable": true
   },
   "outputs": [],
   "source": [
    "wf = Workflow('hello-world')"
   ]
  },
  {
   "cell_type": "code",
   "execution_count": 6,
   "metadata": {
    "collapsed": false,
    "deletable": true,
    "editable": true
   },
   "outputs": [],
   "source": [
    "adder = Node(Function(input_names=['a', 'b'],\n",
    "                     output_names=['sum'],\n",
    "                     function=sum), name='a_plus_b')\n",
    "\n",
    "'''\n",
    "concater = Node(Function(input_names=['a', 'b'],\n",
    "                     output_names=['some_list'],\n",
    "                     function=concat), name='concat_a_b')\n",
    "\n",
    "plusone = MapNode(Function(input_names=['a'],\n",
    "                     output_names=['out'],\n",
    "                     function=plus_one), \n",
    "                  iterfield=['a'],\n",
    "                  name='add_1')\n",
    "'''\n",
    "\n",
    "\n",
    "joiner = JoinNode(Function(input_names=['data2'],\n",
    "                          output_names=['data_scaled'],\n",
    "                          function=merge_and_scale_data),\n",
    "                 name='join_scale_data',\n",
    "                 joinsource=adder,\n",
    "                 joinfield=['data2'])"
   ]
  },
  {
   "cell_type": "code",
   "execution_count": 7,
   "metadata": {
    "collapsed": false,
    "deletable": true,
    "editable": true
   },
   "outputs": [],
   "source": [
    "adder.iterables = ('a', [1, 2])\n",
    "adder.inputs.b = 2\n",
    "\n",
    "'''\n",
    "wf.connect(adder, 'sum', concater, 'a')\n",
    "concater.inputs.b = 3\n",
    "\n",
    "wf.connect(concater, 'some_list', plusone, 'a')\n",
    "'''\n",
    "\n",
    "wf.connect(adder, 'sum', joiner, 'data2')"
   ]
  },
  {
   "cell_type": "code",
   "execution_count": 8,
   "metadata": {
    "collapsed": true,
    "deletable": true,
    "editable": true
   },
   "outputs": [],
   "source": [
    "# wf.add_nodes([adder])"
   ]
  },
  {
   "cell_type": "code",
   "execution_count": 9,
   "metadata": {
    "collapsed": false,
    "deletable": true,
    "editable": true
   },
   "outputs": [],
   "source": [
    "wf.base_dir = os.getcwd()\n",
    "eg = wf.run(plugin='MultiProc', plugin_args={'n_procs': 2})"
   ]
  },
  {
   "cell_type": "code",
   "execution_count": 10,
   "metadata": {
    "collapsed": false,
    "deletable": true,
    "editable": true
   },
   "outputs": [
    {
     "data": {
      "text/plain": [
       "[hello-world.a_plus_b.aI.a0,\n",
       " hello-world.a_plus_b.aI.a1,\n",
       " hello-world.join_scale_data]"
      ]
     },
     "execution_count": 10,
     "metadata": {},
     "output_type": "execute_result"
    }
   ],
   "source": [
    "eg.nodes()"
   ]
  },
  {
   "cell_type": "code",
   "execution_count": 11,
   "metadata": {
    "collapsed": false,
    "deletable": true,
    "editable": true
   },
   "outputs": [
    {
     "name": "stdout",
     "output_type": "stream",
     "text": [
      "01_download.ipynb\t hello-world\r\n",
      "02_inferfaces.ipynb\t hello-world.ipynb\r\n",
      "03_nodes.ipynb\t\t index.ipynb\r\n",
      "04_workflows.ipynb\t workflow_provenance_20160724T023217.provn\r\n",
      "05_load_save_data.ipynb  workflow_provenance_20160724T023248.provn\r\n",
      "06_iterables.ipynb\t workflow_provenance_20160724T023448.provn\r\n",
      "data\t\t\t workflow_provenance_20160724T023448.trig\r\n"
     ]
    }
   ],
   "source": [
    "!ls"
   ]
  },
  {
   "cell_type": "code",
   "execution_count": 43,
   "metadata": {
    "collapsed": false,
    "deletable": true,
    "editable": true
   },
   "outputs": [
    {
     "name": "stdout",
     "output_type": "stream",
     "text": [
      "\r\n",
      "\r\n",
      "File: crash-20160724-011821-main-add_1-3c81a7f7-d8f3-415f-bbf0-8a66e236de15.pklz\r\n",
      "Node: hello-world.add_1\r\n",
      "Working directory: /home/main/notebooks/notebooks/hello-world/add_1\r\n",
      "\r\n",
      "\r\n",
      "Node inputs:\r\n",
      "\r\n",
      "a = [3, 3]\r\n",
      "function_str = def plus_one(a):\r\n",
      "    return a + 1\r\n",
      "\r\n",
      "ignore_exception = False\r\n",
      "\r\n",
      "\r\n",
      "\r\n",
      "Traceback: \r\n",
      "Traceback (most recent call last):\r\n",
      "  File \"/home/main/anaconda2/lib/python2.7/site-packages/nipype/pipeline/plugins/linear.py\", line 39, in run\r\n",
      "    node.run(updatehash=updatehash)\r\n",
      "  File \"/home/main/anaconda2/lib/python2.7/site-packages/nipype/pipeline/engine/nodes.py\", line 394, in run\r\n",
      "    self._run_interface()\r\n",
      "  File \"/home/main/anaconda2/lib/python2.7/site-packages/nipype/pipeline/engine/nodes.py\", line 504, in _run_interface\r\n",
      "    self._result = self._run_command(execute)\r\n",
      "  File \"/home/main/anaconda2/lib/python2.7/site-packages/nipype/pipeline/engine/nodes.py\", line 630, in _run_command\r\n",
      "    result = self._interface.run()\r\n",
      "  File \"/home/main/anaconda2/lib/python2.7/site-packages/nipype/interfaces/base.py\", line 1034, in run\r\n",
      "    runtime = self._run_wrapper(runtime)\r\n",
      "  File \"/home/main/anaconda2/lib/python2.7/site-packages/nipype/interfaces/base.py\", line 991, in _run_wrapper\r\n",
      "    runtime = self._run_interface(runtime)\r\n",
      "  File \"/home/main/anaconda2/lib/python2.7/site-packages/nipype/interfaces/utility.py\", line 496, in _run_interface\r\n",
      "    raise out\r\n",
      "TypeError: can only concatenate list (not \"int\") to list\r\n",
      "Interface Function failed to run. \r\n",
      "\r\n",
      "\r\n",
      "\r\n"
     ]
    }
   ],
   "source": [
    "!nipype_display_crash crash-20160724-011821-main-add_1-3c81a7f7-d8f3-415f-bbf0-8a66e236de15.pklz"
   ]
  },
  {
   "cell_type": "code",
   "execution_count": 13,
   "metadata": {
    "collapsed": false,
    "deletable": true,
    "editable": true
   },
   "outputs": [
    {
     "data": {
      "text/plain": [
       "<Graph identifier=file:///home/main/notebooks/notebooks/workflow_provenance_20160724T023448.trig (<class 'rdflib.graph.Graph'>)>"
      ]
     },
     "execution_count": 13,
     "metadata": {},
     "output_type": "execute_result"
    }
   ],
   "source": [
    "import rdflib as rl\n",
    "g = rl.ConjunctiveGraph()\n",
    "g.parse('workflow_provenance_20160724T023448.trig', format='trig')"
   ]
  },
  {
   "cell_type": "code",
   "execution_count": 14,
   "metadata": {
    "collapsed": true,
    "deletable": true,
    "editable": true
   },
   "outputs": [],
   "source": [
    "query = \"\"\"\n",
    "PREFIX prov: <http://www.w3.org/ns/prov#>\n",
    "PREFIX niiri: <http://iri.nidash.org/>\n",
    "PREFIX nipype: <http://nipy.org/nipype/terms/>\n",
    "\n",
    "# Find all activities that were involved in producing a file\n",
    "SELECT ?alabel ?a_id ?blabel ?b_id\n",
    "WHERE {\n",
    "\n",
    "    ?a prov:qualifiedStart [ prov:starter ?b] .\n",
    "    ?a_id a prov:Bundle;\n",
    "        prov:wasGeneratedBy ?a .\n",
    "    ?b_id a prov:Bundle;\n",
    "        prov:wasGeneratedBy ?b .\n",
    "    ?a rdfs:label ?alabel .\n",
    "    ?b rdfs:label ?blabel .\n",
    "}\n",
    "\"\"\""
   ]
  },
  {
   "cell_type": "code",
   "execution_count": 15,
   "metadata": {
    "collapsed": false,
    "deletable": true,
    "editable": true
   },
   "outputs": [
    {
     "name": "stdout",
     "output_type": "stream",
     "text": [
      "alabel,a_id,blabel,b_id\r\n",
      "Function_join_scale_data,http://iri.nidash.org/30d0a36c514711e6ac830a580af40a0b,Function_a_plus_b,http://iri.nidash.org/30cda05e514711e6ac830a580af40a0b\r\n",
      "Function_join_scale_data,http://iri.nidash.org/30d0a36c514711e6ac830a580af40a0b,Function_a_plus_b,http://iri.nidash.org/30cf1be6514711e6ac830a580af40a0b\r\n",
      "\n"
     ]
    }
   ],
   "source": [
    "res = g.query(query)\n",
    "print(res.serialize(format='csv'))"
   ]
  },
  {
   "cell_type": "code",
   "execution_count": 16,
   "metadata": {
    "collapsed": false,
    "deletable": true,
    "editable": true
   },
   "outputs": [
    {
     "data": {
      "text/plain": [
       "{'http://iri.nidash.org/30cda05e514711e6ac830a580af40a0b': [],\n",
       " 'http://iri.nidash.org/30cf1be6514711e6ac830a580af40a0b': [],\n",
       " 'http://iri.nidash.org/30d0a36c514711e6ac830a580af40a0b': ['http://iri.nidash.org/30cda05e514711e6ac830a580af40a0b',\n",
       "  'http://iri.nidash.org/30cf1be6514711e6ac830a580af40a0b']}"
      ]
     },
     "execution_count": 16,
     "metadata": {},
     "output_type": "execute_result"
    }
   ],
   "source": [
    "graph_list = {}\n",
    "for item in res.bindings:\n",
    "    b_id = str(item['b_id'])\n",
    "    a_id = str(item['a_id'])\n",
    "    if a_id not in graph_list:\n",
    "        graph_list[a_id] = []\n",
    "    if b_id not in graph_list:\n",
    "        graph_list[b_id] = []\n",
    "    if b_id not in graph_list[a_id]:\n",
    "        graph_list[a_id].append(b_id)\n",
    "graph_list"
   ]
  },
  {
   "cell_type": "code",
   "execution_count": 17,
   "metadata": {
    "collapsed": true,
    "deletable": true,
    "editable": true
   },
   "outputs": [],
   "source": [
    "input_query = \"\"\"\n",
    "PREFIX prov: <http://www.w3.org/ns/prov#>\n",
    "PREFIX niiri: <http://iri.nidash.org/>\n",
    "PREFIX nipype: <http://nipy.org/nipype/terms/>\n",
    "\n",
    "# Find all activities that were involved in producing a file\n",
    "SELECT ?in_port ?val ?in\n",
    "WHERE {\n",
    "    GRAPH <%s>\n",
    "    {\n",
    "    \n",
    "    ?ic a nipype:Inputs;\n",
    "        prov:hadMember ?in .\n",
    "    ?in prov:value ?val .\n",
    "    ?act prov:qualifiedUsage ?qual .\n",
    "    ?qual nipype:inPort ?in_port; \n",
    "          prov:entity ?in .\n",
    "    } .\n",
    "}\n",
    "\"\"\""
   ]
  },
  {
   "cell_type": "code",
   "execution_count": 18,
   "metadata": {
    "collapsed": false,
    "deletable": true,
    "editable": true
   },
   "outputs": [
    {
     "name": "stdout",
     "output_type": "stream",
     "text": [
      "in_port,val,in\r\n",
      "ignore_exception,0,http://iri.nidash.org/9ec227a6f740d9ba54614c67f6f65e89\r\n",
      "b,2,http://iri.nidash.org/f2674a4bd5d68a3c564b887c54369ff2\r\n",
      "a,2,http://iri.nidash.org/f2674a4bd5d68a3c564b887c54369ff2\r\n",
      "function_str,\"def sum(a,b):\n",
      "    return a + b\n",
      "\",http://iri.nidash.org/6e9ca8e35b79884a37bcefe4402e222a\r\n",
      "\n"
     ]
    }
   ],
   "source": [
    "res = g.query(input_query % graph_list.keys()[0])\n",
    "print(res.serialize(format='csv'))"
   ]
  },
  {
   "cell_type": "code",
   "execution_count": 19,
   "metadata": {
    "collapsed": true,
    "deletable": true,
    "editable": true
   },
   "outputs": [],
   "source": [
    "output_query = \"\"\"\n",
    "PREFIX prov: <http://www.w3.org/ns/prov#>\n",
    "PREFIX niiri: <http://iri.nidash.org/>\n",
    "PREFIX nipype: <http://nipy.org/nipype/terms/>\n",
    "\n",
    "# Find all activities that were involved in producing a file\n",
    "SELECT ?out_port ?val ?out\n",
    "WHERE {\n",
    "    GRAPH <%s>\n",
    "    {\n",
    "    \n",
    "    ?oc a nipype:Outputs;\n",
    "        prov:hadMember ?out;\n",
    "        prov:wasGeneratedBy ?act .\n",
    "    ?out prov:value ?val .\n",
    "    ?out prov:qualifiedGeneration ?qual .\n",
    "    ?qual nipype:outPort ?out_port; \n",
    "          prov:activity ?act .\n",
    "    } .\n",
    "}\n",
    "\"\"\""
   ]
  },
  {
   "cell_type": "code",
   "execution_count": 20,
   "metadata": {
    "collapsed": false,
    "deletable": true,
    "editable": true
   },
   "outputs": [
    {
     "name": "stdout",
     "output_type": "stream",
     "text": [
      "out_port,val,out\r\n",
      "sum,4,http://iri.nidash.org/5a554bd80b84b2a803d081008e96be30\r\n",
      "\n"
     ]
    }
   ],
   "source": [
    "res = g.query(output_query % graph_list.keys()[0])\n",
    "print(res.serialize(format='csv'))"
   ]
  },
  {
   "cell_type": "code",
   "execution_count": 21,
   "metadata": {
    "collapsed": false,
    "deletable": true,
    "editable": true
   },
   "outputs": [
    {
     "name": "stdout",
     "output_type": "stream",
     "text": [
      "Node id: http://iri.nidash.org/30cf1be6514711e6ac830a580af40a0b\n",
      "Inputs\n",
      "in_port,val,in\r\n",
      "ignore_exception,0,http://iri.nidash.org/9ec227a6f740d9ba54614c67f6f65e89\r\n",
      "b,2,http://iri.nidash.org/f2674a4bd5d68a3c564b887c54369ff2\r\n",
      "a,2,http://iri.nidash.org/f2674a4bd5d68a3c564b887c54369ff2\r\n",
      "function_str,\"def sum(a,b):\n",
      "    return a + b\n",
      "\",http://iri.nidash.org/6e9ca8e35b79884a37bcefe4402e222a\r\n",
      "\n",
      "Outputs\n",
      "out_port,val,out\r\n",
      "sum,4,http://iri.nidash.org/5a554bd80b84b2a803d081008e96be30\r\n",
      "\n",
      "Node id: http://iri.nidash.org/30cda05e514711e6ac830a580af40a0b\n",
      "Inputs\n",
      "in_port,val,in\r\n",
      "function_str,\"def sum(a,b):\n",
      "    return a + b\n",
      "\",http://iri.nidash.org/6e9ca8e35b79884a37bcefe4402e222a\r\n",
      "b,2,http://iri.nidash.org/f2674a4bd5d68a3c564b887c54369ff2\r\n",
      "ignore_exception,0,http://iri.nidash.org/9ec227a6f740d9ba54614c67f6f65e89\r\n",
      "a,1,http://iri.nidash.org/e5692843450c8e664dfe4b40a35647de\r\n",
      "\n",
      "Outputs\n",
      "out_port,val,out\r\n",
      "sum,4,http://iri.nidash.org/5a554bd80b84b2a803d081008e96be30\r\n",
      "\n",
      "Node id: http://iri.nidash.org/30d0a36c514711e6ac830a580af40a0b\n",
      "Inputs\n",
      "in_port,val,in\r\n",
      "data2,\"[3, 4]\",http://iri.nidash.org/f66428b68d6f34c423ce9ca417b3e33b\r\n",
      "ignore_exception,0,http://iri.nidash.org/9ec227a6f740d9ba54614c67f6f65e89\r\n",
      "function_str,\"def merge_and_scale_data(data2):\n",
      "    import numpy as np\n",
      "    return (np.array(data2) * 1000).tolist()\n",
      "\",http://iri.nidash.org/7f972116128031b2a38ae957dfc29f7d\r\n",
      "\n",
      "Outputs\n",
      "out_port,val,out\r\n",
      "sum,4,http://iri.nidash.org/5a554bd80b84b2a803d081008e96be30\r\n",
      "\n"
     ]
    }
   ],
   "source": [
    "for graph in graph_list:\n",
    "    print(\"Node id: %s\" % graph)\n",
    "    print('Inputs')\n",
    "    res = g.query(input_query % graph)\n",
    "    print(res.serialize(format='csv'))\n",
    "    print('Outputs')\n",
    "    res = g.query(output_query % graph_list.keys()[0])\n",
    "    print(res.serialize(format='csv'))"
   ]
  },
  {
   "cell_type": "code",
   "execution_count": null,
   "metadata": {
    "collapsed": true,
    "deletable": true,
    "editable": true
   },
   "outputs": [],
   "source": []
  }
 ],
 "metadata": {
  "kernelspec": {
   "display_name": "Python 3",
   "language": "python",
   "name": "python3"
  },
  "language_info": {
   "codemirror_mode": {
    "name": "ipython",
    "version": 3
   },
   "file_extension": ".py",
   "mimetype": "text/x-python",
   "name": "python",
   "nbconvert_exporter": "python",
   "pygments_lexer": "ipython3",
   "version": "3.5.2"
  }
 },
 "nbformat": 4,
 "nbformat_minor": 0
}
