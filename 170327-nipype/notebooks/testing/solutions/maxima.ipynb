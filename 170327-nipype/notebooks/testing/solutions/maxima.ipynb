{
 "cells": [
  {
   "cell_type": "code",
   "execution_count": null,
   "metadata": {
    "collapsed": true,
    "deletable": true,
    "editable": true
   },
   "outputs": [],
   "source": [
    "# a function that returns positions of local maxima in a list of numbers\n",
    "def find_maxima(list_of_numbers):\n",
    "    maxima = []\n",
    "    if list_of_numbers[0] > list_of_numbers[1]:\n",
    "        maxima.append(0)\n",
    "    for i in range(1, len(list_of_numbers)-1):\n",
    "        if list_of_numbers[i-1] < list_of_numbers[i] > list_of_numbers[i+1]:\n",
    "                maxima.append(i)\n",
    "    if list_of_numbers[-1] > list_of_numbers[-2]:\n",
    "        maxima.append(len(list_of_numbers)-1)\n",
    "    return maxima\n",
    "                "
   ]
  },
  {
   "cell_type": "code",
   "execution_count": null,
   "metadata": {
    "collapsed": true,
    "deletable": true,
    "editable": true
   },
   "outputs": [],
   "source": [
    "# testing the function for four lists\n",
    "def test_maxima():\n",
    "    inputs = [[1, 2, 1, 0], [-1, 2, 1, 3, 2], [4, 3, 4, 3], [1, 2, 3]]\n",
    "    expected_maxima = [[1], [1, 3], [0, 2], [2]]\n",
    "    for i in range(len(inputs)):\n",
    "        assert find_maxima(inputs[i]) == expected_maxima[i]"
   ]
  },
  {
   "cell_type": "code",
   "execution_count": null,
   "metadata": {
    "collapsed": false,
    "deletable": true,
    "editable": true
   },
   "outputs": [],
   "source": [
    "test_maxima()"
   ]
  },
  {
   "cell_type": "code",
   "execution_count": null,
   "metadata": {
    "collapsed": true,
    "deletable": true,
    "editable": true
   },
   "outputs": [],
   "source": []
  }
 ],
 "metadata": {
  "anaconda-cloud": {},
  "kernelspec": {
   "display_name": "Python 3",
   "language": "python",
   "name": "python3"
  },
  "language_info": {
   "codemirror_mode": {
    "name": "ipython",
    "version": 3
   },
   "file_extension": ".py",
   "mimetype": "text/x-python",
   "name": "python",
   "nbconvert_exporter": "python",
   "pygments_lexer": "ipython3",
   "version": "3.5.2"
  }
 },
 "nbformat": 4,
 "nbformat_minor": 1
}
