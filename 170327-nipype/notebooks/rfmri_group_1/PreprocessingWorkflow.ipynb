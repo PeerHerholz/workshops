{
 "cells": [
  {
   "cell_type": "code",
   "execution_count": 5,
   "metadata": {
    "collapsed": true,
    "deletable": true,
    "editable": true
   },
   "outputs": [],
   "source": [
    "# Import workflow elements\n",
    "from nipype import Node, Workflow\n",
    "from nipype.interfaces import fsl"
   ]
  },
  {
   "cell_type": "code",
   "execution_count": 6,
   "metadata": {
    "collapsed": true,
    "deletable": true,
    "editable": true
   },
   "outputs": [],
   "source": [
    "# Import necessary interfaces\n",
    "node_bet = Node(fsl.BET(functional=True), name='fsl_bet')\n",
    "node_mcflirt =Node(preprocess.MCFLIRT(),name='custom_mcflirt')\n"
   ]
  },
  {
   "cell_type": "code",
   "execution_count": 7,
   "metadata": {
    "collapsed": true
   },
   "outputs": [],
   "source": [
    "# Initiation of a workflow\n",
    "wf = Workflow(name=\"group_workflow\")"
   ]
  },
  {
   "cell_type": "code",
   "execution_count": 8,
   "metadata": {},
   "outputs": [],
   "source": [
    "# First the \"simple\", but more restricted method\n",
    "wf.connect(node_bet, \"out_file\", node_mcflirt, \"in_file\")\n"
   ]
  },
  {
   "cell_type": "code",
   "execution_count": 12,
   "metadata": {},
   "outputs": [],
   "source": [
    "wf.inputs.fsl_bet.in_file='/home/jovyan/work/data/ds000114/sub-01/func/sub-01_task-fingerfootlips_bold.nii.gz'\n",
    "wf.base_dir='/home/jovyan/work/outputs'"
   ]
  },
  {
   "cell_type": "code",
   "execution_count": 13,
   "metadata": {},
   "outputs": [
    {
     "name": "stdout",
     "output_type": "stream",
     "text": [
      "170329-15:05:44,684 workflow INFO:\n",
      "\t Workflow group_workflow settings: ['check', 'execution', 'logging']\n",
      "170329-15:05:44,725 workflow INFO:\n",
      "\t Running serially.\n",
      "170329-15:05:44,732 workflow INFO:\n",
      "\t Executing node fsl_bet in dir: /home/jovyan/work/outputs/group_workflow/fsl_bet\n",
      "170329-15:05:44,789 workflow INFO:\n",
      "\t Running: bet /home/jovyan/work/data/ds000114/sub-01/func/sub-01_task-fingerfootlips_bold.nii.gz /home/jovyan/work/outputs/group_workflow/fsl_bet/sub-01_task-fingerfootlips_bold_brain.nii.gz -F\n",
      "170329-15:05:53,580 workflow INFO:\n",
      "\t Executing node custom_mcflirt in dir: /home/jovyan/work/outputs/group_workflow/custom_mcflirt\n",
      "170329-15:05:53,626 workflow INFO:\n",
      "\t Running: mcflirt -in /home/jovyan/work/outputs/group_workflow/fsl_bet/sub-01_task-fingerfootlips_bold_brain.nii.gz -out /home/jovyan/work/outputs/group_workflow/custom_mcflirt/sub-01_task-fingerfootlips_bold_brain_mcf.nii.gz\n"
     ]
    },
    {
     "data": {
      "text/plain": [
       "<networkx.classes.digraph.DiGraph at 0x7f398b7110f0>"
      ]
     },
     "execution_count": 13,
     "metadata": {},
     "output_type": "execute_result"
    }
   ],
   "source": [
    "wf.run()"
   ]
  },
  {
   "cell_type": "code",
   "execution_count": null,
   "metadata": {},
   "outputs": [],
   "source": []
  }
 ],
 "metadata": {
  "kernelspec": {
   "display_name": "Python 3",
   "language": "python",
   "name": "python3"
  },
  "language_info": {
   "codemirror_mode": {
    "name": "ipython",
    "version": 3
   },
   "file_extension": ".py",
   "mimetype": "text/x-python",
   "name": "python",
   "nbconvert_exporter": "python",
   "pygments_lexer": "ipython3",
   "version": "3.5.2"
  }
 },
 "nbformat": 4,
 "nbformat_minor": 2
}
