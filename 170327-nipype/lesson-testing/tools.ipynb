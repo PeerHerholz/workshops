{
 "cells": [
  {
   "cell_type": "code",
   "execution_count": null,
   "metadata": {
    "collapsed": false
   },
   "outputs": [],
   "source": [
    "def mean_diameter(radius):\n",
    "    diameter = 2 * radius\n",
    "    return sum(diameter) / len(diameter)"
   ]
  },
  {
   "cell_type": "code",
   "execution_count": null,
   "metadata": {
    "collapsed": false
   },
   "outputs": [],
   "source": [
    "assert mean_diameter([3, 4, 5]) == 8"
   ]
  },
  {
   "cell_type": "code",
   "execution_count": null,
   "metadata": {
    "collapsed": false
   },
   "outputs": [],
   "source": [
    "assert mean_diameter([3, 4, 5]) == 8, \"function returns wrong values\""
   ]
  },
  {
   "cell_type": "code",
   "execution_count": null,
   "metadata": {
    "collapsed": false
   },
   "outputs": [],
   "source": [
    "import unittest\n",
    "\n",
    "class TestDiv(unittest.TestCase):\n",
    "    def test_div5(self):\n",
    "        self.assertEqual(mean_diameter([3, 4, 5]), 8)\n",
    "\n",
    "unittest.main(argv=['will_be_ignored'], exit=False)\n",
    "\n",
    "# if you run python script (not ipython notebook):\n",
    "#if __name__ == ’__main__’:\n",
    "#    unittest.main()"
   ]
  },
  {
   "cell_type": "code",
   "execution_count": null,
   "metadata": {
    "collapsed": false
   },
   "outputs": [],
   "source": [
    "%reload_ext ipython_pytest"
   ]
  },
  {
   "cell_type": "code",
   "execution_count": null,
   "metadata": {
    "collapsed": false
   },
   "outputs": [],
   "source": [
    "%%pytest\n",
    "\n",
    "def mean_diameter(radius):\n",
    "    diameter = 2 * radius\n",
    "    return sum(diameter) / len(diameter)\n",
    "\n",
    "def test_with_pytest():\n",
    "    assert mean_diameter([3, 4, 5]) == 8, \"function returns wrong values\""
   ]
  },
  {
   "cell_type": "code",
   "execution_count": null,
   "metadata": {
    "collapsed": true
   },
   "outputs": [],
   "source": []
  }
 ],
 "metadata": {
  "anaconda-cloud": {},
  "kernelspec": {
   "display_name": "Python [conda env:py35]",
   "language": "python",
   "name": "conda-env-py35-py"
  },
  "language_info": {
   "codemirror_mode": {
    "name": "ipython",
    "version": 3
   },
   "file_extension": ".py",
   "mimetype": "text/x-python",
   "name": "python",
   "nbconvert_exporter": "python",
   "pygments_lexer": "ipython3",
   "version": "3.5.2"
  }
 },
 "nbformat": 4,
 "nbformat_minor": 1
}
