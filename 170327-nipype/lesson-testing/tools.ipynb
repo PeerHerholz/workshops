{
 "cells": [
  {
   "cell_type": "code",
   "execution_count": 45,
   "metadata": {
    "collapsed": false
   },
   "outputs": [],
   "source": [
    "def mean_diameter(radius):\n",
    "    diameter = 2 * radius\n",
    "    return sum(diameter) / len(diameter)"
   ]
  },
  {
   "cell_type": "code",
   "execution_count": 46,
   "metadata": {
    "collapsed": false
   },
   "outputs": [
    {
     "ename": "AssertionError",
     "evalue": "",
     "output_type": "error",
     "traceback": [
      "\u001b[0;31m---------------------------------------------------------------------------\u001b[0m",
      "\u001b[0;31mAssertionError\u001b[0m                            Traceback (most recent call last)",
      "\u001b[0;32m<ipython-input-46-6361edd385be>\u001b[0m in \u001b[0;36m<module>\u001b[0;34m()\u001b[0m\n\u001b[0;32m----> 1\u001b[0;31m \u001b[0;32massert\u001b[0m \u001b[0mmean_diameter\u001b[0m\u001b[0;34m(\u001b[0m\u001b[0;34m[\u001b[0m\u001b[0;36m3\u001b[0m\u001b[0;34m,\u001b[0m \u001b[0;36m4\u001b[0m\u001b[0;34m,\u001b[0m \u001b[0;36m5\u001b[0m\u001b[0;34m]\u001b[0m\u001b[0;34m)\u001b[0m \u001b[0;34m==\u001b[0m \u001b[0;36m8\u001b[0m\u001b[0;34m\u001b[0m\u001b[0m\n\u001b[0m",
      "\u001b[0;31mAssertionError\u001b[0m: "
     ]
    }
   ],
   "source": [
    "assert mean_diameter([3, 4, 5]) == 8"
   ]
  },
  {
   "cell_type": "code",
   "execution_count": 47,
   "metadata": {
    "collapsed": false
   },
   "outputs": [
    {
     "ename": "AssertionError",
     "evalue": "function returns wrong values",
     "output_type": "error",
     "traceback": [
      "\u001b[0;31m---------------------------------------------------------------------------\u001b[0m",
      "\u001b[0;31mAssertionError\u001b[0m                            Traceback (most recent call last)",
      "\u001b[0;32m<ipython-input-47-113182d14c6b>\u001b[0m in \u001b[0;36m<module>\u001b[0;34m()\u001b[0m\n\u001b[0;32m----> 1\u001b[0;31m \u001b[0;32massert\u001b[0m \u001b[0mmean_diameter\u001b[0m\u001b[0;34m(\u001b[0m\u001b[0;34m[\u001b[0m\u001b[0;36m3\u001b[0m\u001b[0;34m,\u001b[0m \u001b[0;36m4\u001b[0m\u001b[0;34m,\u001b[0m \u001b[0;36m5\u001b[0m\u001b[0;34m]\u001b[0m\u001b[0;34m)\u001b[0m \u001b[0;34m==\u001b[0m \u001b[0;36m8\u001b[0m\u001b[0;34m,\u001b[0m \u001b[0;34m\"function returns wrong values\"\u001b[0m\u001b[0;34m\u001b[0m\u001b[0m\n\u001b[0m",
      "\u001b[0;31mAssertionError\u001b[0m: function returns wrong values"
     ]
    }
   ],
   "source": [
    "assert mean_diameter([3, 4, 5]) == 8, \"function returns wrong values\""
   ]
  },
  {
   "cell_type": "code",
   "execution_count": 49,
   "metadata": {
    "collapsed": false
   },
   "outputs": [
    {
     "name": "stderr",
     "output_type": "stream",
     "text": [
      "F\n",
      "======================================================================\n",
      "FAIL: test_div5 (__main__.TestDiv)\n",
      "----------------------------------------------------------------------\n",
      "Traceback (most recent call last):\n",
      "  File \"<ipython-input-49-68267c120a99>\", line 5, in test_div5\n",
      "    self.assertEqual(mean_diameter([3, 4, 5]), 8)\n",
      "AssertionError: 4.0 != 8\n",
      "\n",
      "----------------------------------------------------------------------\n",
      "Ran 1 test in 0.001s\n",
      "\n",
      "FAILED (failures=1)\n"
     ]
    },
    {
     "data": {
      "text/plain": [
       "<unittest.main.TestProgram at 0x1073e1048>"
      ]
     },
     "execution_count": 49,
     "metadata": {},
     "output_type": "execute_result"
    }
   ],
   "source": [
    "import unittest\n",
    "\n",
    "class TestDiv(unittest.TestCase):\n",
    "    def test_div5(self):\n",
    "        self.assertEqual(mean_diameter([3, 4, 5]), 8)\n",
    "\n",
    "unittest.main(argv=['will_be_ignored'], exit=False)\n",
    "\n",
    "# if you run python script (not ipython notebook):\n",
    "#if __name__ == ’__main__’:\n",
    "#    unittest.main()"
   ]
  },
  {
   "cell_type": "code",
   "execution_count": 50,
   "metadata": {
    "collapsed": false
   },
   "outputs": [],
   "source": [
    "%reload_ext ipython_pytest"
   ]
  },
  {
   "cell_type": "code",
   "execution_count": 51,
   "metadata": {
    "collapsed": false
   },
   "outputs": [
    {
     "name": "stdout",
     "output_type": "stream",
     "text": [
      "======================================================== test session starts ========================================================\n",
      "platform darwin -- Python 3.5.2, pytest-2.9.2, py-1.4.31, pluggy-0.3.1\n",
      "rootdir: /private/var/folders/5s/hk2j7ylx54b2clm9bx1mpvj00000gq/T/tmpfq8b7vue, inifile: \n",
      "collected 1 items\n",
      "\n",
      "_ipytesttmp.py F\n",
      "\n",
      "============================================================= FAILURES ==============================================================\n",
      "_________________________________________________________ test_with_pytest __________________________________________________________\n",
      "\n",
      "    def test_with_pytest():\n",
      ">       assert mean_diameter([3, 4, 5]) == 8, \"function returns wrong values\"\n",
      "E       AssertionError: function returns wrong values\n",
      "E       assert 4.0 == 8\n",
      "E        +  where 4.0 = mean_diameter([3, 4, 5])\n",
      "\n",
      "_ipytesttmp.py:7: AssertionError\n",
      "===================================================== 1 failed in 0.03 seconds ======================================================\n"
     ]
    }
   ],
   "source": [
    "%%pytest\n",
    "\n",
    "def mean_diameter(radius):\n",
    "    diameter = 2 * radius\n",
    "    return sum(diameter) / len(diameter)\n",
    "\n",
    "def test_with_pytest():\n",
    "    assert mean_diameter([3, 4, 5]) == 8, \"function returns wrong values\""
   ]
  },
  {
   "cell_type": "code",
   "execution_count": null,
   "metadata": {
    "collapsed": true
   },
   "outputs": [],
   "source": []
  }
 ],
 "metadata": {
  "anaconda-cloud": {},
  "kernelspec": {
   "display_name": "Python [conda env:py35]",
   "language": "python",
   "name": "conda-env-py35-py"
  },
  "language_info": {
   "codemirror_mode": {
    "name": "ipython",
    "version": 3
   },
   "file_extension": ".py",
   "mimetype": "text/x-python",
   "name": "python",
   "nbconvert_exporter": "python",
   "pygments_lexer": "ipython3",
   "version": "3.5.2"
  }
 },
 "nbformat": 4,
 "nbformat_minor": 1
}
