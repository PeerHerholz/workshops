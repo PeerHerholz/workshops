{
 "cells": [
  {
   "cell_type": "code",
   "execution_count": null,
   "metadata": {
    "collapsed": false
   },
   "outputs": [],
   "source": [
    "%load_ext ipython_pytest"
   ]
  },
  {
   "cell_type": "code",
   "execution_count": null,
   "metadata": {
    "collapsed": false,
    "nbpresent": {
     "id": "d0adfd78-01e1-4623-983a-bbf53a9bb858"
    }
   },
   "outputs": [],
   "source": [
    "%%pytest\n",
    "\n",
    "import os\n",
    "from nipype import Workflow, Node, Function\n",
    "import pytest\n",
    "\n",
    "\n",
    "def workflow(inp_a, inp_b):\n",
    "\n",
    "    def sum(a, b):\n",
    "        if type(a) is list:\n",
    "            return [i+b for i in a]\n",
    "        else:\n",
    "            return a + b\n",
    "\n",
    "    wf = Workflow('hello')\n",
    "\n",
    "    adder = Node(Function(input_names=['a', 'b'],\n",
    "                          output_names=['sum'],\n",
    "                          function=sum), \n",
    "                 name='a_plus_b')\n",
    "\n",
    "    adder.inputs.a = inp_a\n",
    "    adder.inputs.b = inp_b\n",
    "\n",
    "    wf.add_nodes([adder])\n",
    "\n",
    "    wf.base_dir = os.getcwd()\n",
    "\n",
    "    eg = wf.run()\n",
    "\n",
    "    return eg.nodes()[0].result.outputs\n",
    "\n",
    "@pytest.mark.parametrize(\"arg_a, arg_b, expected\", [\n",
    "        ([3,2], 4, [7,6]), \n",
    "        (2, 4, 6),\n",
    "        pytest.mark.xfail(([3,2], [4,1], [7,3]))\n",
    "                            ])\n",
    "def test_workflow(arg_a, arg_b, expected):\n",
    "    assert workflow(arg_a, arg_b).sum == expected\n",
    "\n",
    "#your_sum = workflow(3, 4)\n",
    "#print(\"output of the workflow: \", your_sum.sum)"
   ]
  }
 ],
 "metadata": {
  "anaconda-cloud": {},
  "kernelspec": {
   "display_name": "Python 3",
   "language": "python",
   "name": "python3"
  },
  "language_info": {
   "codemirror_mode": {
    "name": "ipython",
    "version": 3
   },
   "file_extension": ".py",
   "mimetype": "text/x-python",
   "name": "python",
   "nbconvert_exporter": "python",
   "pygments_lexer": "ipython3",
   "version": "3.5.2"
  },
  "nbpresent": {
   "slides": {
    "036d9e6d-9014-47e8-ba8c-b7ff491d356e": {
     "id": "036d9e6d-9014-47e8-ba8c-b7ff491d356e",
     "prev": "cc6fa21e-5b8f-44a7-8578-5b58255c0e2b",
     "regions": {
      "69d658c5-3412-4410-96aa-45fbc91e3950": {
       "attrs": {
        "height": 0.8,
        "width": 0.8,
        "x": 0.1,
        "y": 0.1
       },
       "content": {
        "cell": "dcbff777-e05b-43d3-9da3-805207eadb71",
        "part": "whole"
       },
       "id": "69d658c5-3412-4410-96aa-45fbc91e3950"
      }
     }
    },
    "0c3953f2-86d8-4e97-9ffd-02a8377e10c6": {
     "id": "0c3953f2-86d8-4e97-9ffd-02a8377e10c6",
     "prev": "5e629ace-5a9f-4bf2-a295-82901f752daa",
     "regions": {
      "16206fd5-e557-4f6c-8077-e824b87eff4f": {
       "attrs": {
        "height": 0.8,
        "width": 0.8,
        "x": 0.1,
        "y": 0.1
       },
       "content": {
        "cell": "b7a0948a-2f3d-4be5-af22-e8796ab22131",
        "part": "whole"
       },
       "id": "16206fd5-e557-4f6c-8077-e824b87eff4f"
      }
     }
    },
    "1a0083a8-471b-4869-bcb3-c33c81524a2c": {
     "id": "1a0083a8-471b-4869-bcb3-c33c81524a2c",
     "prev": "43c259c6-ec65-4243-8a95-d2a976c6daca",
     "regions": {
      "5907abd6-0b04-4f6d-acd1-1f11dd39c7a2": {
       "attrs": {
        "height": 0.8,
        "width": 0.8,
        "x": 0.1,
        "y": 0.1
       },
       "content": {
        "cell": "c8cbc820-d362-422e-9fdf-79d6ae6af560",
        "part": "whole"
       },
       "id": "5907abd6-0b04-4f6d-acd1-1f11dd39c7a2"
      }
     }
    },
    "32034499-40cf-4318-91f1-aeccdfbba380": {
     "id": "32034499-40cf-4318-91f1-aeccdfbba380",
     "prev": null,
     "regions": {
      "845af035-2d72-4258-b5da-d611edc1ba86": {
       "attrs": {
        "height": 0.8,
        "width": 0.8,
        "x": 0.1,
        "y": 0.1
       },
       "content": {
        "cell": "ef0d4a65-1e86-4570-bd56-0e683df3cc72",
        "part": "whole"
       },
       "id": "845af035-2d72-4258-b5da-d611edc1ba86"
      }
     }
    },
    "43c259c6-ec65-4243-8a95-d2a976c6daca": {
     "id": "43c259c6-ec65-4243-8a95-d2a976c6daca",
     "prev": "76d40b89-085e-44b3-89b4-46f17db1746f",
     "regions": {
      "8192ec05-8445-4c92-9a84-d60610754d06": {
       "attrs": {
        "height": 0.8,
        "width": 0.8,
        "x": 0.1,
        "y": 0.1
       },
       "content": {
        "cell": "9798f6be-09b9-4cb9-8c63-1f10e4d1040c",
        "part": "whole"
       },
       "id": "8192ec05-8445-4c92-9a84-d60610754d06"
      }
     }
    },
    "5288be26-b5af-48c6-8687-ff3bb55e83a9": {
     "id": "5288be26-b5af-48c6-8687-ff3bb55e83a9",
     "prev": "32034499-40cf-4318-91f1-aeccdfbba380",
     "regions": {
      "8247975a-6621-4c12-b3f0-016a235a34b2": {
       "attrs": {
        "height": 0.8,
        "width": 0.8,
        "x": 0.1,
        "y": 0.1
       },
       "content": {
        "cell": "f834221c-3c73-47ce-b36e-ba3f17bd3d60",
        "part": "whole"
       },
       "id": "8247975a-6621-4c12-b3f0-016a235a34b2"
      }
     }
    },
    "5e629ace-5a9f-4bf2-a295-82901f752daa": {
     "id": "5e629ace-5a9f-4bf2-a295-82901f752daa",
     "prev": "dcc3de5f-dfc5-4a35-a583-474dbac5a5ad",
     "regions": {
      "c8fc9ec8-974e-426c-9d36-f55673eee3c4": {
       "attrs": {
        "height": 0.8,
        "width": 0.8,
        "x": 0.1,
        "y": 0.1
       },
       "content": {
        "cell": "2da7d103-ba49-495d-b986-6ef655b2a010",
        "part": "whole"
       },
       "id": "c8fc9ec8-974e-426c-9d36-f55673eee3c4"
      }
     }
    },
    "69c3997a-020c-4288-ba41-da053c70c853": {
     "id": "69c3997a-020c-4288-ba41-da053c70c853",
     "prev": "d2a3e23f-46b6-4f0b-b96b-5341e8a368b0",
     "regions": {
      "5cbcbcde-1087-410d-ac46-bc5d403927ff": {
       "attrs": {
        "height": 0.8,
        "width": 0.8,
        "x": 0.1,
        "y": 0.1
       },
       "content": {
        "cell": "e03280a7-f6b0-48d8-a1a3-c38dd0a93cc2",
        "part": "whole"
       },
       "id": "5cbcbcde-1087-410d-ac46-bc5d403927ff"
      }
     }
    },
    "6e1b1fd9-f600-4262-8bfa-0b6ef6d2ab33": {
     "id": "6e1b1fd9-f600-4262-8bfa-0b6ef6d2ab33",
     "prev": "b5c8cdf1-c521-4830-bdc7-537f4e33974c",
     "regions": {
      "7047358c-1619-4db4-84b5-b3c9f6a4165d": {
       "attrs": {
        "height": 0.8,
        "width": 0.8,
        "x": 0.1,
        "y": 0.1
       },
       "content": {
        "cell": "6361e837-5e6f-4df9-aff6-d20c5909af56",
        "part": "whole"
       },
       "id": "7047358c-1619-4db4-84b5-b3c9f6a4165d"
      }
     }
    },
    "748fa336-fe68-4ec9-879a-18b4c253938b": {
     "id": "748fa336-fe68-4ec9-879a-18b4c253938b",
     "prev": "862ab379-822c-4a94-9433-1b527b2a592d",
     "regions": {
      "2ef88b5d-a61b-4476-a554-36864af7db8e": {
       "attrs": {
        "height": 0.8,
        "width": 0.8,
        "x": 0.1,
        "y": 0.1
       },
       "content": {
        "cell": "1592d986-e07f-4ac0-a06e-c9a3917e30b4",
        "part": "whole"
       },
       "id": "2ef88b5d-a61b-4476-a554-36864af7db8e"
      }
     }
    },
    "76d40b89-085e-44b3-89b4-46f17db1746f": {
     "id": "76d40b89-085e-44b3-89b4-46f17db1746f",
     "prev": "edfccc6e-2b4e-4131-a730-eaa191ff7c81",
     "regions": {
      "939a8941-0ea4-4b62-abbb-05f8b793a5fb": {
       "attrs": {
        "height": 0.8,
        "width": 0.8,
        "x": 0.1,
        "y": 0.1
       },
       "content": {
        "cell": "2ff6c266-4437-4d37-9464-c1573b13ae51",
        "part": "whole"
       },
       "id": "939a8941-0ea4-4b62-abbb-05f8b793a5fb"
      }
     }
    },
    "862ab379-822c-4a94-9433-1b527b2a592d": {
     "id": "862ab379-822c-4a94-9433-1b527b2a592d",
     "prev": "6e1b1fd9-f600-4262-8bfa-0b6ef6d2ab33",
     "regions": {
      "34178cde-c66f-4413-a29d-57c5e60794ed": {
       "attrs": {
        "height": 0.8,
        "width": 0.8,
        "x": 0.1,
        "y": 0.1
       },
       "content": {
        "cell": "bfe919e8-bad6-488f-a01f-ed7c3a7319b7",
        "part": "whole"
       },
       "id": "34178cde-c66f-4413-a29d-57c5e60794ed"
      }
     }
    },
    "8cf4d2aa-9b35-469a-8226-74ab47621c35": {
     "id": "8cf4d2aa-9b35-469a-8226-74ab47621c35",
     "prev": "748fa336-fe68-4ec9-879a-18b4c253938b",
     "regions": {
      "197ef43c-c849-43c3-a6c4-31fd5cd99838": {
       "attrs": {
        "height": 0.8,
        "width": 0.8,
        "x": 0.1,
        "y": 0.1
       },
       "content": {
        "cell": "07b2fb00-3ed4-4a86-8313-7873048021ec",
        "part": "whole"
       },
       "id": "197ef43c-c849-43c3-a6c4-31fd5cd99838"
      }
     }
    },
    "a81e9008-d57d-4aaf-86f0-ffe067287baa": {
     "id": "a81e9008-d57d-4aaf-86f0-ffe067287baa",
     "prev": "5288be26-b5af-48c6-8687-ff3bb55e83a9",
     "regions": {
      "970554aa-ab29-48b9-88f6-9ada37e60548": {
       "attrs": {
        "height": 0.8,
        "width": 0.8,
        "x": 0.1,
        "y": 0.1
       },
       "content": {
        "cell": "bb1cfcc5-5cbf-4097-b8a9-fe4d74ce6bcd",
        "part": "whole"
       },
       "id": "970554aa-ab29-48b9-88f6-9ada37e60548"
      }
     }
    },
    "aee840ab-b7c4-48d7-b6ad-ce867f878951": {
     "id": "aee840ab-b7c4-48d7-b6ad-ce867f878951",
     "prev": "69c3997a-020c-4288-ba41-da053c70c853",
     "regions": {
      "c668f127-028b-4a6e-9410-81abe6a38e95": {
       "attrs": {
        "height": 0.8,
        "width": 0.8,
        "x": 0.1,
        "y": 0.1
       },
       "content": {
        "cell": "055c7435-88f1-45db-9562-63d5f910cac3",
        "part": "whole"
       },
       "id": "c668f127-028b-4a6e-9410-81abe6a38e95"
      }
     }
    },
    "af2fe30f-1cda-4d2e-8a5a-3e265b4b404f": {
     "id": "af2fe30f-1cda-4d2e-8a5a-3e265b4b404f",
     "prev": "a81e9008-d57d-4aaf-86f0-ffe067287baa",
     "regions": {
      "180abf91-afcd-4265-846d-bfd7e4fd1850": {
       "attrs": {
        "height": 0.8,
        "width": 0.8,
        "x": 0.1,
        "y": 0.1
       },
       "content": {
        "cell": "9a460e90-6929-4ec6-8fa6-d7dacb45e00a",
        "part": "whole"
       },
       "id": "180abf91-afcd-4265-846d-bfd7e4fd1850"
      }
     }
    },
    "b5c8cdf1-c521-4830-bdc7-537f4e33974c": {
     "id": "b5c8cdf1-c521-4830-bdc7-537f4e33974c",
     "prev": "dbe3527e-cafa-4fc2-b863-99954c2e4e00",
     "regions": {
      "2ff95d44-ba2e-4b0d-b50d-0cb12468769d": {
       "attrs": {
        "height": 0.8,
        "width": 0.8,
        "x": 0.1,
        "y": 0.1
       },
       "content": {
        "cell": "4c118e06-0dd3-44cf-8246-48b4abb06787",
        "part": "whole"
       },
       "id": "2ff95d44-ba2e-4b0d-b50d-0cb12468769d"
      }
     }
    },
    "cc6fa21e-5b8f-44a7-8578-5b58255c0e2b": {
     "id": "cc6fa21e-5b8f-44a7-8578-5b58255c0e2b",
     "prev": "af2fe30f-1cda-4d2e-8a5a-3e265b4b404f",
     "regions": {
      "87874474-0c2f-47cc-bfe2-f7d5f9b49900": {
       "attrs": {
        "height": 0.8,
        "width": 0.8,
        "x": 0.1,
        "y": 0.1
       },
       "content": {
        "cell": "d0adfd78-01e1-4623-983a-bbf53a9bb858",
        "part": "whole"
       },
       "id": "87874474-0c2f-47cc-bfe2-f7d5f9b49900"
      }
     }
    },
    "cf197342-f78a-4bf5-9b68-6f1430575593": {
     "id": "cf197342-f78a-4bf5-9b68-6f1430575593",
     "prev": "036d9e6d-9014-47e8-ba8c-b7ff491d356e",
     "regions": {
      "95c558ad-28b2-4c98-9ce2-22d80fd97f1b": {
       "attrs": {
        "height": 0.8,
        "width": 0.8,
        "x": 0.1,
        "y": 0.1
       },
       "content": {
        "cell": "f3a955ec-34a2-4a29-bdf8-e0dd8df57cf5",
        "part": "whole"
       },
       "id": "95c558ad-28b2-4c98-9ce2-22d80fd97f1b"
      }
     }
    },
    "d2a3e23f-46b6-4f0b-b96b-5341e8a368b0": {
     "id": "d2a3e23f-46b6-4f0b-b96b-5341e8a368b0",
     "prev": "0c3953f2-86d8-4e97-9ffd-02a8377e10c6",
     "regions": {
      "486a31bf-5c58-4c67-b54d-d45e839167e7": {
       "attrs": {
        "height": 0.8,
        "width": 0.8,
        "x": 0.1,
        "y": 0.1
       },
       "content": {
        "cell": "e68b3f8a-ab55-4045-b8d3-7007a30a527b",
        "part": "whole"
       },
       "id": "486a31bf-5c58-4c67-b54d-d45e839167e7"
      }
     }
    },
    "dbe3527e-cafa-4fc2-b863-99954c2e4e00": {
     "id": "dbe3527e-cafa-4fc2-b863-99954c2e4e00",
     "prev": "cf197342-f78a-4bf5-9b68-6f1430575593",
     "regions": {
      "3625ea9c-9bc9-4a2c-9d40-f230922b1edc": {
       "attrs": {
        "height": 0.8,
        "width": 0.8,
        "x": 0.1,
        "y": 0.1
       },
       "content": {
        "cell": "23672ce7-3781-4144-925a-cc9367dec01d",
        "part": "whole"
       },
       "id": "3625ea9c-9bc9-4a2c-9d40-f230922b1edc"
      }
     }
    },
    "dcc3de5f-dfc5-4a35-a583-474dbac5a5ad": {
     "id": "dcc3de5f-dfc5-4a35-a583-474dbac5a5ad",
     "prev": "1a0083a8-471b-4869-bcb3-c33c81524a2c",
     "regions": {
      "104371ee-397d-4b6d-bb3e-4ec826b2aa27": {
       "attrs": {
        "height": 0.8,
        "width": 0.8,
        "x": 0.1,
        "y": 0.1
       },
       "content": {
        "cell": "6fba065c-c3c5-4c79-a2a3-75e6a2198776",
        "part": "whole"
       },
       "id": "104371ee-397d-4b6d-bb3e-4ec826b2aa27"
      }
     }
    },
    "edfccc6e-2b4e-4131-a730-eaa191ff7c81": {
     "id": "edfccc6e-2b4e-4131-a730-eaa191ff7c81",
     "prev": "8cf4d2aa-9b35-469a-8226-74ab47621c35",
     "regions": {
      "6fa263a6-0bdd-4517-b49b-32da55d66d87": {
       "attrs": {
        "height": 0.8,
        "width": 0.8,
        "x": 0.1,
        "y": 0.1
       },
       "content": {
        "cell": "ac097fd1-7c4a-41ad-bcdb-f3ba93b58d36",
        "part": "whole"
       },
       "id": "6fa263a6-0bdd-4517-b49b-32da55d66d87"
      }
     }
    }
   },
   "themes": {}
  }
 },
 "nbformat": 4,
 "nbformat_minor": 0
}
